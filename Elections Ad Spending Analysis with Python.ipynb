{
 "cells": [
  {
   "cell_type": "code",
   "execution_count": 31,
   "id": "3327c5af-406e-4ea8-b8c1-10d65ba4423e",
   "metadata": {},
   "outputs": [
    {
     "data": {
      "text/html": [
       "<div>\n",
       "<style scoped>\n",
       "    .dataframe tbody tr th:only-of-type {\n",
       "        vertical-align: middle;\n",
       "    }\n",
       "\n",
       "    .dataframe tbody tr th {\n",
       "        vertical-align: top;\n",
       "    }\n",
       "\n",
       "    .dataframe thead th {\n",
       "        text-align: right;\n",
       "    }\n",
       "</style>\n",
       "<table border=\"1\" class=\"dataframe\">\n",
       "  <thead>\n",
       "    <tr style=\"text-align: right;\">\n",
       "      <th></th>\n",
       "      <th>_id</th>\n",
       "      <th>Sl No</th>\n",
       "      <th>State</th>\n",
       "      <th>PC_Name</th>\n",
       "      <th>Total Electors</th>\n",
       "      <th>Polled (%)</th>\n",
       "      <th>Total Votes</th>\n",
       "      <th>Phase</th>\n",
       "    </tr>\n",
       "  </thead>\n",
       "  <tbody>\n",
       "    <tr>\n",
       "      <th>0</th>\n",
       "      <td>1</td>\n",
       "      <td>1.0</td>\n",
       "      <td>Andaman &amp; Nicobar Islands</td>\n",
       "      <td>Andaman &amp; Nicobar Islands</td>\n",
       "      <td>315148</td>\n",
       "      <td>64.10</td>\n",
       "      <td>202018</td>\n",
       "      <td>1.0</td>\n",
       "    </tr>\n",
       "    <tr>\n",
       "      <th>1</th>\n",
       "      <td>2</td>\n",
       "      <td>2.0</td>\n",
       "      <td>Arunachal Pradesh</td>\n",
       "      <td>Arunachal East</td>\n",
       "      <td>375310</td>\n",
       "      <td>83.31</td>\n",
       "      <td>312658</td>\n",
       "      <td>1.0</td>\n",
       "    </tr>\n",
       "    <tr>\n",
       "      <th>2</th>\n",
       "      <td>3</td>\n",
       "      <td>3.0</td>\n",
       "      <td>Arunachal Pradesh</td>\n",
       "      <td>Arunachal West</td>\n",
       "      <td>517384</td>\n",
       "      <td>73.60</td>\n",
       "      <td>380783</td>\n",
       "      <td>1.0</td>\n",
       "    </tr>\n",
       "    <tr>\n",
       "      <th>3</th>\n",
       "      <td>4</td>\n",
       "      <td>4.0</td>\n",
       "      <td>Assam</td>\n",
       "      <td>Dibrugarh</td>\n",
       "      <td>1659588</td>\n",
       "      <td>76.75</td>\n",
       "      <td>1273744</td>\n",
       "      <td>1.0</td>\n",
       "    </tr>\n",
       "    <tr>\n",
       "      <th>4</th>\n",
       "      <td>5</td>\n",
       "      <td>5.0</td>\n",
       "      <td>Assam</td>\n",
       "      <td>Jorhat</td>\n",
       "      <td>1727121</td>\n",
       "      <td>79.89</td>\n",
       "      <td>1379749</td>\n",
       "      <td>1.0</td>\n",
       "    </tr>\n",
       "  </tbody>\n",
       "</table>\n",
       "</div>"
      ],
      "text/plain": [
       "   _id  Sl No                      State                    PC_Name  \\\n",
       "0    1    1.0  Andaman & Nicobar Islands  Andaman & Nicobar Islands   \n",
       "1    2    2.0          Arunachal Pradesh             Arunachal East   \n",
       "2    3    3.0          Arunachal Pradesh             Arunachal West   \n",
       "3    4    4.0                      Assam                  Dibrugarh   \n",
       "4    5    5.0                      Assam                     Jorhat   \n",
       "\n",
       "   Total Electors  Polled (%)  Total Votes  Phase  \n",
       "0          315148       64.10       202018    1.0  \n",
       "1          375310       83.31       312658    1.0  \n",
       "2          517384       73.60       380783    1.0  \n",
       "3         1659588       76.75      1273744    1.0  \n",
       "4         1727121       79.89      1379749    1.0  "
      ]
     },
     "execution_count": 31,
     "metadata": {},
     "output_type": "execute_result"
    }
   ],
   "source": [
    "import pandas as pd\n",
    "\n",
    "results = pd.read_csv(r\"C:\\Users\\hp\\Projects\\Elections Ad Spending Analysis with Python\\results.csv\")\n",
    "advertiser = pd.read_csv(r\"C:\\Users\\hp\\Projects\\Elections Ad Spending Analysis with Python\\advertisers.csv\")\n",
    "locations = pd.read_csv(r\"C:\\Users\\hp\\Projects\\Elections Ad Spending Analysis with Python\\locations.csv\")\n",
    "\n",
    "results.head()\n",
    "\n",
    "\n",
    "\n"
   ]
  },
  {
   "cell_type": "code",
   "execution_count": 87,
   "id": "a47a2c26-1611-4efa-ba44-1c0e50e85e2b",
   "metadata": {},
   "outputs": [
    {
     "data": {
      "text/html": [
       "<div>\n",
       "<style scoped>\n",
       "    .dataframe tbody tr th:only-of-type {\n",
       "        vertical-align: middle;\n",
       "    }\n",
       "\n",
       "    .dataframe tbody tr th {\n",
       "        vertical-align: top;\n",
       "    }\n",
       "\n",
       "    .dataframe thead th {\n",
       "        text-align: right;\n",
       "    }\n",
       "</style>\n",
       "<table border=\"1\" class=\"dataframe\">\n",
       "  <thead>\n",
       "    <tr style=\"text-align: right;\">\n",
       "      <th></th>\n",
       "      <th>Page ID</th>\n",
       "      <th>Page name</th>\n",
       "      <th>Disclaimer</th>\n",
       "      <th>Amount spent (INR)</th>\n",
       "      <th>Number of ads in Library</th>\n",
       "    </tr>\n",
       "  </thead>\n",
       "  <tbody>\n",
       "    <tr>\n",
       "      <th>0</th>\n",
       "      <td>121439954563203</td>\n",
       "      <td>Bharatiya Janata Party (BJP)</td>\n",
       "      <td>Bharatiya Janata Party (BJP)</td>\n",
       "      <td>193854342</td>\n",
       "      <td>43455</td>\n",
       "    </tr>\n",
       "    <tr>\n",
       "      <th>1</th>\n",
       "      <td>351616078284404</td>\n",
       "      <td>Indian National Congress</td>\n",
       "      <td>Indian National Congress</td>\n",
       "      <td>108787100</td>\n",
       "      <td>846</td>\n",
       "    </tr>\n",
       "    <tr>\n",
       "      <th>2</th>\n",
       "      <td>132715103269897</td>\n",
       "      <td>Ama Chinha Sankha Chinha</td>\n",
       "      <td>Ama Chinha Sankha Chinha</td>\n",
       "      <td>73361399</td>\n",
       "      <td>1799</td>\n",
       "    </tr>\n",
       "    <tr>\n",
       "      <th>3</th>\n",
       "      <td>192856493908290</td>\n",
       "      <td>Ama Chinha Sankha Chinha</td>\n",
       "      <td>Ama Chinha Sankha Chinha</td>\n",
       "      <td>32294327</td>\n",
       "      <td>680</td>\n",
       "    </tr>\n",
       "    <tr>\n",
       "      <th>4</th>\n",
       "      <td>109470364774303</td>\n",
       "      <td>Ellorum Nammudan</td>\n",
       "      <td>Populus Empowerment Network Private Limited</td>\n",
       "      <td>22399499</td>\n",
       "      <td>879</td>\n",
       "    </tr>\n",
       "  </tbody>\n",
       "</table>\n",
       "</div>"
      ],
      "text/plain": [
       "           Page ID                     Page name  \\\n",
       "0  121439954563203  Bharatiya Janata Party (BJP)   \n",
       "1  351616078284404      Indian National Congress   \n",
       "2  132715103269897      Ama Chinha Sankha Chinha   \n",
       "3  192856493908290      Ama Chinha Sankha Chinha   \n",
       "4  109470364774303              Ellorum Nammudan   \n",
       "\n",
       "                                    Disclaimer Amount spent (INR)  \\\n",
       "0                 Bharatiya Janata Party (BJP)          193854342   \n",
       "1                     Indian National Congress          108787100   \n",
       "2                     Ama Chinha Sankha Chinha           73361399   \n",
       "3                     Ama Chinha Sankha Chinha           32294327   \n",
       "4  Populus Empowerment Network Private Limited           22399499   \n",
       "\n",
       "   Number of ads in Library  \n",
       "0                     43455  \n",
       "1                       846  \n",
       "2                      1799  \n",
       "3                       680  \n",
       "4                       879  "
      ]
     },
     "execution_count": 87,
     "metadata": {},
     "output_type": "execute_result"
    }
   ],
   "source": [
    "advertiser.head()\n"
   ]
  },
  {
   "cell_type": "code",
   "execution_count": 27,
   "id": "177ec44d-2b8e-42f8-aa8c-9110d21742c9",
   "metadata": {},
   "outputs": [
    {
     "data": {
      "text/html": [
       "<div>\n",
       "<style scoped>\n",
       "    .dataframe tbody tr th:only-of-type {\n",
       "        vertical-align: middle;\n",
       "    }\n",
       "\n",
       "    .dataframe tbody tr th {\n",
       "        vertical-align: top;\n",
       "    }\n",
       "\n",
       "    .dataframe thead th {\n",
       "        text-align: right;\n",
       "    }\n",
       "</style>\n",
       "<table border=\"1\" class=\"dataframe\">\n",
       "  <thead>\n",
       "    <tr style=\"text-align: right;\">\n",
       "      <th></th>\n",
       "      <th>Location name</th>\n",
       "      <th>Amount spent (INR)</th>\n",
       "    </tr>\n",
       "  </thead>\n",
       "  <tbody>\n",
       "    <tr>\n",
       "      <th>0</th>\n",
       "      <td>Andaman and Nicobar Islands</td>\n",
       "      <td>377858</td>\n",
       "    </tr>\n",
       "    <tr>\n",
       "      <th>1</th>\n",
       "      <td>Andhra Pradesh</td>\n",
       "      <td>100819732</td>\n",
       "    </tr>\n",
       "    <tr>\n",
       "      <th>2</th>\n",
       "      <td>Arunachal Pradesh</td>\n",
       "      <td>1385654</td>\n",
       "    </tr>\n",
       "    <tr>\n",
       "      <th>3</th>\n",
       "      <td>Assam</td>\n",
       "      <td>17478091</td>\n",
       "    </tr>\n",
       "    <tr>\n",
       "      <th>4</th>\n",
       "      <td>Bihar</td>\n",
       "      <td>53619242</td>\n",
       "    </tr>\n",
       "  </tbody>\n",
       "</table>\n",
       "</div>"
      ],
      "text/plain": [
       "                 Location name  Amount spent (INR)\n",
       "0  Andaman and Nicobar Islands              377858\n",
       "1               Andhra Pradesh           100819732\n",
       "2            Arunachal Pradesh             1385654\n",
       "3                        Assam            17478091\n",
       "4                        Bihar            53619242"
      ]
     },
     "execution_count": 27,
     "metadata": {},
     "output_type": "execute_result"
    }
   ],
   "source": [
    "locations.head()"
   ]
  },
  {
   "cell_type": "code",
   "execution_count": 45,
   "id": "3a20d196-3a2c-4427-be28-a4c741f5e72b",
   "metadata": {},
   "outputs": [
    {
     "data": {
      "text/html": [
       "<div>\n",
       "<style scoped>\n",
       "    .dataframe tbody tr th:only-of-type {\n",
       "        vertical-align: middle;\n",
       "    }\n",
       "\n",
       "    .dataframe tbody tr th {\n",
       "        vertical-align: top;\n",
       "    }\n",
       "\n",
       "    .dataframe thead th {\n",
       "        text-align: right;\n",
       "    }\n",
       "</style>\n",
       "<table border=\"1\" class=\"dataframe\">\n",
       "  <thead>\n",
       "    <tr style=\"text-align: right;\">\n",
       "      <th></th>\n",
       "      <th>_id</th>\n",
       "      <th>Sl No</th>\n",
       "      <th>State</th>\n",
       "      <th>PC_Name</th>\n",
       "      <th>Total Electors</th>\n",
       "      <th>Polled (%)</th>\n",
       "      <th>Total Votes</th>\n",
       "      <th>Phase</th>\n",
       "      <th>Location name</th>\n",
       "      <th>Amount spent (INR)</th>\n",
       "    </tr>\n",
       "  </thead>\n",
       "  <tbody>\n",
       "    <tr>\n",
       "      <th>0</th>\n",
       "      <td>1</td>\n",
       "      <td>1.0</td>\n",
       "      <td>andaman &amp; nicobar islands</td>\n",
       "      <td>Andaman &amp; Nicobar Islands</td>\n",
       "      <td>315148</td>\n",
       "      <td>64.10</td>\n",
       "      <td>202018</td>\n",
       "      <td>1.0</td>\n",
       "      <td>NaN</td>\n",
       "      <td>NaN</td>\n",
       "    </tr>\n",
       "    <tr>\n",
       "      <th>1</th>\n",
       "      <td>2</td>\n",
       "      <td>2.0</td>\n",
       "      <td>arunachal pradesh</td>\n",
       "      <td>Arunachal East</td>\n",
       "      <td>375310</td>\n",
       "      <td>83.31</td>\n",
       "      <td>312658</td>\n",
       "      <td>1.0</td>\n",
       "      <td>arunachal pradesh</td>\n",
       "      <td>1385654.0</td>\n",
       "    </tr>\n",
       "    <tr>\n",
       "      <th>2</th>\n",
       "      <td>3</td>\n",
       "      <td>3.0</td>\n",
       "      <td>arunachal pradesh</td>\n",
       "      <td>Arunachal West</td>\n",
       "      <td>517384</td>\n",
       "      <td>73.60</td>\n",
       "      <td>380783</td>\n",
       "      <td>1.0</td>\n",
       "      <td>arunachal pradesh</td>\n",
       "      <td>1385654.0</td>\n",
       "    </tr>\n",
       "    <tr>\n",
       "      <th>3</th>\n",
       "      <td>4</td>\n",
       "      <td>4.0</td>\n",
       "      <td>assam</td>\n",
       "      <td>Dibrugarh</td>\n",
       "      <td>1659588</td>\n",
       "      <td>76.75</td>\n",
       "      <td>1273744</td>\n",
       "      <td>1.0</td>\n",
       "      <td>assam</td>\n",
       "      <td>17478091.0</td>\n",
       "    </tr>\n",
       "    <tr>\n",
       "      <th>4</th>\n",
       "      <td>5</td>\n",
       "      <td>5.0</td>\n",
       "      <td>assam</td>\n",
       "      <td>Jorhat</td>\n",
       "      <td>1727121</td>\n",
       "      <td>79.89</td>\n",
       "      <td>1379749</td>\n",
       "      <td>1.0</td>\n",
       "      <td>assam</td>\n",
       "      <td>17478091.0</td>\n",
       "    </tr>\n",
       "    <tr>\n",
       "      <th>5</th>\n",
       "      <td>6</td>\n",
       "      <td>6.0</td>\n",
       "      <td>assam</td>\n",
       "      <td>Kaziranga</td>\n",
       "      <td>2050126</td>\n",
       "      <td>79.33</td>\n",
       "      <td>1626408</td>\n",
       "      <td>1.0</td>\n",
       "      <td>assam</td>\n",
       "      <td>17478091.0</td>\n",
       "    </tr>\n",
       "    <tr>\n",
       "      <th>6</th>\n",
       "      <td>7</td>\n",
       "      <td>7.0</td>\n",
       "      <td>assam</td>\n",
       "      <td>Lakhimpur</td>\n",
       "      <td>1577234</td>\n",
       "      <td>76.42</td>\n",
       "      <td>1205331</td>\n",
       "      <td>1.0</td>\n",
       "      <td>assam</td>\n",
       "      <td>17478091.0</td>\n",
       "    </tr>\n",
       "    <tr>\n",
       "      <th>7</th>\n",
       "      <td>8</td>\n",
       "      <td>8.0</td>\n",
       "      <td>assam</td>\n",
       "      <td>Sonitpur</td>\n",
       "      <td>1633800</td>\n",
       "      <td>78.46</td>\n",
       "      <td>1281959</td>\n",
       "      <td>1.0</td>\n",
       "      <td>assam</td>\n",
       "      <td>17478091.0</td>\n",
       "    </tr>\n",
       "    <tr>\n",
       "      <th>8</th>\n",
       "      <td>9</td>\n",
       "      <td>9.0</td>\n",
       "      <td>bihar</td>\n",
       "      <td>Aurangabad</td>\n",
       "      <td>1871564</td>\n",
       "      <td>50.35</td>\n",
       "      <td>942382</td>\n",
       "      <td>1.0</td>\n",
       "      <td>bihar</td>\n",
       "      <td>53619242.0</td>\n",
       "    </tr>\n",
       "    <tr>\n",
       "      <th>9</th>\n",
       "      <td>10</td>\n",
       "      <td>10.0</td>\n",
       "      <td>bihar</td>\n",
       "      <td>Gaya</td>\n",
       "      <td>1816815</td>\n",
       "      <td>52.76</td>\n",
       "      <td>958623</td>\n",
       "      <td>1.0</td>\n",
       "      <td>bihar</td>\n",
       "      <td>53619242.0</td>\n",
       "    </tr>\n",
       "    <tr>\n",
       "      <th>10</th>\n",
       "      <td>11</td>\n",
       "      <td>11.0</td>\n",
       "      <td>bihar</td>\n",
       "      <td>Jamui</td>\n",
       "      <td>1907126</td>\n",
       "      <td>51.25</td>\n",
       "      <td>977369</td>\n",
       "      <td>1.0</td>\n",
       "      <td>bihar</td>\n",
       "      <td>53619242.0</td>\n",
       "    </tr>\n",
       "    <tr>\n",
       "      <th>11</th>\n",
       "      <td>12</td>\n",
       "      <td>12.0</td>\n",
       "      <td>bihar</td>\n",
       "      <td>Nawada</td>\n",
       "      <td>2006124</td>\n",
       "      <td>43.17</td>\n",
       "      <td>866102</td>\n",
       "      <td>1.0</td>\n",
       "      <td>bihar</td>\n",
       "      <td>53619242.0</td>\n",
       "    </tr>\n",
       "    <tr>\n",
       "      <th>12</th>\n",
       "      <td>13</td>\n",
       "      <td>13.0</td>\n",
       "      <td>chhattisgarh</td>\n",
       "      <td>BASTAR</td>\n",
       "      <td>1472207</td>\n",
       "      <td>68.29</td>\n",
       "      <td>1005392</td>\n",
       "      <td>1.0</td>\n",
       "      <td>chhattisgarh</td>\n",
       "      <td>14803286.0</td>\n",
       "    </tr>\n",
       "    <tr>\n",
       "      <th>13</th>\n",
       "      <td>14</td>\n",
       "      <td>14.0</td>\n",
       "      <td>jammu and kashmir</td>\n",
       "      <td>UDHAMPUR</td>\n",
       "      <td>1623195</td>\n",
       "      <td>68.27</td>\n",
       "      <td>1108206</td>\n",
       "      <td>1.0</td>\n",
       "      <td>jammu and kashmir</td>\n",
       "      <td>6575061.0</td>\n",
       "    </tr>\n",
       "    <tr>\n",
       "      <th>14</th>\n",
       "      <td>15</td>\n",
       "      <td>15.0</td>\n",
       "      <td>lakshadweep</td>\n",
       "      <td>Lakshadweep</td>\n",
       "      <td>57784</td>\n",
       "      <td>84.16</td>\n",
       "      <td>48630</td>\n",
       "      <td>1.0</td>\n",
       "      <td>lakshadweep</td>\n",
       "      <td>19847.0</td>\n",
       "    </tr>\n",
       "    <tr>\n",
       "      <th>15</th>\n",
       "      <td>16</td>\n",
       "      <td>16.0</td>\n",
       "      <td>madhya pradesh</td>\n",
       "      <td>BALAGHAT</td>\n",
       "      <td>1873653</td>\n",
       "      <td>73.45</td>\n",
       "      <td>1376207</td>\n",
       "      <td>1.0</td>\n",
       "      <td>madhya pradesh</td>\n",
       "      <td>39992952.0</td>\n",
       "    </tr>\n",
       "    <tr>\n",
       "      <th>16</th>\n",
       "      <td>17</td>\n",
       "      <td>17.0</td>\n",
       "      <td>madhya pradesh</td>\n",
       "      <td>CHHINDWARA</td>\n",
       "      <td>1632190</td>\n",
       "      <td>79.83</td>\n",
       "      <td>1303001</td>\n",
       "      <td>1.0</td>\n",
       "      <td>madhya pradesh</td>\n",
       "      <td>39992952.0</td>\n",
       "    </tr>\n",
       "    <tr>\n",
       "      <th>17</th>\n",
       "      <td>18</td>\n",
       "      <td>18.0</td>\n",
       "      <td>madhya pradesh</td>\n",
       "      <td>JABALPUR</td>\n",
       "      <td>1896346</td>\n",
       "      <td>61.00</td>\n",
       "      <td>1156722</td>\n",
       "      <td>1.0</td>\n",
       "      <td>madhya pradesh</td>\n",
       "      <td>39992952.0</td>\n",
       "    </tr>\n",
       "    <tr>\n",
       "      <th>18</th>\n",
       "      <td>19</td>\n",
       "      <td>19.0</td>\n",
       "      <td>madhya pradesh</td>\n",
       "      <td>MANDLA</td>\n",
       "      <td>2101811</td>\n",
       "      <td>72.84</td>\n",
       "      <td>1530861</td>\n",
       "      <td>1.0</td>\n",
       "      <td>madhya pradesh</td>\n",
       "      <td>39992952.0</td>\n",
       "    </tr>\n",
       "    <tr>\n",
       "      <th>19</th>\n",
       "      <td>20</td>\n",
       "      <td>20.0</td>\n",
       "      <td>madhya pradesh</td>\n",
       "      <td>SHAHDOL</td>\n",
       "      <td>1777185</td>\n",
       "      <td>64.68</td>\n",
       "      <td>1149506</td>\n",
       "      <td>1.0</td>\n",
       "      <td>madhya pradesh</td>\n",
       "      <td>39992952.0</td>\n",
       "    </tr>\n",
       "  </tbody>\n",
       "</table>\n",
       "</div>"
      ],
      "text/plain": [
       "    _id  Sl No                      State                    PC_Name  \\\n",
       "0     1    1.0  andaman & nicobar islands  Andaman & Nicobar Islands   \n",
       "1     2    2.0          arunachal pradesh             Arunachal East   \n",
       "2     3    3.0          arunachal pradesh             Arunachal West   \n",
       "3     4    4.0                      assam                  Dibrugarh   \n",
       "4     5    5.0                      assam                     Jorhat   \n",
       "5     6    6.0                      assam                  Kaziranga   \n",
       "6     7    7.0                      assam                  Lakhimpur   \n",
       "7     8    8.0                      assam                   Sonitpur   \n",
       "8     9    9.0                      bihar                 Aurangabad   \n",
       "9    10   10.0                      bihar                       Gaya   \n",
       "10   11   11.0                      bihar                      Jamui   \n",
       "11   12   12.0                      bihar                     Nawada   \n",
       "12   13   13.0               chhattisgarh                     BASTAR   \n",
       "13   14   14.0          jammu and kashmir                   UDHAMPUR   \n",
       "14   15   15.0                lakshadweep                Lakshadweep   \n",
       "15   16   16.0             madhya pradesh                   BALAGHAT   \n",
       "16   17   17.0             madhya pradesh                 CHHINDWARA   \n",
       "17   18   18.0             madhya pradesh                   JABALPUR   \n",
       "18   19   19.0             madhya pradesh                     MANDLA   \n",
       "19   20   20.0             madhya pradesh                    SHAHDOL   \n",
       "\n",
       "    Total Electors  Polled (%)  Total Votes  Phase      Location name  \\\n",
       "0           315148       64.10       202018    1.0                NaN   \n",
       "1           375310       83.31       312658    1.0  arunachal pradesh   \n",
       "2           517384       73.60       380783    1.0  arunachal pradesh   \n",
       "3          1659588       76.75      1273744    1.0              assam   \n",
       "4          1727121       79.89      1379749    1.0              assam   \n",
       "5          2050126       79.33      1626408    1.0              assam   \n",
       "6          1577234       76.42      1205331    1.0              assam   \n",
       "7          1633800       78.46      1281959    1.0              assam   \n",
       "8          1871564       50.35       942382    1.0              bihar   \n",
       "9          1816815       52.76       958623    1.0              bihar   \n",
       "10         1907126       51.25       977369    1.0              bihar   \n",
       "11         2006124       43.17       866102    1.0              bihar   \n",
       "12         1472207       68.29      1005392    1.0       chhattisgarh   \n",
       "13         1623195       68.27      1108206    1.0  jammu and kashmir   \n",
       "14           57784       84.16        48630    1.0        lakshadweep   \n",
       "15         1873653       73.45      1376207    1.0     madhya pradesh   \n",
       "16         1632190       79.83      1303001    1.0     madhya pradesh   \n",
       "17         1896346       61.00      1156722    1.0     madhya pradesh   \n",
       "18         2101811       72.84      1530861    1.0     madhya pradesh   \n",
       "19         1777185       64.68      1149506    1.0     madhya pradesh   \n",
       "\n",
       "    Amount spent (INR)  \n",
       "0                  NaN  \n",
       "1            1385654.0  \n",
       "2            1385654.0  \n",
       "3           17478091.0  \n",
       "4           17478091.0  \n",
       "5           17478091.0  \n",
       "6           17478091.0  \n",
       "7           17478091.0  \n",
       "8           53619242.0  \n",
       "9           53619242.0  \n",
       "10          53619242.0  \n",
       "11          53619242.0  \n",
       "12          14803286.0  \n",
       "13           6575061.0  \n",
       "14             19847.0  \n",
       "15          39992952.0  \n",
       "16          39992952.0  \n",
       "17          39992952.0  \n",
       "18          39992952.0  \n",
       "19          39992952.0  "
      ]
     },
     "execution_count": 45,
     "metadata": {},
     "output_type": "execute_result"
    }
   ],
   "source": [
    "results['State'] = results['State'].str.strip().str.lower()\n",
    "\n",
    "locations['Location name'] = locations['Location name'].str.strip().str.lower()\n",
    "\n",
    "merge_data = results.merge(locations,\n",
    "                          left_on = 'State',\n",
    "                          right_on = 'Location name',\n",
    "                          how = 'left' )\n",
    "\n",
    "\n",
    "merge_data.head(20)\n",
    "\n"
   ]
  },
  {
   "cell_type": "code",
   "execution_count": 139,
   "id": "61d52bf5-ea94-4cbd-9766-7eee0ae8d4f4",
   "metadata": {},
   "outputs": [
    {
     "data": {
      "text/html": [
       "<div>\n",
       "<style scoped>\n",
       "    .dataframe tbody tr th:only-of-type {\n",
       "        vertical-align: middle;\n",
       "    }\n",
       "\n",
       "    .dataframe tbody tr th {\n",
       "        vertical-align: top;\n",
       "    }\n",
       "\n",
       "    .dataframe thead th {\n",
       "        text-align: right;\n",
       "    }\n",
       "</style>\n",
       "<table border=\"1\" class=\"dataframe\">\n",
       "  <thead>\n",
       "    <tr style=\"text-align: right;\">\n",
       "      <th></th>\n",
       "      <th>State</th>\n",
       "      <th>Amount spent (INR)</th>\n",
       "    </tr>\n",
       "  </thead>\n",
       "  <tbody>\n",
       "    <tr>\n",
       "      <th>0</th>\n",
       "      <td>andaman &amp; nicobar islands</td>\n",
       "      <td>0.000000e+00</td>\n",
       "    </tr>\n",
       "    <tr>\n",
       "      <th>1</th>\n",
       "      <td>andhra pradesh</td>\n",
       "      <td>2.520493e+09</td>\n",
       "    </tr>\n",
       "    <tr>\n",
       "      <th>2</th>\n",
       "      <td>arunachal pradesh</td>\n",
       "      <td>2.771308e+06</td>\n",
       "    </tr>\n",
       "    <tr>\n",
       "      <th>3</th>\n",
       "      <td>assam</td>\n",
       "      <td>2.446933e+08</td>\n",
       "    </tr>\n",
       "    <tr>\n",
       "      <th>4</th>\n",
       "      <td>bihar</td>\n",
       "      <td>2.144770e+09</td>\n",
       "    </tr>\n",
       "  </tbody>\n",
       "</table>\n",
       "</div>"
      ],
      "text/plain": [
       "                       State  Amount spent (INR)\n",
       "0  andaman & nicobar islands        0.000000e+00\n",
       "1             andhra pradesh        2.520493e+09\n",
       "2          arunachal pradesh        2.771308e+06\n",
       "3                      assam        2.446933e+08\n",
       "4                      bihar        2.144770e+09"
      ]
     },
     "execution_count": 139,
     "metadata": {},
     "output_type": "execute_result"
    }
   ],
   "source": [
    "state_ad_spend = merge_data.groupby('State')['Amount spent (INR)'].sum().reset_index()\n",
    "\n",
    "state_ad_spend.head()"
   ]
  },
  {
   "cell_type": "code",
   "execution_count": 89,
   "id": "daa15c43-d00e-4007-803b-949db84dd95a",
   "metadata": {},
   "outputs": [
    {
     "data": {
      "application/vnd.plotly.v1+json": {
       "config": {
        "plotlyServerURL": "https://plot.ly"
       },
       "data": [
        {
         "alignmentgroup": "True",
         "hovertemplate": "State=%{x}<br>Ad Spent=%{y}<extra></extra>",
         "legendgroup": "",
         "marker": {
          "color": "#636efa",
          "pattern": {
           "shape": ""
          }
         },
         "name": "",
         "offsetgroup": "",
         "orientation": "v",
         "showlegend": false,
         "textposition": "auto",
         "type": "bar",
         "x": [
          "andaman & nicobar islands",
          "andhra pradesh",
          "arunachal pradesh",
          "assam",
          "bihar",
          "chandigarh",
          "chhattisgarh",
          "dadra & nagar haveli and\ndaman & diu",
          "goa",
          "gujarat",
          "haryana",
          "himachal pradesh",
          "jammu and kashmir",
          "jharkhand",
          "karnataka",
          "kerala",
          "ladakh",
          "lakshadweep",
          "madhya pradesh",
          "maharashtra",
          "manipur",
          "meghalaya",
          "mizoram",
          "nagaland",
          "nct of delhi",
          "odisha",
          "puducherry",
          "punjab",
          "rajasthan",
          "sikkim",
          "tamil nadu",
          "telangana",
          "tripura",
          "uttar pradesh",
          "uttarakhand",
          "west bengal"
         ],
         "xaxis": "x",
         "y": [
          0,
          2520493300,
          2771308,
          244693274,
          2144769680,
          6507258,
          162836146,
          0,
          4328418,
          1010634975,
          416834110,
          48046464,
          32875305,
          229321946,
          1166463116,
          453624020,
          0,
          19847,
          1159795608,
          4892020368,
          2667186,
          1768440,
          481052,
          599170,
          0,
          3785297817,
          1535672,
          0,
          1031708075,
          4379297,
          2988281712,
          926434822,
          3714918,
          7173450480,
          35704485,
          3244289832
         ],
         "yaxis": "y"
        }
       ],
       "layout": {
        "barmode": "relative",
        "height": 600,
        "legend": {
         "tracegroupgap": 0
        },
        "template": {
         "data": {
          "bar": [
           {
            "error_x": {
             "color": "#2a3f5f"
            },
            "error_y": {
             "color": "#2a3f5f"
            },
            "marker": {
             "line": {
              "color": "white",
              "width": 0.5
             },
             "pattern": {
              "fillmode": "overlay",
              "size": 10,
              "solidity": 0.2
             }
            },
            "type": "bar"
           }
          ],
          "barpolar": [
           {
            "marker": {
             "line": {
              "color": "white",
              "width": 0.5
             },
             "pattern": {
              "fillmode": "overlay",
              "size": 10,
              "solidity": 0.2
             }
            },
            "type": "barpolar"
           }
          ],
          "carpet": [
           {
            "aaxis": {
             "endlinecolor": "#2a3f5f",
             "gridcolor": "#C8D4E3",
             "linecolor": "#C8D4E3",
             "minorgridcolor": "#C8D4E3",
             "startlinecolor": "#2a3f5f"
            },
            "baxis": {
             "endlinecolor": "#2a3f5f",
             "gridcolor": "#C8D4E3",
             "linecolor": "#C8D4E3",
             "minorgridcolor": "#C8D4E3",
             "startlinecolor": "#2a3f5f"
            },
            "type": "carpet"
           }
          ],
          "choropleth": [
           {
            "colorbar": {
             "outlinewidth": 0,
             "ticks": ""
            },
            "type": "choropleth"
           }
          ],
          "contour": [
           {
            "colorbar": {
             "outlinewidth": 0,
             "ticks": ""
            },
            "colorscale": [
             [
              0,
              "#0d0887"
             ],
             [
              0.1111111111111111,
              "#46039f"
             ],
             [
              0.2222222222222222,
              "#7201a8"
             ],
             [
              0.3333333333333333,
              "#9c179e"
             ],
             [
              0.4444444444444444,
              "#bd3786"
             ],
             [
              0.5555555555555556,
              "#d8576b"
             ],
             [
              0.6666666666666666,
              "#ed7953"
             ],
             [
              0.7777777777777778,
              "#fb9f3a"
             ],
             [
              0.8888888888888888,
              "#fdca26"
             ],
             [
              1,
              "#f0f921"
             ]
            ],
            "type": "contour"
           }
          ],
          "contourcarpet": [
           {
            "colorbar": {
             "outlinewidth": 0,
             "ticks": ""
            },
            "type": "contourcarpet"
           }
          ],
          "heatmap": [
           {
            "colorbar": {
             "outlinewidth": 0,
             "ticks": ""
            },
            "colorscale": [
             [
              0,
              "#0d0887"
             ],
             [
              0.1111111111111111,
              "#46039f"
             ],
             [
              0.2222222222222222,
              "#7201a8"
             ],
             [
              0.3333333333333333,
              "#9c179e"
             ],
             [
              0.4444444444444444,
              "#bd3786"
             ],
             [
              0.5555555555555556,
              "#d8576b"
             ],
             [
              0.6666666666666666,
              "#ed7953"
             ],
             [
              0.7777777777777778,
              "#fb9f3a"
             ],
             [
              0.8888888888888888,
              "#fdca26"
             ],
             [
              1,
              "#f0f921"
             ]
            ],
            "type": "heatmap"
           }
          ],
          "heatmapgl": [
           {
            "colorbar": {
             "outlinewidth": 0,
             "ticks": ""
            },
            "colorscale": [
             [
              0,
              "#0d0887"
             ],
             [
              0.1111111111111111,
              "#46039f"
             ],
             [
              0.2222222222222222,
              "#7201a8"
             ],
             [
              0.3333333333333333,
              "#9c179e"
             ],
             [
              0.4444444444444444,
              "#bd3786"
             ],
             [
              0.5555555555555556,
              "#d8576b"
             ],
             [
              0.6666666666666666,
              "#ed7953"
             ],
             [
              0.7777777777777778,
              "#fb9f3a"
             ],
             [
              0.8888888888888888,
              "#fdca26"
             ],
             [
              1,
              "#f0f921"
             ]
            ],
            "type": "heatmapgl"
           }
          ],
          "histogram": [
           {
            "marker": {
             "pattern": {
              "fillmode": "overlay",
              "size": 10,
              "solidity": 0.2
             }
            },
            "type": "histogram"
           }
          ],
          "histogram2d": [
           {
            "colorbar": {
             "outlinewidth": 0,
             "ticks": ""
            },
            "colorscale": [
             [
              0,
              "#0d0887"
             ],
             [
              0.1111111111111111,
              "#46039f"
             ],
             [
              0.2222222222222222,
              "#7201a8"
             ],
             [
              0.3333333333333333,
              "#9c179e"
             ],
             [
              0.4444444444444444,
              "#bd3786"
             ],
             [
              0.5555555555555556,
              "#d8576b"
             ],
             [
              0.6666666666666666,
              "#ed7953"
             ],
             [
              0.7777777777777778,
              "#fb9f3a"
             ],
             [
              0.8888888888888888,
              "#fdca26"
             ],
             [
              1,
              "#f0f921"
             ]
            ],
            "type": "histogram2d"
           }
          ],
          "histogram2dcontour": [
           {
            "colorbar": {
             "outlinewidth": 0,
             "ticks": ""
            },
            "colorscale": [
             [
              0,
              "#0d0887"
             ],
             [
              0.1111111111111111,
              "#46039f"
             ],
             [
              0.2222222222222222,
              "#7201a8"
             ],
             [
              0.3333333333333333,
              "#9c179e"
             ],
             [
              0.4444444444444444,
              "#bd3786"
             ],
             [
              0.5555555555555556,
              "#d8576b"
             ],
             [
              0.6666666666666666,
              "#ed7953"
             ],
             [
              0.7777777777777778,
              "#fb9f3a"
             ],
             [
              0.8888888888888888,
              "#fdca26"
             ],
             [
              1,
              "#f0f921"
             ]
            ],
            "type": "histogram2dcontour"
           }
          ],
          "mesh3d": [
           {
            "colorbar": {
             "outlinewidth": 0,
             "ticks": ""
            },
            "type": "mesh3d"
           }
          ],
          "parcoords": [
           {
            "line": {
             "colorbar": {
              "outlinewidth": 0,
              "ticks": ""
             }
            },
            "type": "parcoords"
           }
          ],
          "pie": [
           {
            "automargin": true,
            "type": "pie"
           }
          ],
          "scatter": [
           {
            "fillpattern": {
             "fillmode": "overlay",
             "size": 10,
             "solidity": 0.2
            },
            "type": "scatter"
           }
          ],
          "scatter3d": [
           {
            "line": {
             "colorbar": {
              "outlinewidth": 0,
              "ticks": ""
             }
            },
            "marker": {
             "colorbar": {
              "outlinewidth": 0,
              "ticks": ""
             }
            },
            "type": "scatter3d"
           }
          ],
          "scattercarpet": [
           {
            "marker": {
             "colorbar": {
              "outlinewidth": 0,
              "ticks": ""
             }
            },
            "type": "scattercarpet"
           }
          ],
          "scattergeo": [
           {
            "marker": {
             "colorbar": {
              "outlinewidth": 0,
              "ticks": ""
             }
            },
            "type": "scattergeo"
           }
          ],
          "scattergl": [
           {
            "marker": {
             "colorbar": {
              "outlinewidth": 0,
              "ticks": ""
             }
            },
            "type": "scattergl"
           }
          ],
          "scattermapbox": [
           {
            "marker": {
             "colorbar": {
              "outlinewidth": 0,
              "ticks": ""
             }
            },
            "type": "scattermapbox"
           }
          ],
          "scatterpolar": [
           {
            "marker": {
             "colorbar": {
              "outlinewidth": 0,
              "ticks": ""
             }
            },
            "type": "scatterpolar"
           }
          ],
          "scatterpolargl": [
           {
            "marker": {
             "colorbar": {
              "outlinewidth": 0,
              "ticks": ""
             }
            },
            "type": "scatterpolargl"
           }
          ],
          "scatterternary": [
           {
            "marker": {
             "colorbar": {
              "outlinewidth": 0,
              "ticks": ""
             }
            },
            "type": "scatterternary"
           }
          ],
          "surface": [
           {
            "colorbar": {
             "outlinewidth": 0,
             "ticks": ""
            },
            "colorscale": [
             [
              0,
              "#0d0887"
             ],
             [
              0.1111111111111111,
              "#46039f"
             ],
             [
              0.2222222222222222,
              "#7201a8"
             ],
             [
              0.3333333333333333,
              "#9c179e"
             ],
             [
              0.4444444444444444,
              "#bd3786"
             ],
             [
              0.5555555555555556,
              "#d8576b"
             ],
             [
              0.6666666666666666,
              "#ed7953"
             ],
             [
              0.7777777777777778,
              "#fb9f3a"
             ],
             [
              0.8888888888888888,
              "#fdca26"
             ],
             [
              1,
              "#f0f921"
             ]
            ],
            "type": "surface"
           }
          ],
          "table": [
           {
            "cells": {
             "fill": {
              "color": "#EBF0F8"
             },
             "line": {
              "color": "white"
             }
            },
            "header": {
             "fill": {
              "color": "#C8D4E3"
             },
             "line": {
              "color": "white"
             }
            },
            "type": "table"
           }
          ]
         },
         "layout": {
          "annotationdefaults": {
           "arrowcolor": "#2a3f5f",
           "arrowhead": 0,
           "arrowwidth": 1
          },
          "autotypenumbers": "strict",
          "coloraxis": {
           "colorbar": {
            "outlinewidth": 0,
            "ticks": ""
           }
          },
          "colorscale": {
           "diverging": [
            [
             0,
             "#8e0152"
            ],
            [
             0.1,
             "#c51b7d"
            ],
            [
             0.2,
             "#de77ae"
            ],
            [
             0.3,
             "#f1b6da"
            ],
            [
             0.4,
             "#fde0ef"
            ],
            [
             0.5,
             "#f7f7f7"
            ],
            [
             0.6,
             "#e6f5d0"
            ],
            [
             0.7,
             "#b8e186"
            ],
            [
             0.8,
             "#7fbc41"
            ],
            [
             0.9,
             "#4d9221"
            ],
            [
             1,
             "#276419"
            ]
           ],
           "sequential": [
            [
             0,
             "#0d0887"
            ],
            [
             0.1111111111111111,
             "#46039f"
            ],
            [
             0.2222222222222222,
             "#7201a8"
            ],
            [
             0.3333333333333333,
             "#9c179e"
            ],
            [
             0.4444444444444444,
             "#bd3786"
            ],
            [
             0.5555555555555556,
             "#d8576b"
            ],
            [
             0.6666666666666666,
             "#ed7953"
            ],
            [
             0.7777777777777778,
             "#fb9f3a"
            ],
            [
             0.8888888888888888,
             "#fdca26"
            ],
            [
             1,
             "#f0f921"
            ]
           ],
           "sequentialminus": [
            [
             0,
             "#0d0887"
            ],
            [
             0.1111111111111111,
             "#46039f"
            ],
            [
             0.2222222222222222,
             "#7201a8"
            ],
            [
             0.3333333333333333,
             "#9c179e"
            ],
            [
             0.4444444444444444,
             "#bd3786"
            ],
            [
             0.5555555555555556,
             "#d8576b"
            ],
            [
             0.6666666666666666,
             "#ed7953"
            ],
            [
             0.7777777777777778,
             "#fb9f3a"
            ],
            [
             0.8888888888888888,
             "#fdca26"
            ],
            [
             1,
             "#f0f921"
            ]
           ]
          },
          "colorway": [
           "#636efa",
           "#EF553B",
           "#00cc96",
           "#ab63fa",
           "#FFA15A",
           "#19d3f3",
           "#FF6692",
           "#B6E880",
           "#FF97FF",
           "#FECB52"
          ],
          "font": {
           "color": "#2a3f5f"
          },
          "geo": {
           "bgcolor": "white",
           "lakecolor": "white",
           "landcolor": "white",
           "showlakes": true,
           "showland": true,
           "subunitcolor": "#C8D4E3"
          },
          "hoverlabel": {
           "align": "left"
          },
          "hovermode": "closest",
          "mapbox": {
           "style": "light"
          },
          "paper_bgcolor": "white",
          "plot_bgcolor": "white",
          "polar": {
           "angularaxis": {
            "gridcolor": "#EBF0F8",
            "linecolor": "#EBF0F8",
            "ticks": ""
           },
           "bgcolor": "white",
           "radialaxis": {
            "gridcolor": "#EBF0F8",
            "linecolor": "#EBF0F8",
            "ticks": ""
           }
          },
          "scene": {
           "xaxis": {
            "backgroundcolor": "white",
            "gridcolor": "#DFE8F3",
            "gridwidth": 2,
            "linecolor": "#EBF0F8",
            "showbackground": true,
            "ticks": "",
            "zerolinecolor": "#EBF0F8"
           },
           "yaxis": {
            "backgroundcolor": "white",
            "gridcolor": "#DFE8F3",
            "gridwidth": 2,
            "linecolor": "#EBF0F8",
            "showbackground": true,
            "ticks": "",
            "zerolinecolor": "#EBF0F8"
           },
           "zaxis": {
            "backgroundcolor": "white",
            "gridcolor": "#DFE8F3",
            "gridwidth": 2,
            "linecolor": "#EBF0F8",
            "showbackground": true,
            "ticks": "",
            "zerolinecolor": "#EBF0F8"
           }
          },
          "shapedefaults": {
           "line": {
            "color": "#2a3f5f"
           }
          },
          "ternary": {
           "aaxis": {
            "gridcolor": "#DFE8F3",
            "linecolor": "#A2B1C6",
            "ticks": ""
           },
           "baxis": {
            "gridcolor": "#DFE8F3",
            "linecolor": "#A2B1C6",
            "ticks": ""
           },
           "bgcolor": "white",
           "caxis": {
            "gridcolor": "#DFE8F3",
            "linecolor": "#A2B1C6",
            "ticks": ""
           }
          },
          "title": {
           "x": 0.05
          },
          "xaxis": {
           "automargin": true,
           "gridcolor": "#EBF0F8",
           "linecolor": "#EBF0F8",
           "ticks": "",
           "title": {
            "standoff": 15
           },
           "zerolinecolor": "#EBF0F8",
           "zerolinewidth": 2
          },
          "yaxis": {
           "automargin": true,
           "gridcolor": "#EBF0F8",
           "linecolor": "#EBF0F8",
           "ticks": "",
           "title": {
            "standoff": 15
           },
           "zerolinecolor": "#EBF0F8",
           "zerolinewidth": 2
          }
         }
        },
        "title": {
         "text": "Total Spend by State"
        },
        "width": 800,
        "xaxis": {
         "anchor": "y",
         "autorange": true,
         "categoryorder": "total descending",
         "domain": [
          0,
          1
         ],
         "range": [
          -0.5,
          35.5
         ],
         "tickangle": -90,
         "title": {
          "text": "State"
         },
         "type": "category"
        },
        "yaxis": {
         "anchor": "x",
         "autorange": true,
         "domain": [
          0,
          1
         ],
         "range": [
          0,
          7551000505.263158
         ],
         "title": {
          "text": "Ad Spent"
         },
         "type": "linear"
        }
       }
      },
      "image/png": "[encoded data removed]",
      "text/html": [
       "<div>                            <div id=\"96688b81-bd69-4c37-9f6e-85fad7528835\" class=\"plotly-graph-div\" style=\"height:600px; width:800px;\"></div>            <script type=\"text/javascript\">                require([\"plotly\"], function(Plotly) {                    window.PLOTLYENV=window.PLOTLYENV || {};                                    if (document.getElementById(\"96688b81-bd69-4c37-9f6e-85fad7528835\")) {                    Plotly.newPlot(                        \"96688b81-bd69-4c37-9f6e-85fad7528835\",                        [{\"alignmentgroup\":\"True\",\"hovertemplate\":\"State=%{x}\\u003cbr\\u003eAd Spent=%{y}\\u003cextra\\u003e\\u003c\\u002fextra\\u003e\",\"legendgroup\":\"\",\"marker\":{\"color\":\"#636efa\",\"pattern\":{\"shape\":\"\"}},\"name\":\"\",\"offsetgroup\":\"\",\"orientation\":\"v\",\"showlegend\":false,\"textposition\":\"auto\",\"x\":[\"andaman & nicobar islands\",\"andhra pradesh\",\"arunachal pradesh\",\"assam\",\"bihar\",\"chandigarh\",\"chhattisgarh\",\"dadra & nagar haveli and\\ndaman & diu\",\"goa\",\"gujarat\",\"haryana\",\"himachal pradesh\",\"jammu and kashmir\",\"jharkhand\",\"karnataka\",\"kerala\",\"ladakh\",\"lakshadweep\",\"madhya pradesh\",\"maharashtra\",\"manipur\",\"meghalaya\",\"mizoram\",\"nagaland\",\"nct of delhi\",\"odisha\",\"puducherry\",\"punjab\",\"rajasthan\",\"sikkim\",\"tamil nadu\",\"telangana\",\"tripura\",\"uttar pradesh\",\"uttarakhand\",\"west bengal\"],\"xaxis\":\"x\",\"y\":[0.0,2520493300.0,2771308.0,244693274.0,2144769680.0,6507258.0,162836146.0,0.0,4328418.0,1010634975.0,416834110.0,48046464.0,32875305.0,229321946.0,1166463116.0,453624020.0,0.0,19847.0,1159795608.0,4892020368.0,2667186.0,1768440.0,481052.0,599170.0,0.0,3785297817.0,1535672.0,0.0,1031708075.0,4379297.0,2988281712.0,926434822.0,3714918.0,7173450480.0,35704485.0,3244289832.0],\"yaxis\":\"y\",\"type\":\"bar\"}],                        {\"template\":{\"data\":{\"histogram2dcontour\":[{\"type\":\"histogram2dcontour\",\"colorbar\":{\"outlinewidth\":0,\"ticks\":\"\"},\"colorscale\":[[0.0,\"#0d0887\"],[0.1111111111111111,\"#46039f\"],[0.2222222222222222,\"#7201a8\"],[0.3333333333333333,\"#9c179e\"],[0.4444444444444444,\"#bd3786\"],[0.5555555555555556,\"#d8576b\"],[0.6666666666666666,\"#ed7953\"],[0.7777777777777778,\"#fb9f3a\"],[0.8888888888888888,\"#fdca26\"],[1.0,\"#f0f921\"]]}],\"choropleth\":[{\"type\":\"choropleth\",\"colorbar\":{\"outlinewidth\":0,\"ticks\":\"\"}}],\"histogram2d\":[{\"type\":\"histogram2d\",\"colorbar\":{\"outlinewidth\":0,\"ticks\":\"\"},\"colorscale\":[[0.0,\"#0d0887\"],[0.1111111111111111,\"#46039f\"],[0.2222222222222222,\"#7201a8\"],[0.3333333333333333,\"#9c179e\"],[0.4444444444444444,\"#bd3786\"],[0.5555555555555556,\"#d8576b\"],[0.6666666666666666,\"#ed7953\"],[0.7777777777777778,\"#fb9f3a\"],[0.8888888888888888,\"#fdca26\"],[1.0,\"#f0f921\"]]}],\"heatmap\":[{\"type\":\"heatmap\",\"colorbar\":{\"outlinewidth\":0,\"ticks\":\"\"},\"colorscale\":[[0.0,\"#0d0887\"],[0.1111111111111111,\"#46039f\"],[0.2222222222222222,\"#7201a8\"],[0.3333333333333333,\"#9c179e\"],[0.4444444444444444,\"#bd3786\"],[0.5555555555555556,\"#d8576b\"],[0.6666666666666666,\"#ed7953\"],[0.7777777777777778,\"#fb9f3a\"],[0.8888888888888888,\"#fdca26\"],[1.0,\"#f0f921\"]]}],\"heatmapgl\":[{\"type\":\"heatmapgl\",\"colorbar\":{\"outlinewidth\":0,\"ticks\":\"\"},\"colorscale\":[[0.0,\"#0d0887\"],[0.1111111111111111,\"#46039f\"],[0.2222222222222222,\"#7201a8\"],[0.3333333333333333,\"#9c179e\"],[0.4444444444444444,\"#bd3786\"],[0.5555555555555556,\"#d8576b\"],[0.6666666666666666,\"#ed7953\"],[0.7777777777777778,\"#fb9f3a\"],[0.8888888888888888,\"#fdca26\"],[1.0,\"#f0f921\"]]}],\"contourcarpet\":[{\"type\":\"contourcarpet\",\"colorbar\":{\"outlinewidth\":0,\"ticks\":\"\"}}],\"contour\":[{\"type\":\"contour\",\"colorbar\":{\"outlinewidth\":0,\"ticks\":\"\"},\"colorscale\":[[0.0,\"#0d0887\"],[0.1111111111111111,\"#46039f\"],[0.2222222222222222,\"#7201a8\"],[0.3333333333333333,\"#9c179e\"],[0.4444444444444444,\"#bd3786\"],[0.5555555555555556,\"#d8576b\"],[0.6666666666666666,\"#ed7953\"],[0.7777777777777778,\"#fb9f3a\"],[0.8888888888888888,\"#fdca26\"],[1.0,\"#f0f921\"]]}],\"surface\":[{\"type\":\"surface\",\"colorbar\":{\"outlinewidth\":0,\"ticks\":\"\"},\"colorscale\":[[0.0,\"#0d0887\"],[0.1111111111111111,\"#46039f\"],[0.2222222222222222,\"#7201a8\"],[0.3333333333333333,\"#9c179e\"],[0.4444444444444444,\"#bd3786\"],[0.5555555555555556,\"#d8576b\"],[0.6666666666666666,\"#ed7953\"],[0.7777777777777778,\"#fb9f3a\"],[0.8888888888888888,\"#fdca26\"],[1.0,\"#f0f921\"]]}],\"mesh3d\":[{\"type\":\"mesh3d\",\"colorbar\":{\"outlinewidth\":0,\"ticks\":\"\"}}],\"scatter\":[{\"fillpattern\":{\"fillmode\":\"overlay\",\"size\":10,\"solidity\":0.2},\"type\":\"scatter\"}],\"parcoords\":[{\"type\":\"parcoords\",\"line\":{\"colorbar\":{\"outlinewidth\":0,\"ticks\":\"\"}}}],\"scatterpolargl\":[{\"type\":\"scatterpolargl\",\"marker\":{\"colorbar\":{\"outlinewidth\":0,\"ticks\":\"\"}}}],\"bar\":[{\"error_x\":{\"color\":\"#2a3f5f\"},\"error_y\":{\"color\":\"#2a3f5f\"},\"marker\":{\"line\":{\"color\":\"white\",\"width\":0.5},\"pattern\":{\"fillmode\":\"overlay\",\"size\":10,\"solidity\":0.2}},\"type\":\"bar\"}],\"scattergeo\":[{\"type\":\"scattergeo\",\"marker\":{\"colorbar\":{\"outlinewidth\":0,\"ticks\":\"\"}}}],\"scatterpolar\":[{\"type\":\"scatterpolar\",\"marker\":{\"colorbar\":{\"outlinewidth\":0,\"ticks\":\"\"}}}],\"histogram\":[{\"marker\":{\"pattern\":{\"fillmode\":\"overlay\",\"size\":10,\"solidity\":0.2}},\"type\":\"histogram\"}],\"scattergl\":[{\"type\":\"scattergl\",\"marker\":{\"colorbar\":{\"outlinewidth\":0,\"ticks\":\"\"}}}],\"scatter3d\":[{\"type\":\"scatter3d\",\"line\":{\"colorbar\":{\"outlinewidth\":0,\"ticks\":\"\"}},\"marker\":{\"colorbar\":{\"outlinewidth\":0,\"ticks\":\"\"}}}],\"scattermapbox\":[{\"type\":\"scattermapbox\",\"marker\":{\"colorbar\":{\"outlinewidth\":0,\"ticks\":\"\"}}}],\"scatterternary\":[{\"type\":\"scatterternary\",\"marker\":{\"colorbar\":{\"outlinewidth\":0,\"ticks\":\"\"}}}],\"scattercarpet\":[{\"type\":\"scattercarpet\",\"marker\":{\"colorbar\":{\"outlinewidth\":0,\"ticks\":\"\"}}}],\"carpet\":[{\"aaxis\":{\"endlinecolor\":\"#2a3f5f\",\"gridcolor\":\"#C8D4E3\",\"linecolor\":\"#C8D4E3\",\"minorgridcolor\":\"#C8D4E3\",\"startlinecolor\":\"#2a3f5f\"},\"baxis\":{\"endlinecolor\":\"#2a3f5f\",\"gridcolor\":\"#C8D4E3\",\"linecolor\":\"#C8D4E3\",\"minorgridcolor\":\"#C8D4E3\",\"startlinecolor\":\"#2a3f5f\"},\"type\":\"carpet\"}],\"table\":[{\"cells\":{\"fill\":{\"color\":\"#EBF0F8\"},\"line\":{\"color\":\"white\"}},\"header\":{\"fill\":{\"color\":\"#C8D4E3\"},\"line\":{\"color\":\"white\"}},\"type\":\"table\"}],\"barpolar\":[{\"marker\":{\"line\":{\"color\":\"white\",\"width\":0.5},\"pattern\":{\"fillmode\":\"overlay\",\"size\":10,\"solidity\":0.2}},\"type\":\"barpolar\"}],\"pie\":[{\"automargin\":true,\"type\":\"pie\"}]},\"layout\":{\"autotypenumbers\":\"strict\",\"colorway\":[\"#636efa\",\"#EF553B\",\"#00cc96\",\"#ab63fa\",\"#FFA15A\",\"#19d3f3\",\"#FF6692\",\"#B6E880\",\"#FF97FF\",\"#FECB52\"],\"font\":{\"color\":\"#2a3f5f\"},\"hovermode\":\"closest\",\"hoverlabel\":{\"align\":\"left\"},\"paper_bgcolor\":\"white\",\"plot_bgcolor\":\"white\",\"polar\":{\"bgcolor\":\"white\",\"angularaxis\":{\"gridcolor\":\"#EBF0F8\",\"linecolor\":\"#EBF0F8\",\"ticks\":\"\"},\"radialaxis\":{\"gridcolor\":\"#EBF0F8\",\"linecolor\":\"#EBF0F8\",\"ticks\":\"\"}},\"ternary\":{\"bgcolor\":\"white\",\"aaxis\":{\"gridcolor\":\"#DFE8F3\",\"linecolor\":\"#A2B1C6\",\"ticks\":\"\"},\"baxis\":{\"gridcolor\":\"#DFE8F3\",\"linecolor\":\"#A2B1C6\",\"ticks\":\"\"},\"caxis\":{\"gridcolor\":\"#DFE8F3\",\"linecolor\":\"#A2B1C6\",\"ticks\":\"\"}},\"coloraxis\":{\"colorbar\":{\"outlinewidth\":0,\"ticks\":\"\"}},\"colorscale\":{\"sequential\":[[0.0,\"#0d0887\"],[0.1111111111111111,\"#46039f\"],[0.2222222222222222,\"#7201a8\"],[0.3333333333333333,\"#9c179e\"],[0.4444444444444444,\"#bd3786\"],[0.5555555555555556,\"#d8576b\"],[0.6666666666666666,\"#ed7953\"],[0.7777777777777778,\"#fb9f3a\"],[0.8888888888888888,\"#fdca26\"],[1.0,\"#f0f921\"]],\"sequentialminus\":[[0.0,\"#0d0887\"],[0.1111111111111111,\"#46039f\"],[0.2222222222222222,\"#7201a8\"],[0.3333333333333333,\"#9c179e\"],[0.4444444444444444,\"#bd3786\"],[0.5555555555555556,\"#d8576b\"],[0.6666666666666666,\"#ed7953\"],[0.7777777777777778,\"#fb9f3a\"],[0.8888888888888888,\"#fdca26\"],[1.0,\"#f0f921\"]],\"diverging\":[[0,\"#8e0152\"],[0.1,\"#c51b7d\"],[0.2,\"#de77ae\"],[0.3,\"#f1b6da\"],[0.4,\"#fde0ef\"],[0.5,\"#f7f7f7\"],[0.6,\"#e6f5d0\"],[0.7,\"#b8e186\"],[0.8,\"#7fbc41\"],[0.9,\"#4d9221\"],[1,\"#276419\"]]},\"xaxis\":{\"gridcolor\":\"#EBF0F8\",\"linecolor\":\"#EBF0F8\",\"ticks\":\"\",\"title\":{\"standoff\":15},\"zerolinecolor\":\"#EBF0F8\",\"automargin\":true,\"zerolinewidth\":2},\"yaxis\":{\"gridcolor\":\"#EBF0F8\",\"linecolor\":\"#EBF0F8\",\"ticks\":\"\",\"title\":{\"standoff\":15},\"zerolinecolor\":\"#EBF0F8\",\"automargin\":true,\"zerolinewidth\":2},\"scene\":{\"xaxis\":{\"backgroundcolor\":\"white\",\"gridcolor\":\"#DFE8F3\",\"linecolor\":\"#EBF0F8\",\"showbackground\":true,\"ticks\":\"\",\"zerolinecolor\":\"#EBF0F8\",\"gridwidth\":2},\"yaxis\":{\"backgroundcolor\":\"white\",\"gridcolor\":\"#DFE8F3\",\"linecolor\":\"#EBF0F8\",\"showbackground\":true,\"ticks\":\"\",\"zerolinecolor\":\"#EBF0F8\",\"gridwidth\":2},\"zaxis\":{\"backgroundcolor\":\"white\",\"gridcolor\":\"#DFE8F3\",\"linecolor\":\"#EBF0F8\",\"showbackground\":true,\"ticks\":\"\",\"zerolinecolor\":\"#EBF0F8\",\"gridwidth\":2}},\"shapedefaults\":{\"line\":{\"color\":\"#2a3f5f\"}},\"annotationdefaults\":{\"arrowcolor\":\"#2a3f5f\",\"arrowhead\":0,\"arrowwidth\":1},\"geo\":{\"bgcolor\":\"white\",\"landcolor\":\"white\",\"subunitcolor\":\"#C8D4E3\",\"showland\":true,\"showlakes\":true,\"lakecolor\":\"white\"},\"title\":{\"x\":0.05},\"mapbox\":{\"style\":\"light\"}}},\"xaxis\":{\"anchor\":\"y\",\"domain\":[0.0,1.0],\"title\":{\"text\":\"State\"},\"categoryorder\":\"total descending\",\"tickangle\":-90},\"yaxis\":{\"anchor\":\"x\",\"domain\":[0.0,1.0],\"title\":{\"text\":\"Ad Spent\"}},\"legend\":{\"tracegroupgap\":0},\"title\":{\"text\":\"Total Spend by State\"},\"barmode\":\"relative\",\"height\":600,\"width\":800},                        {\"responsive\": true}                    ).then(function(){\n",
       "                            \n",
       "var gd = document.getElementById('96688b81-bd69-4c37-9f6e-85fad7528835');\n",
       "var x = new MutationObserver(function (mutations, observer) {{\n",
       "        var display = window.getComputedStyle(gd).display;\n",
       "        if (!display || display === 'none') {{\n",
       "            console.log([gd, 'removed!']);\n",
       "            Plotly.purge(gd);\n",
       "            observer.disconnect();\n",
       "        }}\n",
       "}});\n",
       "\n",
       "// Listen for the removal of the full notebook cells\n",
       "var notebookContainer = gd.closest('#notebook-container');\n",
       "if (notebookContainer) {{\n",
       "    x.observe(notebookContainer, {childList: true});\n",
       "}}\n",
       "\n",
       "// Listen for the clearing of the current output cell\n",
       "var outputEl = gd.closest('.output');\n",
       "if (outputEl) {{\n",
       "    x.observe(outputEl, {childList: true});\n",
       "}}\n",
       "\n",
       "                        })                };                });            </script>        </div>"
      ]
     },
     "metadata": {},
     "output_type": "display_data"
    }
   ],
   "source": [
    "import plotly.express as px\n",
    "import plotly.io as pio\n",
    "import plotly.graph_objects as go\n",
    "pio.templates.default = 'plotly_white'\n",
    "\n",
    "fig = px.bar(state_ad_spend,x='State', y = 'Amount spent (INR)', labels = {'State':'State','Amount spent (INR)':'Ad Spent'}, title='Total Spend by State')\n",
    "fig.update_layout(xaxis={'categoryorder':'total descending'},\n",
    "                  \n",
    "                  height = 600,\n",
    "                  width = 800,\n",
    "                  xaxis_tickangle = -90,\n",
    "                 \n",
    "                 )\n",
    "fig.show()"
   ]
  },
  {
   "cell_type": "code",
   "execution_count": 115,
   "id": "60a9052c-d8f3-40ac-a05f-e1a642e1e6b6",
   "metadata": {},
   "outputs": [
    {
     "data": {
      "application/vnd.plotly.v1+json": {
       "config": {
        "plotlyServerURL": "https://plot.ly"
       },
       "data": [
        {
         "alignmentgroup": "True",
         "hovertemplate": "State Name=%{x}<br>Voter Percentage=%{y}<extra></extra>",
         "legendgroup": "",
         "marker": {
          "color": "#636efa",
          "pattern": {
           "shape": ""
          }
         },
         "name": "",
         "offsetgroup": "",
         "orientation": "v",
         "showlegend": false,
         "textposition": "auto",
         "type": "bar",
         "x": [
          "andaman & nicobar islands",
          "andhra pradesh",
          "arunachal pradesh",
          "assam",
          "bihar",
          "chandigarh",
          "chhattisgarh",
          "dadra & nagar haveli and\ndaman & diu",
          "goa",
          "gujarat",
          "haryana",
          "himachal pradesh",
          "jammu and kashmir",
          "jharkhand",
          "karnataka",
          "kerala",
          "ladakh",
          "lakshadweep",
          "madhya pradesh",
          "maharashtra",
          "manipur",
          "meghalaya",
          "mizoram",
          "nagaland",
          "nct of delhi",
          "odisha",
          "puducherry",
          "punjab",
          "rajasthan",
          "sikkim",
          "tamil nadu",
          "telangana",
          "tripura",
          "uttar pradesh",
          "uttarakhand",
          "west bengal"
         ],
         "xaxis": "x",
         "y": [
          64.1,
          80.7708,
          78.455,
          80.88285714285713,
          56.329499999999996,
          67.98,
          73.10545454545455,
          70.645,
          76.08,
          60.1404,
          65.019,
          70.965,
          58.696000000000005,
          66.605,
          71.71464285714286,
          71.1895,
          71.82,
          84.16,
          66.97034482758622,
          61.46,
          78.03,
          77.575,
          56.87,
          57.72,
          58.50285714285714,
          74.51,
          78.9,
          62.80384615384616,
          61.4264,
          79.88,
          70.03538461538461,
          67.66294117647058,
          80.92,
          57.047000000000004,
          56.184000000000005,
          79.18809523809524
         ],
         "yaxis": "y"
        }
       ],
       "layout": {
        "autosize": true,
        "barmode": "relative",
        "legend": {
         "tracegroupgap": 0
        },
        "template": {
         "data": {
          "bar": [
           {
            "error_x": {
             "color": "#2a3f5f"
            },
            "error_y": {
             "color": "#2a3f5f"
            },
            "marker": {
             "line": {
              "color": "white",
              "width": 0.5
             },
             "pattern": {
              "fillmode": "overlay",
              "size": 10,
              "solidity": 0.2
             }
            },
            "type": "bar"
           }
          ],
          "barpolar": [
           {
            "marker": {
             "line": {
              "color": "white",
              "width": 0.5
             },
             "pattern": {
              "fillmode": "overlay",
              "size": 10,
              "solidity": 0.2
             }
            },
            "type": "barpolar"
           }
          ],
          "carpet": [
           {
            "aaxis": {
             "endlinecolor": "#2a3f5f",
             "gridcolor": "#C8D4E3",
             "linecolor": "#C8D4E3",
             "minorgridcolor": "#C8D4E3",
             "startlinecolor": "#2a3f5f"
            },
            "baxis": {
             "endlinecolor": "#2a3f5f",
             "gridcolor": "#C8D4E3",
             "linecolor": "#C8D4E3",
             "minorgridcolor": "#C8D4E3",
             "startlinecolor": "#2a3f5f"
            },
            "type": "carpet"
           }
          ],
          "choropleth": [
           {
            "colorbar": {
             "outlinewidth": 0,
             "ticks": ""
            },
            "type": "choropleth"
           }
          ],
          "contour": [
           {
            "colorbar": {
             "outlinewidth": 0,
             "ticks": ""
            },
            "colorscale": [
             [
              0,
              "#0d0887"
             ],
             [
              0.1111111111111111,
              "#46039f"
             ],
             [
              0.2222222222222222,
              "#7201a8"
             ],
             [
              0.3333333333333333,
              "#9c179e"
             ],
             [
              0.4444444444444444,
              "#bd3786"
             ],
             [
              0.5555555555555556,
              "#d8576b"
             ],
             [
              0.6666666666666666,
              "#ed7953"
             ],
             [
              0.7777777777777778,
              "#fb9f3a"
             ],
             [
              0.8888888888888888,
              "#fdca26"
             ],
             [
              1,
              "#f0f921"
             ]
            ],
            "type": "contour"
           }
          ],
          "contourcarpet": [
           {
            "colorbar": {
             "outlinewidth": 0,
             "ticks": ""
            },
            "type": "contourcarpet"
           }
          ],
          "heatmap": [
           {
            "colorbar": {
             "outlinewidth": 0,
             "ticks": ""
            },
            "colorscale": [
             [
              0,
              "#0d0887"
             ],
             [
              0.1111111111111111,
              "#46039f"
             ],
             [
              0.2222222222222222,
              "#7201a8"
             ],
             [
              0.3333333333333333,
              "#9c179e"
             ],
             [
              0.4444444444444444,
              "#bd3786"
             ],
             [
              0.5555555555555556,
              "#d8576b"
             ],
             [
              0.6666666666666666,
              "#ed7953"
             ],
             [
              0.7777777777777778,
              "#fb9f3a"
             ],
             [
              0.8888888888888888,
              "#fdca26"
             ],
             [
              1,
              "#f0f921"
             ]
            ],
            "type": "heatmap"
           }
          ],
          "heatmapgl": [
           {
            "colorbar": {
             "outlinewidth": 0,
             "ticks": ""
            },
            "colorscale": [
             [
              0,
              "#0d0887"
             ],
             [
              0.1111111111111111,
              "#46039f"
             ],
             [
              0.2222222222222222,
              "#7201a8"
             ],
             [
              0.3333333333333333,
              "#9c179e"
             ],
             [
              0.4444444444444444,
              "#bd3786"
             ],
             [
              0.5555555555555556,
              "#d8576b"
             ],
             [
              0.6666666666666666,
              "#ed7953"
             ],
             [
              0.7777777777777778,
              "#fb9f3a"
             ],
             [
              0.8888888888888888,
              "#fdca26"
             ],
             [
              1,
              "#f0f921"
             ]
            ],
            "type": "heatmapgl"
           }
          ],
          "histogram": [
           {
            "marker": {
             "pattern": {
              "fillmode": "overlay",
              "size": 10,
              "solidity": 0.2
             }
            },
            "type": "histogram"
           }
          ],
          "histogram2d": [
           {
            "colorbar": {
             "outlinewidth": 0,
             "ticks": ""
            },
            "colorscale": [
             [
              0,
              "#0d0887"
             ],
             [
              0.1111111111111111,
              "#46039f"
             ],
             [
              0.2222222222222222,
              "#7201a8"
             ],
             [
              0.3333333333333333,
              "#9c179e"
             ],
             [
              0.4444444444444444,
              "#bd3786"
             ],
             [
              0.5555555555555556,
              "#d8576b"
             ],
             [
              0.6666666666666666,
              "#ed7953"
             ],
             [
              0.7777777777777778,
              "#fb9f3a"
             ],
             [
              0.8888888888888888,
              "#fdca26"
             ],
             [
              1,
              "#f0f921"
             ]
            ],
            "type": "histogram2d"
           }
          ],
          "histogram2dcontour": [
           {
            "colorbar": {
             "outlinewidth": 0,
             "ticks": ""
            },
            "colorscale": [
             [
              0,
              "#0d0887"
             ],
             [
              0.1111111111111111,
              "#46039f"
             ],
             [
              0.2222222222222222,
              "#7201a8"
             ],
             [
              0.3333333333333333,
              "#9c179e"
             ],
             [
              0.4444444444444444,
              "#bd3786"
             ],
             [
              0.5555555555555556,
              "#d8576b"
             ],
             [
              0.6666666666666666,
              "#ed7953"
             ],
             [
              0.7777777777777778,
              "#fb9f3a"
             ],
             [
              0.8888888888888888,
              "#fdca26"
             ],
             [
              1,
              "#f0f921"
             ]
            ],
            "type": "histogram2dcontour"
           }
          ],
          "mesh3d": [
           {
            "colorbar": {
             "outlinewidth": 0,
             "ticks": ""
            },
            "type": "mesh3d"
           }
          ],
          "parcoords": [
           {
            "line": {
             "colorbar": {
              "outlinewidth": 0,
              "ticks": ""
             }
            },
            "type": "parcoords"
           }
          ],
          "pie": [
           {
            "automargin": true,
            "type": "pie"
           }
          ],
          "scatter": [
           {
            "fillpattern": {
             "fillmode": "overlay",
             "size": 10,
             "solidity": 0.2
            },
            "type": "scatter"
           }
          ],
          "scatter3d": [
           {
            "line": {
             "colorbar": {
              "outlinewidth": 0,
              "ticks": ""
             }
            },
            "marker": {
             "colorbar": {
              "outlinewidth": 0,
              "ticks": ""
             }
            },
            "type": "scatter3d"
           }
          ],
          "scattercarpet": [
           {
            "marker": {
             "colorbar": {
              "outlinewidth": 0,
              "ticks": ""
             }
            },
            "type": "scattercarpet"
           }
          ],
          "scattergeo": [
           {
            "marker": {
             "colorbar": {
              "outlinewidth": 0,
              "ticks": ""
             }
            },
            "type": "scattergeo"
           }
          ],
          "scattergl": [
           {
            "marker": {
             "colorbar": {
              "outlinewidth": 0,
              "ticks": ""
             }
            },
            "type": "scattergl"
           }
          ],
          "scattermapbox": [
           {
            "marker": {
             "colorbar": {
              "outlinewidth": 0,
              "ticks": ""
             }
            },
            "type": "scattermapbox"
           }
          ],
          "scatterpolar": [
           {
            "marker": {
             "colorbar": {
              "outlinewidth": 0,
              "ticks": ""
             }
            },
            "type": "scatterpolar"
           }
          ],
          "scatterpolargl": [
           {
            "marker": {
             "colorbar": {
              "outlinewidth": 0,
              "ticks": ""
             }
            },
            "type": "scatterpolargl"
           }
          ],
          "scatterternary": [
           {
            "marker": {
             "colorbar": {
              "outlinewidth": 0,
              "ticks": ""
             }
            },
            "type": "scatterternary"
           }
          ],
          "surface": [
           {
            "colorbar": {
             "outlinewidth": 0,
             "ticks": ""
            },
            "colorscale": [
             [
              0,
              "#0d0887"
             ],
             [
              0.1111111111111111,
              "#46039f"
             ],
             [
              0.2222222222222222,
              "#7201a8"
             ],
             [
              0.3333333333333333,
              "#9c179e"
             ],
             [
              0.4444444444444444,
              "#bd3786"
             ],
             [
              0.5555555555555556,
              "#d8576b"
             ],
             [
              0.6666666666666666,
              "#ed7953"
             ],
             [
              0.7777777777777778,
              "#fb9f3a"
             ],
             [
              0.8888888888888888,
              "#fdca26"
             ],
             [
              1,
              "#f0f921"
             ]
            ],
            "type": "surface"
           }
          ],
          "table": [
           {
            "cells": {
             "fill": {
              "color": "#EBF0F8"
             },
             "line": {
              "color": "white"
             }
            },
            "header": {
             "fill": {
              "color": "#C8D4E3"
             },
             "line": {
              "color": "white"
             }
            },
            "type": "table"
           }
          ]
         },
         "layout": {
          "annotationdefaults": {
           "arrowcolor": "#2a3f5f",
           "arrowhead": 0,
           "arrowwidth": 1
          },
          "autotypenumbers": "strict",
          "coloraxis": {
           "colorbar": {
            "outlinewidth": 0,
            "ticks": ""
           }
          },
          "colorscale": {
           "diverging": [
            [
             0,
             "#8e0152"
            ],
            [
             0.1,
             "#c51b7d"
            ],
            [
             0.2,
             "#de77ae"
            ],
            [
             0.3,
             "#f1b6da"
            ],
            [
             0.4,
             "#fde0ef"
            ],
            [
             0.5,
             "#f7f7f7"
            ],
            [
             0.6,
             "#e6f5d0"
            ],
            [
             0.7,
             "#b8e186"
            ],
            [
             0.8,
             "#7fbc41"
            ],
            [
             0.9,
             "#4d9221"
            ],
            [
             1,
             "#276419"
            ]
           ],
           "sequential": [
            [
             0,
             "#0d0887"
            ],
            [
             0.1111111111111111,
             "#46039f"
            ],
            [
             0.2222222222222222,
             "#7201a8"
            ],
            [
             0.3333333333333333,
             "#9c179e"
            ],
            [
             0.4444444444444444,
             "#bd3786"
            ],
            [
             0.5555555555555556,
             "#d8576b"
            ],
            [
             0.6666666666666666,
             "#ed7953"
            ],
            [
             0.7777777777777778,
             "#fb9f3a"
            ],
            [
             0.8888888888888888,
             "#fdca26"
            ],
            [
             1,
             "#f0f921"
            ]
           ],
           "sequentialminus": [
            [
             0,
             "#0d0887"
            ],
            [
             0.1111111111111111,
             "#46039f"
            ],
            [
             0.2222222222222222,
             "#7201a8"
            ],
            [
             0.3333333333333333,
             "#9c179e"
            ],
            [
             0.4444444444444444,
             "#bd3786"
            ],
            [
             0.5555555555555556,
             "#d8576b"
            ],
            [
             0.6666666666666666,
             "#ed7953"
            ],
            [
             0.7777777777777778,
             "#fb9f3a"
            ],
            [
             0.8888888888888888,
             "#fdca26"
            ],
            [
             1,
             "#f0f921"
            ]
           ]
          },
          "colorway": [
           "#636efa",
           "#EF553B",
           "#00cc96",
           "#ab63fa",
           "#FFA15A",
           "#19d3f3",
           "#FF6692",
           "#B6E880",
           "#FF97FF",
           "#FECB52"
          ],
          "font": {
           "color": "#2a3f5f"
          },
          "geo": {
           "bgcolor": "white",
           "lakecolor": "white",
           "landcolor": "white",
           "showlakes": true,
           "showland": true,
           "subunitcolor": "#C8D4E3"
          },
          "hoverlabel": {
           "align": "left"
          },
          "hovermode": "closest",
          "mapbox": {
           "style": "light"
          },
          "paper_bgcolor": "white",
          "plot_bgcolor": "white",
          "polar": {
           "angularaxis": {
            "gridcolor": "#EBF0F8",
            "linecolor": "#EBF0F8",
            "ticks": ""
           },
           "bgcolor": "white",
           "radialaxis": {
            "gridcolor": "#EBF0F8",
            "linecolor": "#EBF0F8",
            "ticks": ""
           }
          },
          "scene": {
           "xaxis": {
            "backgroundcolor": "white",
            "gridcolor": "#DFE8F3",
            "gridwidth": 2,
            "linecolor": "#EBF0F8",
            "showbackground": true,
            "ticks": "",
            "zerolinecolor": "#EBF0F8"
           },
           "yaxis": {
            "backgroundcolor": "white",
            "gridcolor": "#DFE8F3",
            "gridwidth": 2,
            "linecolor": "#EBF0F8",
            "showbackground": true,
            "ticks": "",
            "zerolinecolor": "#EBF0F8"
           },
           "zaxis": {
            "backgroundcolor": "white",
            "gridcolor": "#DFE8F3",
            "gridwidth": 2,
            "linecolor": "#EBF0F8",
            "showbackground": true,
            "ticks": "",
            "zerolinecolor": "#EBF0F8"
           }
          },
          "shapedefaults": {
           "line": {
            "color": "#2a3f5f"
           }
          },
          "ternary": {
           "aaxis": {
            "gridcolor": "#DFE8F3",
            "linecolor": "#A2B1C6",
            "ticks": ""
           },
           "baxis": {
            "gridcolor": "#DFE8F3",
            "linecolor": "#A2B1C6",
            "ticks": ""
           },
           "bgcolor": "white",
           "caxis": {
            "gridcolor": "#DFE8F3",
            "linecolor": "#A2B1C6",
            "ticks": ""
           }
          },
          "title": {
           "x": 0.05
          },
          "xaxis": {
           "automargin": true,
           "gridcolor": "#EBF0F8",
           "linecolor": "#EBF0F8",
           "ticks": "",
           "title": {
            "standoff": 15
           },
           "zerolinecolor": "#EBF0F8",
           "zerolinewidth": 2
          },
          "yaxis": {
           "automargin": true,
           "gridcolor": "#EBF0F8",
           "linecolor": "#EBF0F8",
           "ticks": "",
           "title": {
            "standoff": 15
           },
           "zerolinecolor": "#EBF0F8",
           "zerolinewidth": 2
          }
         }
        },
        "title": {
         "text": "Vote turnout by state"
        },
        "xaxis": {
         "anchor": "y",
         "autorange": true,
         "categoryorder": "total descending",
         "domain": [
          0,
          1
         ],
         "range": [
          -0.5,
          35.5
         ],
         "tickangle": -90,
         "title": {
          "text": "State Name"
         },
         "type": "category"
        },
        "yaxis": {
         "anchor": "x",
         "autorange": true,
         "domain": [
          0,
          1
         ],
         "range": [
          0,
          88.58947368421052
         ],
         "title": {
          "text": "Voter Percentage"
         },
         "type": "linear"
        }
       }
      },
      "image/png": "[encoded data removed]",
      "text/html": [
       "<div>                            <div id=\"3c2dcc0d-cae1-499e-92fc-550d912c8187\" class=\"plotly-graph-div\" style=\"height:600px; width:100%;\"></div>            <script type=\"text/javascript\">                require([\"plotly\"], function(Plotly) {                    window.PLOTLYENV=window.PLOTLYENV || {};                                    if (document.getElementById(\"3c2dcc0d-cae1-499e-92fc-550d912c8187\")) {                    Plotly.newPlot(                        \"3c2dcc0d-cae1-499e-92fc-550d912c8187\",                        [{\"alignmentgroup\":\"True\",\"hovertemplate\":\"State Name=%{x}\\u003cbr\\u003eVoter Percentage=%{y}\\u003cextra\\u003e\\u003c\\u002fextra\\u003e\",\"legendgroup\":\"\",\"marker\":{\"color\":\"#636efa\",\"pattern\":{\"shape\":\"\"}},\"name\":\"\",\"offsetgroup\":\"\",\"orientation\":\"v\",\"showlegend\":false,\"textposition\":\"auto\",\"x\":[\"andaman & nicobar islands\",\"andhra pradesh\",\"arunachal pradesh\",\"assam\",\"bihar\",\"chandigarh\",\"chhattisgarh\",\"dadra & nagar haveli and\\ndaman & diu\",\"goa\",\"gujarat\",\"haryana\",\"himachal pradesh\",\"jammu and kashmir\",\"jharkhand\",\"karnataka\",\"kerala\",\"ladakh\",\"lakshadweep\",\"madhya pradesh\",\"maharashtra\",\"manipur\",\"meghalaya\",\"mizoram\",\"nagaland\",\"nct of delhi\",\"odisha\",\"puducherry\",\"punjab\",\"rajasthan\",\"sikkim\",\"tamil nadu\",\"telangana\",\"tripura\",\"uttar pradesh\",\"uttarakhand\",\"west bengal\"],\"xaxis\":\"x\",\"y\":[64.1,80.7708,78.455,80.88285714285713,56.329499999999996,67.98,73.10545454545455,70.645,76.08,60.1404,65.019,70.965,58.696000000000005,66.605,71.71464285714286,71.1895,71.82,84.16,66.97034482758622,61.46,78.03,77.575,56.87,57.72,58.50285714285714,74.51,78.9,62.80384615384616,61.4264,79.88,70.03538461538461,67.66294117647058,80.92,57.047000000000004,56.184000000000005,79.18809523809524],\"yaxis\":\"y\",\"type\":\"bar\"}],                        {\"template\":{\"data\":{\"histogram2dcontour\":[{\"type\":\"histogram2dcontour\",\"colorbar\":{\"outlinewidth\":0,\"ticks\":\"\"},\"colorscale\":[[0.0,\"#0d0887\"],[0.1111111111111111,\"#46039f\"],[0.2222222222222222,\"#7201a8\"],[0.3333333333333333,\"#9c179e\"],[0.4444444444444444,\"#bd3786\"],[0.5555555555555556,\"#d8576b\"],[0.6666666666666666,\"#ed7953\"],[0.7777777777777778,\"#fb9f3a\"],[0.8888888888888888,\"#fdca26\"],[1.0,\"#f0f921\"]]}],\"choropleth\":[{\"type\":\"choropleth\",\"colorbar\":{\"outlinewidth\":0,\"ticks\":\"\"}}],\"histogram2d\":[{\"type\":\"histogram2d\",\"colorbar\":{\"outlinewidth\":0,\"ticks\":\"\"},\"colorscale\":[[0.0,\"#0d0887\"],[0.1111111111111111,\"#46039f\"],[0.2222222222222222,\"#7201a8\"],[0.3333333333333333,\"#9c179e\"],[0.4444444444444444,\"#bd3786\"],[0.5555555555555556,\"#d8576b\"],[0.6666666666666666,\"#ed7953\"],[0.7777777777777778,\"#fb9f3a\"],[0.8888888888888888,\"#fdca26\"],[1.0,\"#f0f921\"]]}],\"heatmap\":[{\"type\":\"heatmap\",\"colorbar\":{\"outlinewidth\":0,\"ticks\":\"\"},\"colorscale\":[[0.0,\"#0d0887\"],[0.1111111111111111,\"#46039f\"],[0.2222222222222222,\"#7201a8\"],[0.3333333333333333,\"#9c179e\"],[0.4444444444444444,\"#bd3786\"],[0.5555555555555556,\"#d8576b\"],[0.6666666666666666,\"#ed7953\"],[0.7777777777777778,\"#fb9f3a\"],[0.8888888888888888,\"#fdca26\"],[1.0,\"#f0f921\"]]}],\"heatmapgl\":[{\"type\":\"heatmapgl\",\"colorbar\":{\"outlinewidth\":0,\"ticks\":\"\"},\"colorscale\":[[0.0,\"#0d0887\"],[0.1111111111111111,\"#46039f\"],[0.2222222222222222,\"#7201a8\"],[0.3333333333333333,\"#9c179e\"],[0.4444444444444444,\"#bd3786\"],[0.5555555555555556,\"#d8576b\"],[0.6666666666666666,\"#ed7953\"],[0.7777777777777778,\"#fb9f3a\"],[0.8888888888888888,\"#fdca26\"],[1.0,\"#f0f921\"]]}],\"contourcarpet\":[{\"type\":\"contourcarpet\",\"colorbar\":{\"outlinewidth\":0,\"ticks\":\"\"}}],\"contour\":[{\"type\":\"contour\",\"colorbar\":{\"outlinewidth\":0,\"ticks\":\"\"},\"colorscale\":[[0.0,\"#0d0887\"],[0.1111111111111111,\"#46039f\"],[0.2222222222222222,\"#7201a8\"],[0.3333333333333333,\"#9c179e\"],[0.4444444444444444,\"#bd3786\"],[0.5555555555555556,\"#d8576b\"],[0.6666666666666666,\"#ed7953\"],[0.7777777777777778,\"#fb9f3a\"],[0.8888888888888888,\"#fdca26\"],[1.0,\"#f0f921\"]]}],\"surface\":[{\"type\":\"surface\",\"colorbar\":{\"outlinewidth\":0,\"ticks\":\"\"},\"colorscale\":[[0.0,\"#0d0887\"],[0.1111111111111111,\"#46039f\"],[0.2222222222222222,\"#7201a8\"],[0.3333333333333333,\"#9c179e\"],[0.4444444444444444,\"#bd3786\"],[0.5555555555555556,\"#d8576b\"],[0.6666666666666666,\"#ed7953\"],[0.7777777777777778,\"#fb9f3a\"],[0.8888888888888888,\"#fdca26\"],[1.0,\"#f0f921\"]]}],\"mesh3d\":[{\"type\":\"mesh3d\",\"colorbar\":{\"outlinewidth\":0,\"ticks\":\"\"}}],\"scatter\":[{\"fillpattern\":{\"fillmode\":\"overlay\",\"size\":10,\"solidity\":0.2},\"type\":\"scatter\"}],\"parcoords\":[{\"type\":\"parcoords\",\"line\":{\"colorbar\":{\"outlinewidth\":0,\"ticks\":\"\"}}}],\"scatterpolargl\":[{\"type\":\"scatterpolargl\",\"marker\":{\"colorbar\":{\"outlinewidth\":0,\"ticks\":\"\"}}}],\"bar\":[{\"error_x\":{\"color\":\"#2a3f5f\"},\"error_y\":{\"color\":\"#2a3f5f\"},\"marker\":{\"line\":{\"color\":\"white\",\"width\":0.5},\"pattern\":{\"fillmode\":\"overlay\",\"size\":10,\"solidity\":0.2}},\"type\":\"bar\"}],\"scattergeo\":[{\"type\":\"scattergeo\",\"marker\":{\"colorbar\":{\"outlinewidth\":0,\"ticks\":\"\"}}}],\"scatterpolar\":[{\"type\":\"scatterpolar\",\"marker\":{\"colorbar\":{\"outlinewidth\":0,\"ticks\":\"\"}}}],\"histogram\":[{\"marker\":{\"pattern\":{\"fillmode\":\"overlay\",\"size\":10,\"solidity\":0.2}},\"type\":\"histogram\"}],\"scattergl\":[{\"type\":\"scattergl\",\"marker\":{\"colorbar\":{\"outlinewidth\":0,\"ticks\":\"\"}}}],\"scatter3d\":[{\"type\":\"scatter3d\",\"line\":{\"colorbar\":{\"outlinewidth\":0,\"ticks\":\"\"}},\"marker\":{\"colorbar\":{\"outlinewidth\":0,\"ticks\":\"\"}}}],\"scattermapbox\":[{\"type\":\"scattermapbox\",\"marker\":{\"colorbar\":{\"outlinewidth\":0,\"ticks\":\"\"}}}],\"scatterternary\":[{\"type\":\"scatterternary\",\"marker\":{\"colorbar\":{\"outlinewidth\":0,\"ticks\":\"\"}}}],\"scattercarpet\":[{\"type\":\"scattercarpet\",\"marker\":{\"colorbar\":{\"outlinewidth\":0,\"ticks\":\"\"}}}],\"carpet\":[{\"aaxis\":{\"endlinecolor\":\"#2a3f5f\",\"gridcolor\":\"#C8D4E3\",\"linecolor\":\"#C8D4E3\",\"minorgridcolor\":\"#C8D4E3\",\"startlinecolor\":\"#2a3f5f\"},\"baxis\":{\"endlinecolor\":\"#2a3f5f\",\"gridcolor\":\"#C8D4E3\",\"linecolor\":\"#C8D4E3\",\"minorgridcolor\":\"#C8D4E3\",\"startlinecolor\":\"#2a3f5f\"},\"type\":\"carpet\"}],\"table\":[{\"cells\":{\"fill\":{\"color\":\"#EBF0F8\"},\"line\":{\"color\":\"white\"}},\"header\":{\"fill\":{\"color\":\"#C8D4E3\"},\"line\":{\"color\":\"white\"}},\"type\":\"table\"}],\"barpolar\":[{\"marker\":{\"line\":{\"color\":\"white\",\"width\":0.5},\"pattern\":{\"fillmode\":\"overlay\",\"size\":10,\"solidity\":0.2}},\"type\":\"barpolar\"}],\"pie\":[{\"automargin\":true,\"type\":\"pie\"}]},\"layout\":{\"autotypenumbers\":\"strict\",\"colorway\":[\"#636efa\",\"#EF553B\",\"#00cc96\",\"#ab63fa\",\"#FFA15A\",\"#19d3f3\",\"#FF6692\",\"#B6E880\",\"#FF97FF\",\"#FECB52\"],\"font\":{\"color\":\"#2a3f5f\"},\"hovermode\":\"closest\",\"hoverlabel\":{\"align\":\"left\"},\"paper_bgcolor\":\"white\",\"plot_bgcolor\":\"white\",\"polar\":{\"bgcolor\":\"white\",\"angularaxis\":{\"gridcolor\":\"#EBF0F8\",\"linecolor\":\"#EBF0F8\",\"ticks\":\"\"},\"radialaxis\":{\"gridcolor\":\"#EBF0F8\",\"linecolor\":\"#EBF0F8\",\"ticks\":\"\"}},\"ternary\":{\"bgcolor\":\"white\",\"aaxis\":{\"gridcolor\":\"#DFE8F3\",\"linecolor\":\"#A2B1C6\",\"ticks\":\"\"},\"baxis\":{\"gridcolor\":\"#DFE8F3\",\"linecolor\":\"#A2B1C6\",\"ticks\":\"\"},\"caxis\":{\"gridcolor\":\"#DFE8F3\",\"linecolor\":\"#A2B1C6\",\"ticks\":\"\"}},\"coloraxis\":{\"colorbar\":{\"outlinewidth\":0,\"ticks\":\"\"}},\"colorscale\":{\"sequential\":[[0.0,\"#0d0887\"],[0.1111111111111111,\"#46039f\"],[0.2222222222222222,\"#7201a8\"],[0.3333333333333333,\"#9c179e\"],[0.4444444444444444,\"#bd3786\"],[0.5555555555555556,\"#d8576b\"],[0.6666666666666666,\"#ed7953\"],[0.7777777777777778,\"#fb9f3a\"],[0.8888888888888888,\"#fdca26\"],[1.0,\"#f0f921\"]],\"sequentialminus\":[[0.0,\"#0d0887\"],[0.1111111111111111,\"#46039f\"],[0.2222222222222222,\"#7201a8\"],[0.3333333333333333,\"#9c179e\"],[0.4444444444444444,\"#bd3786\"],[0.5555555555555556,\"#d8576b\"],[0.6666666666666666,\"#ed7953\"],[0.7777777777777778,\"#fb9f3a\"],[0.8888888888888888,\"#fdca26\"],[1.0,\"#f0f921\"]],\"diverging\":[[0,\"#8e0152\"],[0.1,\"#c51b7d\"],[0.2,\"#de77ae\"],[0.3,\"#f1b6da\"],[0.4,\"#fde0ef\"],[0.5,\"#f7f7f7\"],[0.6,\"#e6f5d0\"],[0.7,\"#b8e186\"],[0.8,\"#7fbc41\"],[0.9,\"#4d9221\"],[1,\"#276419\"]]},\"xaxis\":{\"gridcolor\":\"#EBF0F8\",\"linecolor\":\"#EBF0F8\",\"ticks\":\"\",\"title\":{\"standoff\":15},\"zerolinecolor\":\"#EBF0F8\",\"automargin\":true,\"zerolinewidth\":2},\"yaxis\":{\"gridcolor\":\"#EBF0F8\",\"linecolor\":\"#EBF0F8\",\"ticks\":\"\",\"title\":{\"standoff\":15},\"zerolinecolor\":\"#EBF0F8\",\"automargin\":true,\"zerolinewidth\":2},\"scene\":{\"xaxis\":{\"backgroundcolor\":\"white\",\"gridcolor\":\"#DFE8F3\",\"linecolor\":\"#EBF0F8\",\"showbackground\":true,\"ticks\":\"\",\"zerolinecolor\":\"#EBF0F8\",\"gridwidth\":2},\"yaxis\":{\"backgroundcolor\":\"white\",\"gridcolor\":\"#DFE8F3\",\"linecolor\":\"#EBF0F8\",\"showbackground\":true,\"ticks\":\"\",\"zerolinecolor\":\"#EBF0F8\",\"gridwidth\":2},\"zaxis\":{\"backgroundcolor\":\"white\",\"gridcolor\":\"#DFE8F3\",\"linecolor\":\"#EBF0F8\",\"showbackground\":true,\"ticks\":\"\",\"zerolinecolor\":\"#EBF0F8\",\"gridwidth\":2}},\"shapedefaults\":{\"line\":{\"color\":\"#2a3f5f\"}},\"annotationdefaults\":{\"arrowcolor\":\"#2a3f5f\",\"arrowhead\":0,\"arrowwidth\":1},\"geo\":{\"bgcolor\":\"white\",\"landcolor\":\"white\",\"subunitcolor\":\"#C8D4E3\",\"showland\":true,\"showlakes\":true,\"lakecolor\":\"white\"},\"title\":{\"x\":0.05},\"mapbox\":{\"style\":\"light\"}}},\"xaxis\":{\"anchor\":\"y\",\"domain\":[0.0,1.0],\"title\":{\"text\":\"State Name\"},\"categoryorder\":\"total descending\",\"tickangle\":-90},\"yaxis\":{\"anchor\":\"x\",\"domain\":[0.0,1.0],\"title\":{\"text\":\"Voter Percentage\"}},\"legend\":{\"tracegroupgap\":0},\"title\":{\"text\":\"Vote turnout by state\"},\"barmode\":\"relative\",\"height\":600},                        {\"responsive\": true}                    ).then(function(){\n",
       "                            \n",
       "var gd = document.getElementById('3c2dcc0d-cae1-499e-92fc-550d912c8187');\n",
       "var x = new MutationObserver(function (mutations, observer) {{\n",
       "        var display = window.getComputedStyle(gd).display;\n",
       "        if (!display || display === 'none') {{\n",
       "            console.log([gd, 'removed!']);\n",
       "            Plotly.purge(gd);\n",
       "            observer.disconnect();\n",
       "        }}\n",
       "}});\n",
       "\n",
       "// Listen for the removal of the full notebook cells\n",
       "var notebookContainer = gd.closest('#notebook-container');\n",
       "if (notebookContainer) {{\n",
       "    x.observe(notebookContainer, {childList: true});\n",
       "}}\n",
       "\n",
       "// Listen for the clearing of the current output cell\n",
       "var outputEl = gd.closest('.output');\n",
       "if (outputEl) {{\n",
       "    x.observe(outputEl, {childList: true});\n",
       "}}\n",
       "\n",
       "                        })                };                });            </script>        </div>"
      ]
     },
     "metadata": {},
     "output_type": "display_data"
    }
   ],
   "source": [
    "\n",
    "state_voter_turnout = results.groupby('State')['Polled (%)'].mean().reset_index()\n",
    "#state_voter_turnout.head(100)\n",
    "\n",
    "fig1 =  px.bar(state_voter_turnout,x = 'State', y = 'Polled (%)',title = 'Vote turnout by state', labels = {'State': 'State Name','Polled (%)':'Voter Percentage'} )\n",
    "fig1.update_layout(xaxis = {'categoryorder': 'total descending'}, height=600, xaxis_tickangle = -90)\n",
    "fig1.show()\n",
    "\n",
    "\n"
   ]
  },
  {
   "cell_type": "code",
   "execution_count": 121,
   "id": "a7451535-13eb-4ae6-9934-1a9d5e10b1db",
   "metadata": {},
   "outputs": [
    {
     "name": "stdout",
     "output_type": "stream",
     "text": [
      "Page ID                      int64\n",
      "Page name                   object\n",
      "Disclaimer                  object\n",
      "Amount spent (INR)          object\n",
      "Number of ads in Library     int64\n",
      "dtype: object\n"
     ]
    }
   ],
   "source": [
    "s = advertiser.dtypes\n",
    "print(s)"
   ]
  },
  {
   "cell_type": "code",
   "execution_count": 214,
   "id": "47bb1fa8-6170-49f1-897e-493cddd27eef",
   "metadata": {},
   "outputs": [
    {
     "data": {
      "application/vnd.plotly.v1+json": {
       "config": {
        "plotlyServerURL": "https://plot.ly"
       },
       "data": [
        {
         "domain": {
          "x": [
           0,
           1
          ],
          "y": [
           0,
           1
          ]
         },
         "hovertemplate": "Page name=%{label}<br>Amount spent (INR)=%{value}<extra></extra>",
         "labels": [
          "Bharatiya Janata Party (BJP)",
          "Ama Chinha Sankha Chinha",
          "Indian National Congress",
          "Ellorum Nammudan",
          "BJP Odisha"
         ],
         "legendgroup": "",
         "name": "",
         "showlegend": true,
         "textinfo": "percent",
         "type": "pie",
         "values": [
          193854342,
          112412941,
          108787100,
          23806041,
          19573782
         ]
        }
       ],
       "layout": {
        "autosize": true,
        "hiddenlabels": [
         "Ellorum Nammudan"
        ],
        "legend": {
         "orientation": "v",
         "tracegroupgap": 0,
         "x": -0.3,
         "xanchor": "left",
         "y": 1,
         "yanchor": "top"
        },
        "piecolorway": [
         "#ff9999",
         "#66b3ff",
         "#99ff99",
         "#ffcc99",
         "#c2c2f0"
        ],
        "showlegend": true,
        "template": {
         "data": {
          "bar": [
           {
            "error_x": {
             "color": "#2a3f5f"
            },
            "error_y": {
             "color": "#2a3f5f"
            },
            "marker": {
             "line": {
              "color": "white",
              "width": 0.5
             },
             "pattern": {
              "fillmode": "overlay",
              "size": 10,
              "solidity": 0.2
             }
            },
            "type": "bar"
           }
          ],
          "barpolar": [
           {
            "marker": {
             "line": {
              "color": "white",
              "width": 0.5
             },
             "pattern": {
              "fillmode": "overlay",
              "size": 10,
              "solidity": 0.2
             }
            },
            "type": "barpolar"
           }
          ],
          "carpet": [
           {
            "aaxis": {
             "endlinecolor": "#2a3f5f",
             "gridcolor": "#C8D4E3",
             "linecolor": "#C8D4E3",
             "minorgridcolor": "#C8D4E3",
             "startlinecolor": "#2a3f5f"
            },
            "baxis": {
             "endlinecolor": "#2a3f5f",
             "gridcolor": "#C8D4E3",
             "linecolor": "#C8D4E3",
             "minorgridcolor": "#C8D4E3",
             "startlinecolor": "#2a3f5f"
            },
            "type": "carpet"
           }
          ],
          "choropleth": [
           {
            "colorbar": {
             "outlinewidth": 0,
             "ticks": ""
            },
            "type": "choropleth"
           }
          ],
          "contour": [
           {
            "colorbar": {
             "outlinewidth": 0,
             "ticks": ""
            },
            "colorscale": [
             [
              0,
              "#0d0887"
             ],
             [
              0.1111111111111111,
              "#46039f"
             ],
             [
              0.2222222222222222,
              "#7201a8"
             ],
             [
              0.3333333333333333,
              "#9c179e"
             ],
             [
              0.4444444444444444,
              "#bd3786"
             ],
             [
              0.5555555555555556,
              "#d8576b"
             ],
             [
              0.6666666666666666,
              "#ed7953"
             ],
             [
              0.7777777777777778,
              "#fb9f3a"
             ],
             [
              0.8888888888888888,
              "#fdca26"
             ],
             [
              1,
              "#f0f921"
             ]
            ],
            "type": "contour"
           }
          ],
          "contourcarpet": [
           {
            "colorbar": {
             "outlinewidth": 0,
             "ticks": ""
            },
            "type": "contourcarpet"
           }
          ],
          "heatmap": [
           {
            "colorbar": {
             "outlinewidth": 0,
             "ticks": ""
            },
            "colorscale": [
             [
              0,
              "#0d0887"
             ],
             [
              0.1111111111111111,
              "#46039f"
             ],
             [
              0.2222222222222222,
              "#7201a8"
             ],
             [
              0.3333333333333333,
              "#9c179e"
             ],
             [
              0.4444444444444444,
              "#bd3786"
             ],
             [
              0.5555555555555556,
              "#d8576b"
             ],
             [
              0.6666666666666666,
              "#ed7953"
             ],
             [
              0.7777777777777778,
              "#fb9f3a"
             ],
             [
              0.8888888888888888,
              "#fdca26"
             ],
             [
              1,
              "#f0f921"
             ]
            ],
            "type": "heatmap"
           }
          ],
          "heatmapgl": [
           {
            "colorbar": {
             "outlinewidth": 0,
             "ticks": ""
            },
            "colorscale": [
             [
              0,
              "#0d0887"
             ],
             [
              0.1111111111111111,
              "#46039f"
             ],
             [
              0.2222222222222222,
              "#7201a8"
             ],
             [
              0.3333333333333333,
              "#9c179e"
             ],
             [
              0.4444444444444444,
              "#bd3786"
             ],
             [
              0.5555555555555556,
              "#d8576b"
             ],
             [
              0.6666666666666666,
              "#ed7953"
             ],
             [
              0.7777777777777778,
              "#fb9f3a"
             ],
             [
              0.8888888888888888,
              "#fdca26"
             ],
             [
              1,
              "#f0f921"
             ]
            ],
            "type": "heatmapgl"
           }
          ],
          "histogram": [
           {
            "marker": {
             "pattern": {
              "fillmode": "overlay",
              "size": 10,
              "solidity": 0.2
             }
            },
            "type": "histogram"
           }
          ],
          "histogram2d": [
           {
            "colorbar": {
             "outlinewidth": 0,
             "ticks": ""
            },
            "colorscale": [
             [
              0,
              "#0d0887"
             ],
             [
              0.1111111111111111,
              "#46039f"
             ],
             [
              0.2222222222222222,
              "#7201a8"
             ],
             [
              0.3333333333333333,
              "#9c179e"
             ],
             [
              0.4444444444444444,
              "#bd3786"
             ],
             [
              0.5555555555555556,
              "#d8576b"
             ],
             [
              0.6666666666666666,
              "#ed7953"
             ],
             [
              0.7777777777777778,
              "#fb9f3a"
             ],
             [
              0.8888888888888888,
              "#fdca26"
             ],
             [
              1,
              "#f0f921"
             ]
            ],
            "type": "histogram2d"
           }
          ],
          "histogram2dcontour": [
           {
            "colorbar": {
             "outlinewidth": 0,
             "ticks": ""
            },
            "colorscale": [
             [
              0,
              "#0d0887"
             ],
             [
              0.1111111111111111,
              "#46039f"
             ],
             [
              0.2222222222222222,
              "#7201a8"
             ],
             [
              0.3333333333333333,
              "#9c179e"
             ],
             [
              0.4444444444444444,
              "#bd3786"
             ],
             [
              0.5555555555555556,
              "#d8576b"
             ],
             [
              0.6666666666666666,
              "#ed7953"
             ],
             [
              0.7777777777777778,
              "#fb9f3a"
             ],
             [
              0.8888888888888888,
              "#fdca26"
             ],
             [
              1,
              "#f0f921"
             ]
            ],
            "type": "histogram2dcontour"
           }
          ],
          "mesh3d": [
           {
            "colorbar": {
             "outlinewidth": 0,
             "ticks": ""
            },
            "type": "mesh3d"
           }
          ],
          "parcoords": [
           {
            "line": {
             "colorbar": {
              "outlinewidth": 0,
              "ticks": ""
             }
            },
            "type": "parcoords"
           }
          ],
          "pie": [
           {
            "automargin": true,
            "type": "pie"
           }
          ],
          "scatter": [
           {
            "fillpattern": {
             "fillmode": "overlay",
             "size": 10,
             "solidity": 0.2
            },
            "type": "scatter"
           }
          ],
          "scatter3d": [
           {
            "line": {
             "colorbar": {
              "outlinewidth": 0,
              "ticks": ""
             }
            },
            "marker": {
             "colorbar": {
              "outlinewidth": 0,
              "ticks": ""
             }
            },
            "type": "scatter3d"
           }
          ],
          "scattercarpet": [
           {
            "marker": {
             "colorbar": {
              "outlinewidth": 0,
              "ticks": ""
             }
            },
            "type": "scattercarpet"
           }
          ],
          "scattergeo": [
           {
            "marker": {
             "colorbar": {
              "outlinewidth": 0,
              "ticks": ""
             }
            },
            "type": "scattergeo"
           }
          ],
          "scattergl": [
           {
            "marker": {
             "colorbar": {
              "outlinewidth": 0,
              "ticks": ""
             }
            },
            "type": "scattergl"
           }
          ],
          "scattermapbox": [
           {
            "marker": {
             "colorbar": {
              "outlinewidth": 0,
              "ticks": ""
             }
            },
            "type": "scattermapbox"
           }
          ],
          "scatterpolar": [
           {
            "marker": {
             "colorbar": {
              "outlinewidth": 0,
              "ticks": ""
             }
            },
            "type": "scatterpolar"
           }
          ],
          "scatterpolargl": [
           {
            "marker": {
             "colorbar": {
              "outlinewidth": 0,
              "ticks": ""
             }
            },
            "type": "scatterpolargl"
           }
          ],
          "scatterternary": [
           {
            "marker": {
             "colorbar": {
              "outlinewidth": 0,
              "ticks": ""
             }
            },
            "type": "scatterternary"
           }
          ],
          "surface": [
           {
            "colorbar": {
             "outlinewidth": 0,
             "ticks": ""
            },
            "colorscale": [
             [
              0,
              "#0d0887"
             ],
             [
              0.1111111111111111,
              "#46039f"
             ],
             [
              0.2222222222222222,
              "#7201a8"
             ],
             [
              0.3333333333333333,
              "#9c179e"
             ],
             [
              0.4444444444444444,
              "#bd3786"
             ],
             [
              0.5555555555555556,
              "#d8576b"
             ],
             [
              0.6666666666666666,
              "#ed7953"
             ],
             [
              0.7777777777777778,
              "#fb9f3a"
             ],
             [
              0.8888888888888888,
              "#fdca26"
             ],
             [
              1,
              "#f0f921"
             ]
            ],
            "type": "surface"
           }
          ],
          "table": [
           {
            "cells": {
             "fill": {
              "color": "#EBF0F8"
             },
             "line": {
              "color": "white"
             }
            },
            "header": {
             "fill": {
              "color": "#C8D4E3"
             },
             "line": {
              "color": "white"
             }
            },
            "type": "table"
           }
          ]
         },
         "layout": {
          "annotationdefaults": {
           "arrowcolor": "#2a3f5f",
           "arrowhead": 0,
           "arrowwidth": 1
          },
          "autotypenumbers": "strict",
          "coloraxis": {
           "colorbar": {
            "outlinewidth": 0,
            "ticks": ""
           }
          },
          "colorscale": {
           "diverging": [
            [
             0,
             "#8e0152"
            ],
            [
             0.1,
             "#c51b7d"
            ],
            [
             0.2,
             "#de77ae"
            ],
            [
             0.3,
             "#f1b6da"
            ],
            [
             0.4,
             "#fde0ef"
            ],
            [
             0.5,
             "#f7f7f7"
            ],
            [
             0.6,
             "#e6f5d0"
            ],
            [
             0.7,
             "#b8e186"
            ],
            [
             0.8,
             "#7fbc41"
            ],
            [
             0.9,
             "#4d9221"
            ],
            [
             1,
             "#276419"
            ]
           ],
           "sequential": [
            [
             0,
             "#0d0887"
            ],
            [
             0.1111111111111111,
             "#46039f"
            ],
            [
             0.2222222222222222,
             "#7201a8"
            ],
            [
             0.3333333333333333,
             "#9c179e"
            ],
            [
             0.4444444444444444,
             "#bd3786"
            ],
            [
             0.5555555555555556,
             "#d8576b"
            ],
            [
             0.6666666666666666,
             "#ed7953"
            ],
            [
             0.7777777777777778,
             "#fb9f3a"
            ],
            [
             0.8888888888888888,
             "#fdca26"
            ],
            [
             1,
             "#f0f921"
            ]
           ],
           "sequentialminus": [
            [
             0,
             "#0d0887"
            ],
            [
             0.1111111111111111,
             "#46039f"
            ],
            [
             0.2222222222222222,
             "#7201a8"
            ],
            [
             0.3333333333333333,
             "#9c179e"
            ],
            [
             0.4444444444444444,
             "#bd3786"
            ],
            [
             0.5555555555555556,
             "#d8576b"
            ],
            [
             0.6666666666666666,
             "#ed7953"
            ],
            [
             0.7777777777777778,
             "#fb9f3a"
            ],
            [
             0.8888888888888888,
             "#fdca26"
            ],
            [
             1,
             "#f0f921"
            ]
           ]
          },
          "colorway": [
           "#636efa",
           "#EF553B",
           "#00cc96",
           "#ab63fa",
           "#FFA15A",
           "#19d3f3",
           "#FF6692",
           "#B6E880",
           "#FF97FF",
           "#FECB52"
          ],
          "font": {
           "color": "#2a3f5f"
          },
          "geo": {
           "bgcolor": "white",
           "lakecolor": "white",
           "landcolor": "white",
           "showlakes": true,
           "showland": true,
           "subunitcolor": "#C8D4E3"
          },
          "hoverlabel": {
           "align": "left"
          },
          "hovermode": "closest",
          "mapbox": {
           "style": "light"
          },
          "paper_bgcolor": "white",
          "plot_bgcolor": "white",
          "polar": {
           "angularaxis": {
            "gridcolor": "#EBF0F8",
            "linecolor": "#EBF0F8",
            "ticks": ""
           },
           "bgcolor": "white",
           "radialaxis": {
            "gridcolor": "#EBF0F8",
            "linecolor": "#EBF0F8",
            "ticks": ""
           }
          },
          "scene": {
           "xaxis": {
            "backgroundcolor": "white",
            "gridcolor": "#DFE8F3",
            "gridwidth": 2,
            "linecolor": "#EBF0F8",
            "showbackground": true,
            "ticks": "",
            "zerolinecolor": "#EBF0F8"
           },
           "yaxis": {
            "backgroundcolor": "white",
            "gridcolor": "#DFE8F3",
            "gridwidth": 2,
            "linecolor": "#EBF0F8",
            "showbackground": true,
            "ticks": "",
            "zerolinecolor": "#EBF0F8"
           },
           "zaxis": {
            "backgroundcolor": "white",
            "gridcolor": "#DFE8F3",
            "gridwidth": 2,
            "linecolor": "#EBF0F8",
            "showbackground": true,
            "ticks": "",
            "zerolinecolor": "#EBF0F8"
           }
          },
          "shapedefaults": {
           "line": {
            "color": "#2a3f5f"
           }
          },
          "ternary": {
           "aaxis": {
            "gridcolor": "#DFE8F3",
            "linecolor": "#A2B1C6",
            "ticks": ""
           },
           "baxis": {
            "gridcolor": "#DFE8F3",
            "linecolor": "#A2B1C6",
            "ticks": ""
           },
           "bgcolor": "white",
           "caxis": {
            "gridcolor": "#DFE8F3",
            "linecolor": "#A2B1C6",
            "ticks": ""
           }
          },
          "title": {
           "x": 0.05
          },
          "xaxis": {
           "automargin": true,
           "gridcolor": "#EBF0F8",
           "linecolor": "#EBF0F8",
           "ticks": "",
           "title": {
            "standoff": 15
           },
           "zerolinecolor": "#EBF0F8",
           "zerolinewidth": 2
          },
          "yaxis": {
           "automargin": true,
           "gridcolor": "#EBF0F8",
           "linecolor": "#EBF0F8",
           "ticks": "",
           "title": {
            "standoff": 15
           },
           "zerolinecolor": "#EBF0F8",
           "zerolinewidth": 2
          }
         }
        },
        "title": {
         "text": "top 5 bekar political parties",
         "x": 0.5,
         "xanchor": "center",
         "y": 0.95,
         "yanchor": "top"
        }
       }
      },
      "image/png": "[encoded data removed]",
      "text/html": [
       "<div>                            <div id=\"a1231894-61a3-451c-8790-bd3ecec777a5\" class=\"plotly-graph-div\" style=\"height:525px; width:100%;\"></div>            <script type=\"text/javascript\">                require([\"plotly\"], function(Plotly) {                    window.PLOTLYENV=window.PLOTLYENV || {};                                    if (document.getElementById(\"a1231894-61a3-451c-8790-bd3ecec777a5\")) {                    Plotly.newPlot(                        \"a1231894-61a3-451c-8790-bd3ecec777a5\",                        [{\"domain\":{\"x\":[0.0,1.0],\"y\":[0.0,1.0]},\"hovertemplate\":\"Page name=%{label}\\u003cbr\\u003eAmount spent (INR)=%{value}\\u003cextra\\u003e\\u003c\\u002fextra\\u003e\",\"labels\":[\"Bharatiya Janata Party (BJP)\",\"Ama Chinha Sankha Chinha\",\"Indian National Congress\",\"Ellorum Nammudan\",\"BJP Odisha\"],\"legendgroup\":\"\",\"name\":\"\",\"showlegend\":true,\"values\":[193854342.0,112412941.0,108787100.0,23806041.0,19573782.0],\"type\":\"pie\",\"textinfo\":\"percent\"}],                        {\"template\":{\"data\":{\"histogram2dcontour\":[{\"type\":\"histogram2dcontour\",\"colorbar\":{\"outlinewidth\":0,\"ticks\":\"\"},\"colorscale\":[[0.0,\"#0d0887\"],[0.1111111111111111,\"#46039f\"],[0.2222222222222222,\"#7201a8\"],[0.3333333333333333,\"#9c179e\"],[0.4444444444444444,\"#bd3786\"],[0.5555555555555556,\"#d8576b\"],[0.6666666666666666,\"#ed7953\"],[0.7777777777777778,\"#fb9f3a\"],[0.8888888888888888,\"#fdca26\"],[1.0,\"#f0f921\"]]}],\"choropleth\":[{\"type\":\"choropleth\",\"colorbar\":{\"outlinewidth\":0,\"ticks\":\"\"}}],\"histogram2d\":[{\"type\":\"histogram2d\",\"colorbar\":{\"outlinewidth\":0,\"ticks\":\"\"},\"colorscale\":[[0.0,\"#0d0887\"],[0.1111111111111111,\"#46039f\"],[0.2222222222222222,\"#7201a8\"],[0.3333333333333333,\"#9c179e\"],[0.4444444444444444,\"#bd3786\"],[0.5555555555555556,\"#d8576b\"],[0.6666666666666666,\"#ed7953\"],[0.7777777777777778,\"#fb9f3a\"],[0.8888888888888888,\"#fdca26\"],[1.0,\"#f0f921\"]]}],\"heatmap\":[{\"type\":\"heatmap\",\"colorbar\":{\"outlinewidth\":0,\"ticks\":\"\"},\"colorscale\":[[0.0,\"#0d0887\"],[0.1111111111111111,\"#46039f\"],[0.2222222222222222,\"#7201a8\"],[0.3333333333333333,\"#9c179e\"],[0.4444444444444444,\"#bd3786\"],[0.5555555555555556,\"#d8576b\"],[0.6666666666666666,\"#ed7953\"],[0.7777777777777778,\"#fb9f3a\"],[0.8888888888888888,\"#fdca26\"],[1.0,\"#f0f921\"]]}],\"heatmapgl\":[{\"type\":\"heatmapgl\",\"colorbar\":{\"outlinewidth\":0,\"ticks\":\"\"},\"colorscale\":[[0.0,\"#0d0887\"],[0.1111111111111111,\"#46039f\"],[0.2222222222222222,\"#7201a8\"],[0.3333333333333333,\"#9c179e\"],[0.4444444444444444,\"#bd3786\"],[0.5555555555555556,\"#d8576b\"],[0.6666666666666666,\"#ed7953\"],[0.7777777777777778,\"#fb9f3a\"],[0.8888888888888888,\"#fdca26\"],[1.0,\"#f0f921\"]]}],\"contourcarpet\":[{\"type\":\"contourcarpet\",\"colorbar\":{\"outlinewidth\":0,\"ticks\":\"\"}}],\"contour\":[{\"type\":\"contour\",\"colorbar\":{\"outlinewidth\":0,\"ticks\":\"\"},\"colorscale\":[[0.0,\"#0d0887\"],[0.1111111111111111,\"#46039f\"],[0.2222222222222222,\"#7201a8\"],[0.3333333333333333,\"#9c179e\"],[0.4444444444444444,\"#bd3786\"],[0.5555555555555556,\"#d8576b\"],[0.6666666666666666,\"#ed7953\"],[0.7777777777777778,\"#fb9f3a\"],[0.8888888888888888,\"#fdca26\"],[1.0,\"#f0f921\"]]}],\"surface\":[{\"type\":\"surface\",\"colorbar\":{\"outlinewidth\":0,\"ticks\":\"\"},\"colorscale\":[[0.0,\"#0d0887\"],[0.1111111111111111,\"#46039f\"],[0.2222222222222222,\"#7201a8\"],[0.3333333333333333,\"#9c179e\"],[0.4444444444444444,\"#bd3786\"],[0.5555555555555556,\"#d8576b\"],[0.6666666666666666,\"#ed7953\"],[0.7777777777777778,\"#fb9f3a\"],[0.8888888888888888,\"#fdca26\"],[1.0,\"#f0f921\"]]}],\"mesh3d\":[{\"type\":\"mesh3d\",\"colorbar\":{\"outlinewidth\":0,\"ticks\":\"\"}}],\"scatter\":[{\"fillpattern\":{\"fillmode\":\"overlay\",\"size\":10,\"solidity\":0.2},\"type\":\"scatter\"}],\"parcoords\":[{\"type\":\"parcoords\",\"line\":{\"colorbar\":{\"outlinewidth\":0,\"ticks\":\"\"}}}],\"scatterpolargl\":[{\"type\":\"scatterpolargl\",\"marker\":{\"colorbar\":{\"outlinewidth\":0,\"ticks\":\"\"}}}],\"bar\":[{\"error_x\":{\"color\":\"#2a3f5f\"},\"error_y\":{\"color\":\"#2a3f5f\"},\"marker\":{\"line\":{\"color\":\"white\",\"width\":0.5},\"pattern\":{\"fillmode\":\"overlay\",\"size\":10,\"solidity\":0.2}},\"type\":\"bar\"}],\"scattergeo\":[{\"type\":\"scattergeo\",\"marker\":{\"colorbar\":{\"outlinewidth\":0,\"ticks\":\"\"}}}],\"scatterpolar\":[{\"type\":\"scatterpolar\",\"marker\":{\"colorbar\":{\"outlinewidth\":0,\"ticks\":\"\"}}}],\"histogram\":[{\"marker\":{\"pattern\":{\"fillmode\":\"overlay\",\"size\":10,\"solidity\":0.2}},\"type\":\"histogram\"}],\"scattergl\":[{\"type\":\"scattergl\",\"marker\":{\"colorbar\":{\"outlinewidth\":0,\"ticks\":\"\"}}}],\"scatter3d\":[{\"type\":\"scatter3d\",\"line\":{\"colorbar\":{\"outlinewidth\":0,\"ticks\":\"\"}},\"marker\":{\"colorbar\":{\"outlinewidth\":0,\"ticks\":\"\"}}}],\"scattermapbox\":[{\"type\":\"scattermapbox\",\"marker\":{\"colorbar\":{\"outlinewidth\":0,\"ticks\":\"\"}}}],\"scatterternary\":[{\"type\":\"scatterternary\",\"marker\":{\"colorbar\":{\"outlinewidth\":0,\"ticks\":\"\"}}}],\"scattercarpet\":[{\"type\":\"scattercarpet\",\"marker\":{\"colorbar\":{\"outlinewidth\":0,\"ticks\":\"\"}}}],\"carpet\":[{\"aaxis\":{\"endlinecolor\":\"#2a3f5f\",\"gridcolor\":\"#C8D4E3\",\"linecolor\":\"#C8D4E3\",\"minorgridcolor\":\"#C8D4E3\",\"startlinecolor\":\"#2a3f5f\"},\"baxis\":{\"endlinecolor\":\"#2a3f5f\",\"gridcolor\":\"#C8D4E3\",\"linecolor\":\"#C8D4E3\",\"minorgridcolor\":\"#C8D4E3\",\"startlinecolor\":\"#2a3f5f\"},\"type\":\"carpet\"}],\"table\":[{\"cells\":{\"fill\":{\"color\":\"#EBF0F8\"},\"line\":{\"color\":\"white\"}},\"header\":{\"fill\":{\"color\":\"#C8D4E3\"},\"line\":{\"color\":\"white\"}},\"type\":\"table\"}],\"barpolar\":[{\"marker\":{\"line\":{\"color\":\"white\",\"width\":0.5},\"pattern\":{\"fillmode\":\"overlay\",\"size\":10,\"solidity\":0.2}},\"type\":\"barpolar\"}],\"pie\":[{\"automargin\":true,\"type\":\"pie\"}]},\"layout\":{\"autotypenumbers\":\"strict\",\"colorway\":[\"#636efa\",\"#EF553B\",\"#00cc96\",\"#ab63fa\",\"#FFA15A\",\"#19d3f3\",\"#FF6692\",\"#B6E880\",\"#FF97FF\",\"#FECB52\"],\"font\":{\"color\":\"#2a3f5f\"},\"hovermode\":\"closest\",\"hoverlabel\":{\"align\":\"left\"},\"paper_bgcolor\":\"white\",\"plot_bgcolor\":\"white\",\"polar\":{\"bgcolor\":\"white\",\"angularaxis\":{\"gridcolor\":\"#EBF0F8\",\"linecolor\":\"#EBF0F8\",\"ticks\":\"\"},\"radialaxis\":{\"gridcolor\":\"#EBF0F8\",\"linecolor\":\"#EBF0F8\",\"ticks\":\"\"}},\"ternary\":{\"bgcolor\":\"white\",\"aaxis\":{\"gridcolor\":\"#DFE8F3\",\"linecolor\":\"#A2B1C6\",\"ticks\":\"\"},\"baxis\":{\"gridcolor\":\"#DFE8F3\",\"linecolor\":\"#A2B1C6\",\"ticks\":\"\"},\"caxis\":{\"gridcolor\":\"#DFE8F3\",\"linecolor\":\"#A2B1C6\",\"ticks\":\"\"}},\"coloraxis\":{\"colorbar\":{\"outlinewidth\":0,\"ticks\":\"\"}},\"colorscale\":{\"sequential\":[[0.0,\"#0d0887\"],[0.1111111111111111,\"#46039f\"],[0.2222222222222222,\"#7201a8\"],[0.3333333333333333,\"#9c179e\"],[0.4444444444444444,\"#bd3786\"],[0.5555555555555556,\"#d8576b\"],[0.6666666666666666,\"#ed7953\"],[0.7777777777777778,\"#fb9f3a\"],[0.8888888888888888,\"#fdca26\"],[1.0,\"#f0f921\"]],\"sequentialminus\":[[0.0,\"#0d0887\"],[0.1111111111111111,\"#46039f\"],[0.2222222222222222,\"#7201a8\"],[0.3333333333333333,\"#9c179e\"],[0.4444444444444444,\"#bd3786\"],[0.5555555555555556,\"#d8576b\"],[0.6666666666666666,\"#ed7953\"],[0.7777777777777778,\"#fb9f3a\"],[0.8888888888888888,\"#fdca26\"],[1.0,\"#f0f921\"]],\"diverging\":[[0,\"#8e0152\"],[0.1,\"#c51b7d\"],[0.2,\"#de77ae\"],[0.3,\"#f1b6da\"],[0.4,\"#fde0ef\"],[0.5,\"#f7f7f7\"],[0.6,\"#e6f5d0\"],[0.7,\"#b8e186\"],[0.8,\"#7fbc41\"],[0.9,\"#4d9221\"],[1,\"#276419\"]]},\"xaxis\":{\"gridcolor\":\"#EBF0F8\",\"linecolor\":\"#EBF0F8\",\"ticks\":\"\",\"title\":{\"standoff\":15},\"zerolinecolor\":\"#EBF0F8\",\"automargin\":true,\"zerolinewidth\":2},\"yaxis\":{\"gridcolor\":\"#EBF0F8\",\"linecolor\":\"#EBF0F8\",\"ticks\":\"\",\"title\":{\"standoff\":15},\"zerolinecolor\":\"#EBF0F8\",\"automargin\":true,\"zerolinewidth\":2},\"scene\":{\"xaxis\":{\"backgroundcolor\":\"white\",\"gridcolor\":\"#DFE8F3\",\"linecolor\":\"#EBF0F8\",\"showbackground\":true,\"ticks\":\"\",\"zerolinecolor\":\"#EBF0F8\",\"gridwidth\":2},\"yaxis\":{\"backgroundcolor\":\"white\",\"gridcolor\":\"#DFE8F3\",\"linecolor\":\"#EBF0F8\",\"showbackground\":true,\"ticks\":\"\",\"zerolinecolor\":\"#EBF0F8\",\"gridwidth\":2},\"zaxis\":{\"backgroundcolor\":\"white\",\"gridcolor\":\"#DFE8F3\",\"linecolor\":\"#EBF0F8\",\"showbackground\":true,\"ticks\":\"\",\"zerolinecolor\":\"#EBF0F8\",\"gridwidth\":2}},\"shapedefaults\":{\"line\":{\"color\":\"#2a3f5f\"}},\"annotationdefaults\":{\"arrowcolor\":\"#2a3f5f\",\"arrowhead\":0,\"arrowwidth\":1},\"geo\":{\"bgcolor\":\"white\",\"landcolor\":\"white\",\"subunitcolor\":\"#C8D4E3\",\"showland\":true,\"showlakes\":true,\"lakecolor\":\"white\"},\"title\":{\"x\":0.05},\"mapbox\":{\"style\":\"light\"}}},\"legend\":{\"tracegroupgap\":0,\"orientation\":\"v\",\"yanchor\":\"top\",\"y\":1,\"xanchor\":\"left\",\"x\":-0.3},\"title\":{\"text\":\"top 5 bekar political parties\",\"y\":0.95,\"x\":0.5,\"xanchor\":\"center\",\"yanchor\":\"top\"},\"piecolorway\":[\"#ff9999\",\"#66b3ff\",\"#99ff99\",\"#ffcc99\",\"#c2c2f0\"],\"showlegend\":true},                        {\"responsive\": true}                    ).then(function(){\n",
       "                            \n",
       "var gd = document.getElementById('a1231894-61a3-451c-8790-bd3ecec777a5');\n",
       "var x = new MutationObserver(function (mutations, observer) {{\n",
       "        var display = window.getComputedStyle(gd).display;\n",
       "        if (!display || display === 'none') {{\n",
       "            console.log([gd, 'removed!']);\n",
       "            Plotly.purge(gd);\n",
       "            observer.disconnect();\n",
       "        }}\n",
       "}});\n",
       "\n",
       "// Listen for the removal of the full notebook cells\n",
       "var notebookContainer = gd.closest('#notebook-container');\n",
       "if (notebookContainer) {{\n",
       "    x.observe(notebookContainer, {childList: true});\n",
       "}}\n",
       "\n",
       "// Listen for the clearing of the current output cell\n",
       "var outputEl = gd.closest('.output');\n",
       "if (outputEl) {{\n",
       "    x.observe(outputEl, {childList: true});\n",
       "}}\n",
       "\n",
       "                        })                };                });            </script>        </div>"
      ]
     },
     "metadata": {},
     "output_type": "display_data"
    }
   ],
   "source": [
    "advertiser['Amount spent (INR)'] = pd.to_numeric(advertiser['Amount spent (INR)'], errors = 'coerce')\n",
    "##s = advertiser.dtypes\n",
    "#print(s)\n",
    "#null = advertiser['Amount spent (INR)'].isnull()\n",
    "#print(null)\n",
    "\n",
    "advertiser.dropna(subset = ['Amount spent (INR)'], inplace = True)\n",
    "party_ad_spend = advertiser.groupby('Page name')['Amount spent (INR)'].sum().sort_values(ascending = False)\n",
    "\n",
    "top_5_parties = party_ad_spend.head(5).reset_index()\n",
    "top_5_parties.index +=1\n",
    "\n",
    "#print(top_5_parties)\n",
    "#colors = []\n",
    "\n",
    "colors = ['#ff9999', '#66b3ff', '#99ff99', '#ffcc99', '#c2c2f0']\n",
    "fig = px.pie(top_5_parties, values = 'Amount spent (INR)',title = 'top 5 bekar political parties',names = 'Page name', color_discrete_sequence = colors)\n",
    "fig.update_traces(textinfo='percent')\n",
    "\n",
    "fig.update_layout(\n",
    "    showlegend = True,\n",
    "    legend= dict(orientation = \"v\",\n",
    "            yanchor = \"top\",\n",
    "            y = 1,\n",
    "            xanchor = \"left\",\n",
    "            x=-0.3)\n",
    "    , title = dict(\n",
    "        y=0.95,\n",
    "        x=0.5,\n",
    "        xanchor = 'center',\n",
    "        yanchor = 'top')\n",
    ")\n",
    "\n",
    "fig.show()\n",
    "\n"
   ]
  },
  {
   "cell_type": "code",
   "execution_count": 220,
   "id": "318b5a1b-ea7c-4438-aaee-ff0e66cf3348",
   "metadata": {},
   "outputs": [
    {
     "name": "stdout",
     "output_type": "stream",
     "text": [
      "                    Amount spent (INR)  Polled (%)\n",
      "Amount spent (INR)            1.000000   -0.010688\n",
      "Polled (%)                   -0.010688    1.000000\n"
     ]
    }
   ],
   "source": [
    "correlation = merge_data[['Amount spent (INR)','Polled (%)']].corr()\n",
    "print(correlation)"
   ]
  },
  {
   "cell_type": "code",
   "execution_count": 236,
   "id": "16b330f2-a5d0-481a-b892-5bb3f0ffaafe",
   "metadata": {},
   "outputs": [
    {
     "data": {
      "application/vnd.plotly.v1+json": {
       "config": {
        "plotlyServerURL": "https://plot.ly"
       },
       "data": [
        {
         "hovertemplate": "State=andaman & nicobar islands<br>Total ad spent=%{x}<br>Voter turnout=%{y}<extra></extra>",
         "legendgroup": "andaman & nicobar islands",
         "marker": {
          "color": "#636efa",
          "symbol": "circle"
         },
         "mode": "markers",
         "name": "andaman & nicobar islands",
         "orientation": "v",
         "showlegend": true,
         "type": "scatter",
         "x": [
          null
         ],
         "xaxis": "x",
         "y": [
          64.1
         ],
         "yaxis": "y"
        },
        {
         "hovertemplate": "State=arunachal pradesh<br>Total ad spent=%{x}<br>Voter turnout=%{y}<extra></extra>",
         "legendgroup": "arunachal pradesh",
         "marker": {
          "color": "#EF553B",
          "symbol": "circle"
         },
         "mode": "markers",
         "name": "arunachal pradesh",
         "orientation": "v",
         "showlegend": true,
         "type": "scatter",
         "x": [
          1385654,
          1385654
         ],
         "xaxis": "x",
         "y": [
          83.31,
          73.6
         ],
         "yaxis": "y"
        },
        {
         "hovertemplate": "State=assam<br>Total ad spent=%{x}<br>Voter turnout=%{y}<extra></extra>",
         "legendgroup": "assam",
         "marker": {
          "color": "#00cc96",
          "symbol": "circle"
         },
         "mode": "markers",
         "name": "assam",
         "orientation": "v",
         "showlegend": true,
         "type": "scatter",
         "x": [
          17478091,
          17478091,
          17478091,
          17478091,
          17478091,
          17478091,
          17478091,
          17478091,
          17478091,
          17478091,
          17478091,
          17478091,
          17478091,
          17478091
         ],
         "xaxis": "x",
         "y": [
          76.75,
          79.89,
          79.33,
          76.42,
          78.46,
          82.01,
          75.74,
          80.48,
          84.97,
          79.05,
          85.24,
          92.08,
          78.39,
          83.55
         ],
         "yaxis": "y"
        },
        {
         "hovertemplate": "State=bihar<br>Total ad spent=%{x}<br>Voter turnout=%{y}<extra></extra>",
         "legendgroup": "bihar",
         "marker": {
          "color": "#ab63fa",
          "symbol": "circle"
         },
         "mode": "markers",
         "name": "bihar",
         "orientation": "v",
         "showlegend": true,
         "type": "scatter",
         "x": [
          53619242,
          53619242,
          53619242,
          53619242,
          53619242,
          53619242,
          53619242,
          53619242,
          53619242,
          53619242,
          53619242,
          53619242,
          53619242,
          53619242,
          53619242,
          53619242,
          53619242,
          53619242,
          53619242,
          53619242,
          53619242,
          53619242,
          53619242,
          53619242,
          53619242,
          53619242,
          53619242,
          53619242,
          53619242,
          53619242,
          53619242,
          53619242,
          53619242,
          53619242,
          53619242,
          53619242,
          53619242,
          53619242,
          53619242,
          53619242
         ],
         "xaxis": "x",
         "y": [
          50.35,
          52.76,
          51.25,
          43.17,
          54.48,
          53.5,
          63.76,
          62.84,
          63.08,
          61.93,
          54.48,
          57.52,
          58.29,
          63.55,
          58.7,
          57.37,
          55.55,
          60.11,
          59.59,
          58.43,
          53.04,
          59.47,
          56.73,
          56.21,
          52.32,
          52.27,
          61.62,
          59.68,
          57.4,
          52.49,
          62.59,
          60.19,
          50.27,
          55.39,
          55.09,
          54.68,
          49.78,
          59.24,
          46.85,
          57.16
         ],
         "yaxis": "y"
        },
        {
         "hovertemplate": "State=chhattisgarh<br>Total ad spent=%{x}<br>Voter turnout=%{y}<extra></extra>",
         "legendgroup": "chhattisgarh",
         "marker": {
          "color": "#FFA15A",
          "symbol": "circle"
         },
         "mode": "markers",
         "name": "chhattisgarh",
         "orientation": "v",
         "showlegend": true,
         "type": "scatter",
         "x": [
          14803286,
          14803286,
          14803286,
          14803286,
          14803286,
          14803286,
          14803286,
          14803286,
          14803286,
          14803286,
          14803286
         ],
         "xaxis": "x",
         "y": [
          68.29,
          76.23,
          75.02,
          77.42,
          64.77,
          73.68,
          67.56,
          75.63,
          78.85,
          66.82,
          79.89
         ],
         "yaxis": "y"
        },
        {
         "hovertemplate": "State=jammu and kashmir<br>Total ad spent=%{x}<br>Voter turnout=%{y}<extra></extra>",
         "legendgroup": "jammu and kashmir",
         "marker": {
          "color": "#19d3f3",
          "symbol": "circle"
         },
         "mode": "markers",
         "name": "jammu and kashmir",
         "orientation": "v",
         "showlegend": true,
         "type": "scatter",
         "x": [
          6575061,
          6575061,
          6575061,
          6575061,
          6575061
         ],
         "xaxis": "x",
         "y": [
          68.27,
          72.22,
          38.49,
          59.1,
          55.4
         ],
         "yaxis": "y"
        },
        {
         "hovertemplate": "State=lakshadweep<br>Total ad spent=%{x}<br>Voter turnout=%{y}<extra></extra>",
         "legendgroup": "lakshadweep",
         "marker": {
          "color": "#FF6692",
          "symbol": "circle"
         },
         "mode": "markers",
         "name": "lakshadweep",
         "orientation": "v",
         "showlegend": true,
         "type": "scatter",
         "x": [
          19847
         ],
         "xaxis": "x",
         "y": [
          84.16
         ],
         "yaxis": "y"
        },
        {
         "hovertemplate": "State=madhya pradesh<br>Total ad spent=%{x}<br>Voter turnout=%{y}<extra></extra>",
         "legendgroup": "madhya pradesh",
         "marker": {
          "color": "#B6E880",
          "symbol": "circle"
         },
         "mode": "markers",
         "name": "madhya pradesh",
         "orientation": "v",
         "showlegend": true,
         "type": "scatter",
         "x": [
          39992952,
          39992952,
          39992952,
          39992952,
          39992952,
          39992952,
          39992952,
          39992952,
          39992952,
          39992952,
          39992952,
          39992952,
          39992952,
          39992952,
          39992952,
          39992952,
          39992952,
          39992952,
          39992952,
          39992952,
          39992952,
          39992952,
          39992952,
          39992952,
          39992952,
          39992952,
          39992952,
          39992952,
          39992952
         ],
         "xaxis": "x",
         "y": [
          73.45,
          79.83,
          61,
          72.84,
          64.68,
          56.5,
          56.48,
          67.21,
          56.97,
          49.43,
          61.94,
          60,
          73.53,
          54.93,
          64.06,
          72.43,
          62.13,
          58.97,
          76.04,
          65.75,
          74.48,
          75.48,
          72.76,
          61.67,
          71.52,
          76.03,
          75.27,
          72.94,
          73.82
         ],
         "yaxis": "y"
        },
        {
         "hovertemplate": "State=maharashtra<br>Total ad spent=%{x}<br>Voter turnout=%{y}<extra></extra>",
         "legendgroup": "maharashtra",
         "marker": {
          "color": "#FF97FF",
          "symbol": "circle"
         },
         "mode": "markers",
         "name": "maharashtra",
         "orientation": "v",
         "showlegend": true,
         "type": "scatter",
         "x": [
          101917091,
          101917091,
          101917091,
          101917091,
          101917091,
          101917091,
          101917091,
          101917091,
          101917091,
          101917091,
          101917091,
          101917091,
          101917091,
          101917091,
          101917091,
          101917091,
          101917091,
          101917091,
          101917091,
          101917091,
          101917091,
          101917091,
          101917091,
          101917091,
          101917091,
          101917091,
          101917091,
          101917091,
          101917091,
          101917091,
          101917091,
          101917091,
          101917091,
          101917091,
          101917091,
          101917091,
          101917091,
          101917091,
          101917091,
          101917091,
          101917091,
          101917091,
          101917091,
          101917091,
          101917091,
          101917091,
          101917091,
          101917091
         ],
         "xaxis": "x",
         "y": [
          67.04,
          67.55,
          71.88,
          54.32,
          61.01,
          61.79,
          63.67,
          62.03,
          63.54,
          60.94,
          62.26,
          64.85,
          62.87,
          59.5,
          71.11,
          71.59,
          62.59,
          63.65,
          63.88,
          60.51,
          62.52,
          62.27,
          63.16,
          59.19,
          66.61,
          63.03,
          70.92,
          58.47,
          69.18,
          54.87,
          70.68,
          53.54,
          64.28,
          63.03,
          54.16,
          59.89,
          60.21,
          66.75,
          50.12,
          57.02,
          51.98,
          56.37,
          54.84,
          50.06,
          53.6,
          60.75,
          63.91,
          52.09
         ],
         "yaxis": "y"
        },
        {
         "hovertemplate": "State=manipur<br>Total ad spent=%{x}<br>Voter turnout=%{y}<extra></extra>",
         "legendgroup": "manipur",
         "marker": {
          "color": "#FECB52",
          "symbol": "circle"
         },
         "mode": "markers",
         "name": "manipur",
         "orientation": "v",
         "showlegend": true,
         "type": "scatter",
         "x": [
          889062,
          889062,
          889062
         ],
         "xaxis": "x",
         "y": [
          80.15,
          68.83,
          85.11
         ],
         "yaxis": "y"
        },
        {
         "hovertemplate": "State=meghalaya<br>Total ad spent=%{x}<br>Voter turnout=%{y}<extra></extra>",
         "legendgroup": "meghalaya",
         "marker": {
          "color": "#636efa",
          "symbol": "circle"
         },
         "mode": "markers",
         "name": "meghalaya",
         "orientation": "v",
         "showlegend": true,
         "type": "scatter",
         "x": [
          884220,
          884220
         ],
         "xaxis": "x",
         "y": [
          73.78,
          81.37
         ],
         "yaxis": "y"
        },
        {
         "hovertemplate": "State=mizoram<br>Total ad spent=%{x}<br>Voter turnout=%{y}<extra></extra>",
         "legendgroup": "mizoram",
         "marker": {
          "color": "#EF553B",
          "symbol": "circle"
         },
         "mode": "markers",
         "name": "mizoram",
         "orientation": "v",
         "showlegend": true,
         "type": "scatter",
         "x": [
          481052
         ],
         "xaxis": "x",
         "y": [
          56.87
         ],
         "yaxis": "y"
        },
        {
         "hovertemplate": "State=nagaland<br>Total ad spent=%{x}<br>Voter turnout=%{y}<extra></extra>",
         "legendgroup": "nagaland",
         "marker": {
          "color": "#00cc96",
          "symbol": "circle"
         },
         "mode": "markers",
         "name": "nagaland",
         "orientation": "v",
         "showlegend": true,
         "type": "scatter",
         "x": [
          599170
         ],
         "xaxis": "x",
         "y": [
          57.72
         ],
         "yaxis": "y"
        },
        {
         "hovertemplate": "State=puducherry<br>Total ad spent=%{x}<br>Voter turnout=%{y}<extra></extra>",
         "legendgroup": "puducherry",
         "marker": {
          "color": "#ab63fa",
          "symbol": "circle"
         },
         "mode": "markers",
         "name": "puducherry",
         "orientation": "v",
         "showlegend": true,
         "type": "scatter",
         "x": [
          1535672
         ],
         "xaxis": "x",
         "y": [
          78.9
         ],
         "yaxis": "y"
        },
        {
         "hovertemplate": "State=rajasthan<br>Total ad spent=%{x}<br>Voter turnout=%{y}<extra></extra>",
         "legendgroup": "rajasthan",
         "marker": {
          "color": "#FFA15A",
          "symbol": "circle"
         },
         "mode": "markers",
         "name": "rajasthan",
         "orientation": "v",
         "showlegend": true,
         "type": "scatter",
         "x": [
          41268323,
          41268323,
          41268323,
          41268323,
          41268323,
          41268323,
          41268323,
          41268323,
          41268323,
          41268323,
          41268323,
          41268323,
          41268323,
          41268323,
          41268323,
          41268323,
          41268323,
          41268323,
          41268323,
          41268323,
          41268323,
          41268323,
          41268323,
          41268323,
          41268323
         ],
         "xaxis": "x",
         "y": [
          60.07,
          52.8,
          54.11,
          63.61,
          55.72,
          66.59,
          63.38,
          56.7,
          52.93,
          49.59,
          57.23,
          57.53,
          59.66,
          73.88,
          75.93,
          60.37,
          68.61,
          62.89,
          69.71,
          64.27,
          71.26,
          57.19,
          58.39,
          56.58,
          66.66
         ],
         "yaxis": "y"
        },
        {
         "hovertemplate": "State=sikkim<br>Total ad spent=%{x}<br>Voter turnout=%{y}<extra></extra>",
         "legendgroup": "sikkim",
         "marker": {
          "color": "#19d3f3",
          "symbol": "circle"
         },
         "mode": "markers",
         "name": "sikkim",
         "orientation": "v",
         "showlegend": true,
         "type": "scatter",
         "x": [
          4379297
         ],
         "xaxis": "x",
         "y": [
          79.88
         ],
         "yaxis": "y"
        },
        {
         "hovertemplate": "State=tamil nadu<br>Total ad spent=%{x}<br>Voter turnout=%{y}<extra></extra>",
         "legendgroup": "tamil nadu",
         "marker": {
          "color": "#FF6692",
          "symbol": "circle"
         },
         "mode": "markers",
         "name": "tamil nadu",
         "orientation": "v",
         "showlegend": true,
         "type": "scatter",
         "x": [
          76622608,
          76622608,
          76622608,
          76622608,
          76622608,
          76622608,
          76622608,
          76622608,
          76622608,
          76622608,
          76622608,
          76622608,
          76622608,
          76622608,
          76622608,
          76622608,
          76622608,
          76622608,
          76622608,
          76622608,
          76622608,
          76622608,
          76622608,
          76622608,
          76622608,
          76622608,
          76622608,
          76622608,
          76622608,
          76622608,
          76622608,
          76622608,
          76622608,
          76622608,
          76622608,
          76622608,
          76622608,
          76622608,
          76622608
         ],
         "xaxis": "x",
         "y": [
          74.19,
          75.76,
          53.96,
          60.11,
          54.17,
          76.37,
          64.89,
          72.57,
          81.2,
          71.14,
          70.59,
          79.21,
          71.68,
          65.44,
          78.7,
          71.5,
          62.04,
          70.09,
          71.94,
          78.21,
          70.95,
          77.43,
          70.41,
          68.19,
          78.16,
          64.26,
          60.25,
          67.65,
          68.27,
          69.84,
          66.88,
          67.51,
          64.1,
          70.62,
          68.59,
          74.24,
          73.53,
          76.52,
          70.22
         ],
         "yaxis": "y"
        },
        {
         "hovertemplate": "State=tripura<br>Total ad spent=%{x}<br>Voter turnout=%{y}<extra></extra>",
         "legendgroup": "tripura",
         "marker": {
          "color": "#B6E880",
          "symbol": "circle"
         },
         "mode": "markers",
         "name": "tripura",
         "orientation": "v",
         "showlegend": true,
         "type": "scatter",
         "x": [
          1857459,
          1857459
         ],
         "xaxis": "x",
         "y": [
          81.48,
          80.36
         ],
         "yaxis": "y"
        },
        {
         "hovertemplate": "State=uttar pradesh<br>Total ad spent=%{x}<br>Voter turnout=%{y}<extra></extra>",
         "legendgroup": "uttar pradesh",
         "marker": {
          "color": "#FF97FF",
          "symbol": "circle"
         },
         "mode": "markers",
         "name": "uttar pradesh",
         "orientation": "v",
         "showlegend": true,
         "type": "scatter",
         "x": [
          89668131,
          89668131,
          89668131,
          89668131,
          89668131,
          89668131,
          89668131,
          89668131,
          89668131,
          89668131,
          89668131,
          89668131,
          89668131,
          89668131,
          89668131,
          89668131,
          89668131,
          89668131,
          89668131,
          89668131,
          89668131,
          89668131,
          89668131,
          89668131,
          89668131,
          89668131,
          89668131,
          89668131,
          89668131,
          89668131,
          89668131,
          89668131,
          89668131,
          89668131,
          89668131,
          89668131,
          89668131,
          89668131,
          89668131,
          89668131,
          89668131,
          89668131,
          89668131,
          89668131,
          89668131,
          89668131,
          89668131,
          89668131,
          89668131,
          89668131,
          89668131,
          89668131,
          89668131,
          89668131,
          89668131,
          89668131,
          89668131,
          89668131,
          89668131,
          89668131,
          89668131,
          89668131,
          89668131,
          89668131,
          89668131,
          89668131,
          89668131,
          89668131,
          89668131,
          89668131,
          89668131,
          89668131,
          89668131,
          89668131,
          89668131,
          89668131,
          89668131,
          89668131,
          89668131,
          89668131
         ],
         "xaxis": "x",
         "y": [
          58.73,
          62.46,
          62.18,
          59.13,
          60.75,
          63.11,
          55.85,
          66.14,
          56.93,
          64.58,
          56.16,
          56.42,
          53.63,
          49.88,
          49.41,
          58.94,
          54.08,
          57.44,
          54.35,
          58.03,
          59.31,
          57.19,
          58.53,
          55.71,
          58.73,
          62.91,
          57.78,
          57.42,
          64.54,
          56.36,
          59.08,
          57.52,
          61.08,
          53.05,
          64.68,
          55.89,
          53.36,
          62.54,
          55.46,
          54.34,
          59.7,
          67.2,
          59.14,
          57.09,
          51.62,
          60.6,
          56.18,
          63.86,
          55.68,
          52.8,
          52.28,
          62.88,
          58.12,
          51.82,
          61.58,
          56.16,
          56.67,
          53.07,
          51.97,
          55.59,
          54.38,
          54.49,
          48.91,
          51.45,
          52.57,
          52.83,
          55.63,
          52.05,
          51.79,
          60.58,
          55.51,
          55.45,
          55.05,
          54.93,
          57.57,
          60.31,
          57.92,
          56.78,
          51.38,
          56.49
         ],
         "yaxis": "y"
        },
        {
         "hovertemplate": "State=uttarakhand<br>Total ad spent=%{x}<br>Voter turnout=%{y}<extra></extra>",
         "legendgroup": "uttarakhand",
         "marker": {
          "color": "#FECB52",
          "symbol": "circle"
         },
         "mode": "markers",
         "name": "uttarakhand",
         "orientation": "v",
         "showlegend": true,
         "type": "scatter",
         "x": [
          7140897,
          7140897,
          7140897,
          7140897,
          7140897
         ],
         "xaxis": "x",
         "y": [
          48.74,
          52.42,
          63.53,
          62.47,
          53.76
         ],
         "yaxis": "y"
        },
        {
         "hovertemplate": "State=west bengal<br>Total ad spent=%{x}<br>Voter turnout=%{y}<extra></extra>",
         "legendgroup": "west bengal",
         "marker": {
          "color": "#636efa",
          "symbol": "circle"
         },
         "mode": "markers",
         "name": "west bengal",
         "orientation": "v",
         "showlegend": true,
         "type": "scatter",
         "x": [
          77244996,
          77244996,
          77244996,
          77244996,
          77244996,
          77244996,
          77244996,
          77244996,
          77244996,
          77244996,
          77244996,
          77244996,
          77244996,
          77244996,
          77244996,
          77244996,
          77244996,
          77244996,
          77244996,
          77244996,
          77244996,
          77244996,
          77244996,
          77244996,
          77244996,
          77244996,
          77244996,
          77244996,
          77244996,
          77244996,
          77244996,
          77244996,
          77244996,
          77244996,
          77244996,
          77244996,
          77244996,
          77244996,
          77244996,
          77244996,
          77244996,
          77244996
         ],
         "xaxis": "x",
         "y": [
          79.76,
          82.16,
          83.66,
          79.09,
          74.76,
          76.18,
          75.72,
          76.69,
          76.03,
          81.52,
          73.27,
          77.54,
          82.85,
          80.72,
          81.91,
          82.66,
          80.65,
          81.87,
          82.62,
          81.04,
          75.41,
          81.38,
          71.73,
          76.44,
          79.78,
          80.75,
          85.91,
          82.17,
          83.47,
          84.77,
          81.56,
          78.39,
          84.79,
          80.17,
          84.31,
          81.04,
          73.81,
          76.68,
          80.08,
          66.95,
          63.59,
          82.02
         ],
         "yaxis": "y"
        },
        {
         "hovertemplate": "State=karnataka<br>Total ad spent=%{x}<br>Voter turnout=%{y}<extra></extra>",
         "legendgroup": "karnataka",
         "marker": {
          "color": "#00cc96",
          "symbol": "circle"
         },
         "mode": "markers",
         "name": "karnataka",
         "orientation": "v",
         "showlegend": true,
         "type": "scatter",
         "x": [
          41659397,
          41659397,
          41659397,
          41659397,
          41659397,
          41659397,
          41659397,
          41659397,
          41659397,
          41659397,
          41659397,
          41659397,
          41659397,
          41659397,
          41659397,
          41659397,
          41659397,
          41659397,
          41659397,
          41659397,
          41659397,
          41659397,
          41659397,
          41659397,
          41659397,
          41659397,
          41659397,
          41659397
         ],
         "xaxis": "x",
         "y": [
          54.06,
          54.45,
          68.3,
          53.17,
          76.82,
          77,
          73.3,
          77.56,
          77.68,
          78.27,
          81.67,
          70.62,
          78.05,
          77.15,
          72.66,
          71.49,
          73.59,
          65.47,
          66.32,
          78.66,
          76.99,
          74.37,
          62.25,
          77.6,
          70.99,
          64.66,
          78.33,
          76.53
         ],
         "yaxis": "y"
        },
        {
         "hovertemplate": "State=kerala<br>Total ad spent=%{x}<br>Voter turnout=%{y}<extra></extra>",
         "legendgroup": "kerala",
         "marker": {
          "color": "#ab63fa",
          "symbol": "circle"
         },
         "mode": "markers",
         "name": "kerala",
         "orientation": "v",
         "showlegend": true,
         "type": "scatter",
         "x": [
          22681201,
          22681201,
          22681201,
          22681201,
          22681201,
          22681201,
          22681201,
          22681201,
          22681201,
          22681201,
          22681201,
          22681201,
          22681201,
          22681201,
          22681201,
          22681201,
          22681201,
          22681201,
          22681201,
          22681201
         ],
         "xaxis": "x",
         "y": [
          75.05,
          73.42,
          69.48,
          71.94,
          68.29,
          66.55,
          77.21,
          76.04,
          68.15,
          65.61,
          75.52,
          72.95,
          65.95,
          73.57,
          63.37,
          69.34,
          66.47,
          72.9,
          78.41,
          73.57
         ],
         "yaxis": "y"
        },
        {
         "hovertemplate": "State=dadra & nagar haveli and\ndaman & diu<br>Total ad spent=%{x}<br>Voter turnout=%{y}<extra></extra>",
         "legendgroup": "dadra & nagar haveli and\ndaman & diu",
         "marker": {
          "color": "#FFA15A",
          "symbol": "circle"
         },
         "mode": "markers",
         "name": "dadra & nagar haveli and\ndaman & diu",
         "orientation": "v",
         "showlegend": true,
         "type": "scatter",
         "x": [
          null,
          null
         ],
         "xaxis": "x",
         "y": [
          72.52,
          68.77
         ],
         "yaxis": "y"
        },
        {
         "hovertemplate": "State=goa<br>Total ad spent=%{x}<br>Voter turnout=%{y}<extra></extra>",
         "legendgroup": "goa",
         "marker": {
          "color": "#19d3f3",
          "symbol": "circle"
         },
         "mode": "markers",
         "name": "goa",
         "orientation": "v",
         "showlegend": true,
         "type": "scatter",
         "x": [
          2164209,
          2164209
         ],
         "xaxis": "x",
         "y": [
          77.69,
          74.47
         ],
         "yaxis": "y"
        },
        {
         "hovertemplate": "State=gujarat<br>Total ad spent=%{x}<br>Voter turnout=%{y}<extra></extra>",
         "legendgroup": "gujarat",
         "marker": {
          "color": "#FF6692",
          "symbol": "circle"
         },
         "mode": "markers",
         "name": "gujarat",
         "orientation": "v",
         "showlegend": true,
         "type": "scatter",
         "x": [
          40425399,
          40425399,
          40425399,
          40425399,
          40425399,
          40425399,
          40425399,
          40425399,
          40425399,
          40425399,
          40425399,
          40425399,
          40425399,
          40425399,
          40425399,
          40425399,
          40425399,
          40425399,
          40425399,
          40425399,
          40425399,
          40425399,
          40425399,
          40425399,
          40425399
         ],
         "xaxis": "x",
         "y": [
          54.72,
          55.45,
          50.29,
          65.04,
          69.62,
          64.81,
          69.16,
          53.92,
          69.15,
          59.31,
          59.8,
          57.67,
          58.91,
          56.14,
          58.12,
          59.86,
          59.66,
          58.85,
          58.56,
          51.83,
          59.69,
          63.56,
          55.09,
          61.59,
          72.71
         ],
         "yaxis": "y"
        },
        {
         "hovertemplate": "State=andhra pradesh<br>Total ad spent=%{x}<br>Voter turnout=%{y}<extra></extra>",
         "legendgroup": "andhra pradesh",
         "marker": {
          "color": "#B6E880",
          "symbol": "circle"
         },
         "mode": "markers",
         "name": "andhra pradesh",
         "orientation": "v",
         "showlegend": true,
         "type": "scatter",
         "x": [
          100819732,
          100819732,
          100819732,
          100819732,
          100819732,
          100819732,
          100819732,
          100819732,
          100819732,
          100819732,
          100819732,
          100819732,
          100819732,
          100819732,
          100819732,
          100819732,
          100819732,
          100819732,
          100819732,
          100819732,
          100819732,
          100819732,
          100819732,
          100819732,
          100819732
         ],
         "xaxis": "x",
         "y": [
          83.85,
          82.03,
          80.51,
          73.68,
          85.48,
          85.77,
          83.68,
          78.81,
          84.7,
          79.57,
          80.3,
          76.8,
          84.05,
          80.61,
          82.59,
          85.65,
          79.05,
          87.06,
          80.93,
          79.09,
          74.43,
          79.1,
          79.37,
          71.11,
          81.05
         ],
         "yaxis": "y"
        },
        {
         "hovertemplate": "State=jharkhand<br>Total ad spent=%{x}<br>Voter turnout=%{y}<extra></extra>",
         "legendgroup": "jharkhand",
         "marker": {
          "color": "#FF97FF",
          "symbol": "circle"
         },
         "mode": "markers",
         "name": "jharkhand",
         "orientation": "v",
         "showlegend": true,
         "type": "scatter",
         "x": [
          16380139,
          16380139,
          16380139,
          16380139,
          16380139,
          16380139,
          16380139,
          16380139,
          16380139,
          16380139,
          16380139,
          16380139,
          16380139,
          16380139
         ],
         "xaxis": "x",
         "y": [
          69.93,
          66.45,
          61.27,
          69.32,
          63.69,
          64.39,
          61.81,
          62.06,
          67.23,
          67.68,
          65.36,
          73.87,
          68.63,
          70.78
         ],
         "yaxis": "y"
        },
        {
         "hovertemplate": "State=odisha<br>Total ad spent=%{x}<br>Voter turnout=%{y}<extra></extra>",
         "legendgroup": "odisha",
         "marker": {
          "color": "#FECB52",
          "symbol": "circle"
         },
         "mode": "markers",
         "name": "odisha",
         "orientation": "v",
         "showlegend": true,
         "type": "scatter",
         "x": [
          180252277,
          180252277,
          180252277,
          180252277,
          180252277,
          180252277,
          180252277,
          180252277,
          180252277,
          180252277,
          180252277,
          180252277,
          180252277,
          180252277,
          180252277,
          180252277,
          180252277,
          180252277,
          180252277,
          180252277,
          180252277
         ],
         "xaxis": "x",
         "y": [
          65.41,
          77.9,
          77.53,
          82.16,
          62.67,
          79.78,
          77.52,
          74.16,
          73.02,
          64.49,
          71.2,
          78.01,
          78.97,
          75.43,
          79.5,
          76.77,
          73.23,
          75.48,
          74.47,
          71.22,
          75.79
         ],
         "yaxis": "y"
        },
        {
         "hovertemplate": "State=telangana<br>Total ad spent=%{x}<br>Voter turnout=%{y}<extra></extra>",
         "legendgroup": "telangana",
         "marker": {
          "color": "#636efa",
          "symbol": "circle"
         },
         "mode": "markers",
         "name": "telangana",
         "orientation": "v",
         "showlegend": true,
         "type": "scatter",
         "x": [
          54496166,
          54496166,
          54496166,
          54496166,
          54496166,
          54496166,
          54496166,
          54496166,
          54496166,
          54496166,
          54496166,
          54496166,
          54496166,
          54496166,
          54496166,
          54496166,
          54496166
         ],
         "xaxis": "x",
         "y": [
          74.03,
          76.78,
          56.4,
          48.48,
          72.54,
          76.09,
          71.85,
          72.43,
          50.78,
          75.09,
          69.46,
          74.02,
          71.92,
          67.87,
          49.04,
          68.86,
          74.63
         ],
         "yaxis": "y"
        },
        {
         "hovertemplate": "State=ladakh<br>Total ad spent=%{x}<br>Voter turnout=%{y}<extra></extra>",
         "legendgroup": "ladakh",
         "marker": {
          "color": "#EF553B",
          "symbol": "circle"
         },
         "mode": "markers",
         "name": "ladakh",
         "orientation": "v",
         "showlegend": true,
         "type": "scatter",
         "x": [
          null
         ],
         "xaxis": "x",
         "y": [
          71.82
         ],
         "yaxis": "y"
        },
        {
         "hovertemplate": "State=haryana<br>Total ad spent=%{x}<br>Voter turnout=%{y}<extra></extra>",
         "legendgroup": "haryana",
         "marker": {
          "color": "#00cc96",
          "symbol": "circle"
         },
         "mode": "markers",
         "name": "haryana",
         "orientation": "v",
         "showlegend": true,
         "type": "scatter",
         "x": [
          41683411,
          41683411,
          41683411,
          41683411,
          41683411,
          41683411,
          41683411,
          41683411,
          41683411,
          41683411
         ],
         "xaxis": "x",
         "y": [
          67.34,
          65.39,
          60.52,
          62.03,
          65.27,
          63.74,
          67.01,
          65.68,
          69.77,
          63.44
         ],
         "yaxis": "y"
        },
        {
         "hovertemplate": "State=nct of delhi<br>Total ad spent=%{x}<br>Voter turnout=%{y}<extra></extra>",
         "legendgroup": "nct of delhi",
         "marker": {
          "color": "#ab63fa",
          "symbol": "circle"
         },
         "mode": "markers",
         "name": "nct of delhi",
         "orientation": "v",
         "showlegend": true,
         "type": "scatter",
         "x": [
          null,
          null,
          null,
          null,
          null,
          null,
          null
         ],
         "xaxis": "x",
         "y": [
          58.6,
          59.51,
          55.43,
          62.89,
          57.85,
          56.45,
          58.79
         ],
         "yaxis": "y"
        },
        {
         "hovertemplate": "State=chandigarh<br>Total ad spent=%{x}<br>Voter turnout=%{y}<extra></extra>",
         "legendgroup": "chandigarh",
         "marker": {
          "color": "#FFA15A",
          "symbol": "circle"
         },
         "mode": "markers",
         "name": "chandigarh",
         "orientation": "v",
         "showlegend": true,
         "type": "scatter",
         "x": [
          6507258
         ],
         "xaxis": "x",
         "y": [
          67.98
         ],
         "yaxis": "y"
        },
        {
         "hovertemplate": "State=himachal pradesh<br>Total ad spent=%{x}<br>Voter turnout=%{y}<extra></extra>",
         "legendgroup": "himachal pradesh",
         "marker": {
          "color": "#19d3f3",
          "symbol": "circle"
         },
         "mode": "markers",
         "name": "himachal pradesh",
         "orientation": "v",
         "showlegend": true,
         "type": "scatter",
         "x": [
          12011616,
          12011616,
          12011616,
          12011616
         ],
         "xaxis": "x",
         "y": [
          71.56,
          67.89,
          73.15,
          71.26
         ],
         "yaxis": "y"
        },
        {
         "hovertemplate": "State=punjab<br>Total ad spent=%{x}<br>Voter turnout=%{y}<extra></extra>",
         "legendgroup": "punjab",
         "marker": {
          "color": "#FF6692",
          "symbol": "circle"
         },
         "mode": "markers",
         "name": "punjab",
         "orientation": "v",
         "showlegend": true,
         "type": "scatter",
         "x": [
          null,
          null,
          null,
          null,
          null,
          null,
          null,
          null,
          null,
          null,
          null,
          null,
          null
         ],
         "xaxis": "x",
         "y": [
          56.06,
          61.98,
          69.36,
          63.34,
          62.53,
          67.02,
          66.67,
          58.86,
          59.7,
          62.55,
          60.12,
          63.63,
          64.63
         ],
         "yaxis": "y"
        }
       ],
       "layout": {
        "height": 600,
        "legend": {
         "title": {
          "text": "State"
         },
         "tracegroupgap": 0
        },
        "template": {
         "data": {
          "bar": [
           {
            "error_x": {
             "color": "#2a3f5f"
            },
            "error_y": {
             "color": "#2a3f5f"
            },
            "marker": {
             "line": {
              "color": "white",
              "width": 0.5
             },
             "pattern": {
              "fillmode": "overlay",
              "size": 10,
              "solidity": 0.2
             }
            },
            "type": "bar"
           }
          ],
          "barpolar": [
           {
            "marker": {
             "line": {
              "color": "white",
              "width": 0.5
             },
             "pattern": {
              "fillmode": "overlay",
              "size": 10,
              "solidity": 0.2
             }
            },
            "type": "barpolar"
           }
          ],
          "carpet": [
           {
            "aaxis": {
             "endlinecolor": "#2a3f5f",
             "gridcolor": "#C8D4E3",
             "linecolor": "#C8D4E3",
             "minorgridcolor": "#C8D4E3",
             "startlinecolor": "#2a3f5f"
            },
            "baxis": {
             "endlinecolor": "#2a3f5f",
             "gridcolor": "#C8D4E3",
             "linecolor": "#C8D4E3",
             "minorgridcolor": "#C8D4E3",
             "startlinecolor": "#2a3f5f"
            },
            "type": "carpet"
           }
          ],
          "choropleth": [
           {
            "colorbar": {
             "outlinewidth": 0,
             "ticks": ""
            },
            "type": "choropleth"
           }
          ],
          "contour": [
           {
            "colorbar": {
             "outlinewidth": 0,
             "ticks": ""
            },
            "colorscale": [
             [
              0,
              "#0d0887"
             ],
             [
              0.1111111111111111,
              "#46039f"
             ],
             [
              0.2222222222222222,
              "#7201a8"
             ],
             [
              0.3333333333333333,
              "#9c179e"
             ],
             [
              0.4444444444444444,
              "#bd3786"
             ],
             [
              0.5555555555555556,
              "#d8576b"
             ],
             [
              0.6666666666666666,
              "#ed7953"
             ],
             [
              0.7777777777777778,
              "#fb9f3a"
             ],
             [
              0.8888888888888888,
              "#fdca26"
             ],
             [
              1,
              "#f0f921"
             ]
            ],
            "type": "contour"
           }
          ],
          "contourcarpet": [
           {
            "colorbar": {
             "outlinewidth": 0,
             "ticks": ""
            },
            "type": "contourcarpet"
           }
          ],
          "heatmap": [
           {
            "colorbar": {
             "outlinewidth": 0,
             "ticks": ""
            },
            "colorscale": [
             [
              0,
              "#0d0887"
             ],
             [
              0.1111111111111111,
              "#46039f"
             ],
             [
              0.2222222222222222,
              "#7201a8"
             ],
             [
              0.3333333333333333,
              "#9c179e"
             ],
             [
              0.4444444444444444,
              "#bd3786"
             ],
             [
              0.5555555555555556,
              "#d8576b"
             ],
             [
              0.6666666666666666,
              "#ed7953"
             ],
             [
              0.7777777777777778,
              "#fb9f3a"
             ],
             [
              0.8888888888888888,
              "#fdca26"
             ],
             [
              1,
              "#f0f921"
             ]
            ],
            "type": "heatmap"
           }
          ],
          "heatmapgl": [
           {
            "colorbar": {
             "outlinewidth": 0,
             "ticks": ""
            },
            "colorscale": [
             [
              0,
              "#0d0887"
             ],
             [
              0.1111111111111111,
              "#46039f"
             ],
             [
              0.2222222222222222,
              "#7201a8"
             ],
             [
              0.3333333333333333,
              "#9c179e"
             ],
             [
              0.4444444444444444,
              "#bd3786"
             ],
             [
              0.5555555555555556,
              "#d8576b"
             ],
             [
              0.6666666666666666,
              "#ed7953"
             ],
             [
              0.7777777777777778,
              "#fb9f3a"
             ],
             [
              0.8888888888888888,
              "#fdca26"
             ],
             [
              1,
              "#f0f921"
             ]
            ],
            "type": "heatmapgl"
           }
          ],
          "histogram": [
           {
            "marker": {
             "pattern": {
              "fillmode": "overlay",
              "size": 10,
              "solidity": 0.2
             }
            },
            "type": "histogram"
           }
          ],
          "histogram2d": [
           {
            "colorbar": {
             "outlinewidth": 0,
             "ticks": ""
            },
            "colorscale": [
             [
              0,
              "#0d0887"
             ],
             [
              0.1111111111111111,
              "#46039f"
             ],
             [
              0.2222222222222222,
              "#7201a8"
             ],
             [
              0.3333333333333333,
              "#9c179e"
             ],
             [
              0.4444444444444444,
              "#bd3786"
             ],
             [
              0.5555555555555556,
              "#d8576b"
             ],
             [
              0.6666666666666666,
              "#ed7953"
             ],
             [
              0.7777777777777778,
              "#fb9f3a"
             ],
             [
              0.8888888888888888,
              "#fdca26"
             ],
             [
              1,
              "#f0f921"
             ]
            ],
            "type": "histogram2d"
           }
          ],
          "histogram2dcontour": [
           {
            "colorbar": {
             "outlinewidth": 0,
             "ticks": ""
            },
            "colorscale": [
             [
              0,
              "#0d0887"
             ],
             [
              0.1111111111111111,
              "#46039f"
             ],
             [
              0.2222222222222222,
              "#7201a8"
             ],
             [
              0.3333333333333333,
              "#9c179e"
             ],
             [
              0.4444444444444444,
              "#bd3786"
             ],
             [
              0.5555555555555556,
              "#d8576b"
             ],
             [
              0.6666666666666666,
              "#ed7953"
             ],
             [
              0.7777777777777778,
              "#fb9f3a"
             ],
             [
              0.8888888888888888,
              "#fdca26"
             ],
             [
              1,
              "#f0f921"
             ]
            ],
            "type": "histogram2dcontour"
           }
          ],
          "mesh3d": [
           {
            "colorbar": {
             "outlinewidth": 0,
             "ticks": ""
            },
            "type": "mesh3d"
           }
          ],
          "parcoords": [
           {
            "line": {
             "colorbar": {
              "outlinewidth": 0,
              "ticks": ""
             }
            },
            "type": "parcoords"
           }
          ],
          "pie": [
           {
            "automargin": true,
            "type": "pie"
           }
          ],
          "scatter": [
           {
            "fillpattern": {
             "fillmode": "overlay",
             "size": 10,
             "solidity": 0.2
            },
            "type": "scatter"
           }
          ],
          "scatter3d": [
           {
            "line": {
             "colorbar": {
              "outlinewidth": 0,
              "ticks": ""
             }
            },
            "marker": {
             "colorbar": {
              "outlinewidth": 0,
              "ticks": ""
             }
            },
            "type": "scatter3d"
           }
          ],
          "scattercarpet": [
           {
            "marker": {
             "colorbar": {
              "outlinewidth": 0,
              "ticks": ""
             }
            },
            "type": "scattercarpet"
           }
          ],
          "scattergeo": [
           {
            "marker": {
             "colorbar": {
              "outlinewidth": 0,
              "ticks": ""
             }
            },
            "type": "scattergeo"
           }
          ],
          "scattergl": [
           {
            "marker": {
             "colorbar": {
              "outlinewidth": 0,
              "ticks": ""
             }
            },
            "type": "scattergl"
           }
          ],
          "scattermapbox": [
           {
            "marker": {
             "colorbar": {
              "outlinewidth": 0,
              "ticks": ""
             }
            },
            "type": "scattermapbox"
           }
          ],
          "scatterpolar": [
           {
            "marker": {
             "colorbar": {
              "outlinewidth": 0,
              "ticks": ""
             }
            },
            "type": "scatterpolar"
           }
          ],
          "scatterpolargl": [
           {
            "marker": {
             "colorbar": {
              "outlinewidth": 0,
              "ticks": ""
             }
            },
            "type": "scatterpolargl"
           }
          ],
          "scatterternary": [
           {
            "marker": {
             "colorbar": {
              "outlinewidth": 0,
              "ticks": ""
             }
            },
            "type": "scatterternary"
           }
          ],
          "surface": [
           {
            "colorbar": {
             "outlinewidth": 0,
             "ticks": ""
            },
            "colorscale": [
             [
              0,
              "#0d0887"
             ],
             [
              0.1111111111111111,
              "#46039f"
             ],
             [
              0.2222222222222222,
              "#7201a8"
             ],
             [
              0.3333333333333333,
              "#9c179e"
             ],
             [
              0.4444444444444444,
              "#bd3786"
             ],
             [
              0.5555555555555556,
              "#d8576b"
             ],
             [
              0.6666666666666666,
              "#ed7953"
             ],
             [
              0.7777777777777778,
              "#fb9f3a"
             ],
             [
              0.8888888888888888,
              "#fdca26"
             ],
             [
              1,
              "#f0f921"
             ]
            ],
            "type": "surface"
           }
          ],
          "table": [
           {
            "cells": {
             "fill": {
              "color": "#EBF0F8"
             },
             "line": {
              "color": "white"
             }
            },
            "header": {
             "fill": {
              "color": "#C8D4E3"
             },
             "line": {
              "color": "white"
             }
            },
            "type": "table"
           }
          ]
         },
         "layout": {
          "annotationdefaults": {
           "arrowcolor": "#2a3f5f",
           "arrowhead": 0,
           "arrowwidth": 1
          },
          "autotypenumbers": "strict",
          "coloraxis": {
           "colorbar": {
            "outlinewidth": 0,
            "ticks": ""
           }
          },
          "colorscale": {
           "diverging": [
            [
             0,
             "#8e0152"
            ],
            [
             0.1,
             "#c51b7d"
            ],
            [
             0.2,
             "#de77ae"
            ],
            [
             0.3,
             "#f1b6da"
            ],
            [
             0.4,
             "#fde0ef"
            ],
            [
             0.5,
             "#f7f7f7"
            ],
            [
             0.6,
             "#e6f5d0"
            ],
            [
             0.7,
             "#b8e186"
            ],
            [
             0.8,
             "#7fbc41"
            ],
            [
             0.9,
             "#4d9221"
            ],
            [
             1,
             "#276419"
            ]
           ],
           "sequential": [
            [
             0,
             "#0d0887"
            ],
            [
             0.1111111111111111,
             "#46039f"
            ],
            [
             0.2222222222222222,
             "#7201a8"
            ],
            [
             0.3333333333333333,
             "#9c179e"
            ],
            [
             0.4444444444444444,
             "#bd3786"
            ],
            [
             0.5555555555555556,
             "#d8576b"
            ],
            [
             0.6666666666666666,
             "#ed7953"
            ],
            [
             0.7777777777777778,
             "#fb9f3a"
            ],
            [
             0.8888888888888888,
             "#fdca26"
            ],
            [
             1,
             "#f0f921"
            ]
           ],
           "sequentialminus": [
            [
             0,
             "#0d0887"
            ],
            [
             0.1111111111111111,
             "#46039f"
            ],
            [
             0.2222222222222222,
             "#7201a8"
            ],
            [
             0.3333333333333333,
             "#9c179e"
            ],
            [
             0.4444444444444444,
             "#bd3786"
            ],
            [
             0.5555555555555556,
             "#d8576b"
            ],
            [
             0.6666666666666666,
             "#ed7953"
            ],
            [
             0.7777777777777778,
             "#fb9f3a"
            ],
            [
             0.8888888888888888,
             "#fdca26"
            ],
            [
             1,
             "#f0f921"
            ]
           ]
          },
          "colorway": [
           "#636efa",
           "#EF553B",
           "#00cc96",
           "#ab63fa",
           "#FFA15A",
           "#19d3f3",
           "#FF6692",
           "#B6E880",
           "#FF97FF",
           "#FECB52"
          ],
          "font": {
           "color": "#2a3f5f"
          },
          "geo": {
           "bgcolor": "white",
           "lakecolor": "white",
           "landcolor": "white",
           "showlakes": true,
           "showland": true,
           "subunitcolor": "#C8D4E3"
          },
          "hoverlabel": {
           "align": "left"
          },
          "hovermode": "closest",
          "mapbox": {
           "style": "light"
          },
          "paper_bgcolor": "white",
          "plot_bgcolor": "white",
          "polar": {
           "angularaxis": {
            "gridcolor": "#EBF0F8",
            "linecolor": "#EBF0F8",
            "ticks": ""
           },
           "bgcolor": "white",
           "radialaxis": {
            "gridcolor": "#EBF0F8",
            "linecolor": "#EBF0F8",
            "ticks": ""
           }
          },
          "scene": {
           "xaxis": {
            "backgroundcolor": "white",
            "gridcolor": "#DFE8F3",
            "gridwidth": 2,
            "linecolor": "#EBF0F8",
            "showbackground": true,
            "ticks": "",
            "zerolinecolor": "#EBF0F8"
           },
           "yaxis": {
            "backgroundcolor": "white",
            "gridcolor": "#DFE8F3",
            "gridwidth": 2,
            "linecolor": "#EBF0F8",
            "showbackground": true,
            "ticks": "",
            "zerolinecolor": "#EBF0F8"
           },
           "zaxis": {
            "backgroundcolor": "white",
            "gridcolor": "#DFE8F3",
            "gridwidth": 2,
            "linecolor": "#EBF0F8",
            "showbackground": true,
            "ticks": "",
            "zerolinecolor": "#EBF0F8"
           }
          },
          "shapedefaults": {
           "line": {
            "color": "#2a3f5f"
           }
          },
          "ternary": {
           "aaxis": {
            "gridcolor": "#DFE8F3",
            "linecolor": "#A2B1C6",
            "ticks": ""
           },
           "baxis": {
            "gridcolor": "#DFE8F3",
            "linecolor": "#A2B1C6",
            "ticks": ""
           },
           "bgcolor": "white",
           "caxis": {
            "gridcolor": "#DFE8F3",
            "linecolor": "#A2B1C6",
            "ticks": ""
           }
          },
          "title": {
           "x": 0.05
          },
          "xaxis": {
           "automargin": true,
           "gridcolor": "#EBF0F8",
           "linecolor": "#EBF0F8",
           "ticks": "",
           "title": {
            "standoff": 15
           },
           "zerolinecolor": "#EBF0F8",
           "zerolinewidth": 2
          },
          "yaxis": {
           "automargin": true,
           "gridcolor": "#EBF0F8",
           "linecolor": "#EBF0F8",
           "ticks": "",
           "title": {
            "standoff": 15
           },
           "zerolinecolor": "#EBF0F8",
           "zerolinewidth": 2
          }
         }
        },
        "title": {
         "text": "Ad Spend and Voter Turnout by Parliamentary Constituency"
        },
        "width": 800,
        "xaxis": {
         "anchor": "y",
         "autorange": true,
         "domain": [
          0,
          1
         ],
         "range": [
          -12015059.472805602,
          192287183.4728056
         ],
         "title": {
          "text": "Total ad spent"
         }
        },
        "yaxis": {
         "anchor": "x",
         "autorange": true,
         "domain": [
          0,
          1
         ],
         "range": [
          34.9101012145749,
          95.6598987854251
         ],
         "title": {
          "text": "Voter turnout"
         },
         "type": "linear"
        }
       }
      },
      "image/png": "[encoded data removed]",
      "text/html": [
       "<div>                            <div id=\"968814d8-134c-4220-abd7-862a1204473b\" class=\"plotly-graph-div\" style=\"height:600px; width:800px;\"></div>            <script type=\"text/javascript\">                require([\"plotly\"], function(Plotly) {                    window.PLOTLYENV=window.PLOTLYENV || {};                                    if (document.getElementById(\"968814d8-134c-4220-abd7-862a1204473b\")) {                    Plotly.newPlot(                        \"968814d8-134c-4220-abd7-862a1204473b\",                        [{\"hovertemplate\":\"State=andaman & nicobar islands\\u003cbr\\u003eTotal ad spent=%{x}\\u003cbr\\u003eVoter turnout=%{y}\\u003cextra\\u003e\\u003c\\u002fextra\\u003e\",\"legendgroup\":\"andaman & nicobar islands\",\"marker\":{\"color\":\"#636efa\",\"symbol\":\"circle\"},\"mode\":\"markers\",\"name\":\"andaman & nicobar islands\",\"orientation\":\"v\",\"showlegend\":true,\"x\":[null],\"xaxis\":\"x\",\"y\":[64.1],\"yaxis\":\"y\",\"type\":\"scatter\"},{\"hovertemplate\":\"State=arunachal pradesh\\u003cbr\\u003eTotal ad spent=%{x}\\u003cbr\\u003eVoter turnout=%{y}\\u003cextra\\u003e\\u003c\\u002fextra\\u003e\",\"legendgroup\":\"arunachal pradesh\",\"marker\":{\"color\":\"#EF553B\",\"symbol\":\"circle\"},\"mode\":\"markers\",\"name\":\"arunachal pradesh\",\"orientation\":\"v\",\"showlegend\":true,\"x\":[1385654.0,1385654.0],\"xaxis\":\"x\",\"y\":[83.31,73.6],\"yaxis\":\"y\",\"type\":\"scatter\"},{\"hovertemplate\":\"State=assam\\u003cbr\\u003eTotal ad spent=%{x}\\u003cbr\\u003eVoter turnout=%{y}\\u003cextra\\u003e\\u003c\\u002fextra\\u003e\",\"legendgroup\":\"assam\",\"marker\":{\"color\":\"#00cc96\",\"symbol\":\"circle\"},\"mode\":\"markers\",\"name\":\"assam\",\"orientation\":\"v\",\"showlegend\":true,\"x\":[17478091.0,17478091.0,17478091.0,17478091.0,17478091.0,17478091.0,17478091.0,17478091.0,17478091.0,17478091.0,17478091.0,17478091.0,17478091.0,17478091.0],\"xaxis\":\"x\",\"y\":[76.75,79.89,79.33,76.42,78.46,82.01,75.74,80.48,84.97,79.05,85.24,92.08,78.39,83.55],\"yaxis\":\"y\",\"type\":\"scatter\"},{\"hovertemplate\":\"State=bihar\\u003cbr\\u003eTotal ad spent=%{x}\\u003cbr\\u003eVoter turnout=%{y}\\u003cextra\\u003e\\u003c\\u002fextra\\u003e\",\"legendgroup\":\"bihar\",\"marker\":{\"color\":\"#ab63fa\",\"symbol\":\"circle\"},\"mode\":\"markers\",\"name\":\"bihar\",\"orientation\":\"v\",\"showlegend\":true,\"x\":[53619242.0,53619242.0,53619242.0,53619242.0,53619242.0,53619242.0,53619242.0,53619242.0,53619242.0,53619242.0,53619242.0,53619242.0,53619242.0,53619242.0,53619242.0,53619242.0,53619242.0,53619242.0,53619242.0,53619242.0,53619242.0,53619242.0,53619242.0,53619242.0,53619242.0,53619242.0,53619242.0,53619242.0,53619242.0,53619242.0,53619242.0,53619242.0,53619242.0,53619242.0,53619242.0,53619242.0,53619242.0,53619242.0,53619242.0,53619242.0],\"xaxis\":\"x\",\"y\":[50.35,52.76,51.25,43.17,54.48,53.5,63.76,62.84,63.08,61.93,54.48,57.52,58.29,63.55,58.7,57.37,55.55,60.11,59.59,58.43,53.04,59.47,56.73,56.21,52.32,52.27,61.62,59.68,57.4,52.49,62.59,60.19,50.27,55.39,55.09,54.68,49.78,59.24,46.85,57.16],\"yaxis\":\"y\",\"type\":\"scatter\"},{\"hovertemplate\":\"State=chhattisgarh\\u003cbr\\u003eTotal ad spent=%{x}\\u003cbr\\u003eVoter turnout=%{y}\\u003cextra\\u003e\\u003c\\u002fextra\\u003e\",\"legendgroup\":\"chhattisgarh\",\"marker\":{\"color\":\"#FFA15A\",\"symbol\":\"circle\"},\"mode\":\"markers\",\"name\":\"chhattisgarh\",\"orientation\":\"v\",\"showlegend\":true,\"x\":[14803286.0,14803286.0,14803286.0,14803286.0,14803286.0,14803286.0,14803286.0,14803286.0,14803286.0,14803286.0,14803286.0],\"xaxis\":\"x\",\"y\":[68.29,76.23,75.02,77.42,64.77,73.68,67.56,75.63,78.85,66.82,79.89],\"yaxis\":\"y\",\"type\":\"scatter\"},{\"hovertemplate\":\"State=jammu and kashmir\\u003cbr\\u003eTotal ad spent=%{x}\\u003cbr\\u003eVoter turnout=%{y}\\u003cextra\\u003e\\u003c\\u002fextra\\u003e\",\"legendgroup\":\"jammu and kashmir\",\"marker\":{\"color\":\"#19d3f3\",\"symbol\":\"circle\"},\"mode\":\"markers\",\"name\":\"jammu and kashmir\",\"orientation\":\"v\",\"showlegend\":true,\"x\":[6575061.0,6575061.0,6575061.0,6575061.0,6575061.0],\"xaxis\":\"x\",\"y\":[68.27,72.22,38.49,59.1,55.4],\"yaxis\":\"y\",\"type\":\"scatter\"},{\"hovertemplate\":\"State=lakshadweep\\u003cbr\\u003eTotal ad spent=%{x}\\u003cbr\\u003eVoter turnout=%{y}\\u003cextra\\u003e\\u003c\\u002fextra\\u003e\",\"legendgroup\":\"lakshadweep\",\"marker\":{\"color\":\"#FF6692\",\"symbol\":\"circle\"},\"mode\":\"markers\",\"name\":\"lakshadweep\",\"orientation\":\"v\",\"showlegend\":true,\"x\":[19847.0],\"xaxis\":\"x\",\"y\":[84.16],\"yaxis\":\"y\",\"type\":\"scatter\"},{\"hovertemplate\":\"State=madhya pradesh\\u003cbr\\u003eTotal ad spent=%{x}\\u003cbr\\u003eVoter turnout=%{y}\\u003cextra\\u003e\\u003c\\u002fextra\\u003e\",\"legendgroup\":\"madhya pradesh\",\"marker\":{\"color\":\"#B6E880\",\"symbol\":\"circle\"},\"mode\":\"markers\",\"name\":\"madhya pradesh\",\"orientation\":\"v\",\"showlegend\":true,\"x\":[39992952.0,39992952.0,39992952.0,39992952.0,39992952.0,39992952.0,39992952.0,39992952.0,39992952.0,39992952.0,39992952.0,39992952.0,39992952.0,39992952.0,39992952.0,39992952.0,39992952.0,39992952.0,39992952.0,39992952.0,39992952.0,39992952.0,39992952.0,39992952.0,39992952.0,39992952.0,39992952.0,39992952.0,39992952.0],\"xaxis\":\"x\",\"y\":[73.45,79.83,61.0,72.84,64.68,56.5,56.48,67.21,56.97,49.43,61.94,60.0,73.53,54.93,64.06,72.43,62.13,58.97,76.04,65.75,74.48,75.48,72.76,61.67,71.52,76.03,75.27,72.94,73.82],\"yaxis\":\"y\",\"type\":\"scatter\"},{\"hovertemplate\":\"State=maharashtra\\u003cbr\\u003eTotal ad spent=%{x}\\u003cbr\\u003eVoter turnout=%{y}\\u003cextra\\u003e\\u003c\\u002fextra\\u003e\",\"legendgroup\":\"maharashtra\",\"marker\":{\"color\":\"#FF97FF\",\"symbol\":\"circle\"},\"mode\":\"markers\",\"name\":\"maharashtra\",\"orientation\":\"v\",\"showlegend\":true,\"x\":[101917091.0,101917091.0,101917091.0,101917091.0,101917091.0,101917091.0,101917091.0,101917091.0,101917091.0,101917091.0,101917091.0,101917091.0,101917091.0,101917091.0,101917091.0,101917091.0,101917091.0,101917091.0,101917091.0,101917091.0,101917091.0,101917091.0,101917091.0,101917091.0,101917091.0,101917091.0,101917091.0,101917091.0,101917091.0,101917091.0,101917091.0,101917091.0,101917091.0,101917091.0,101917091.0,101917091.0,101917091.0,101917091.0,101917091.0,101917091.0,101917091.0,101917091.0,101917091.0,101917091.0,101917091.0,101917091.0,101917091.0,101917091.0],\"xaxis\":\"x\",\"y\":[67.04,67.55,71.88,54.32,61.01,61.79,63.67,62.03,63.54,60.94,62.26,64.85,62.87,59.5,71.11,71.59,62.59,63.65,63.88,60.51,62.52,62.27,63.16,59.19,66.61,63.03,70.92,58.47,69.18,54.87,70.68,53.54,64.28,63.03,54.16,59.89,60.21,66.75,50.12,57.02,51.98,56.37,54.84,50.06,53.6,60.75,63.91,52.09],\"yaxis\":\"y\",\"type\":\"scatter\"},{\"hovertemplate\":\"State=manipur\\u003cbr\\u003eTotal ad spent=%{x}\\u003cbr\\u003eVoter turnout=%{y}\\u003cextra\\u003e\\u003c\\u002fextra\\u003e\",\"legendgroup\":\"manipur\",\"marker\":{\"color\":\"#FECB52\",\"symbol\":\"circle\"},\"mode\":\"markers\",\"name\":\"manipur\",\"orientation\":\"v\",\"showlegend\":true,\"x\":[889062.0,889062.0,889062.0],\"xaxis\":\"x\",\"y\":[80.15,68.83,85.11],\"yaxis\":\"y\",\"type\":\"scatter\"},{\"hovertemplate\":\"State=meghalaya\\u003cbr\\u003eTotal ad spent=%{x}\\u003cbr\\u003eVoter turnout=%{y}\\u003cextra\\u003e\\u003c\\u002fextra\\u003e\",\"legendgroup\":\"meghalaya\",\"marker\":{\"color\":\"#636efa\",\"symbol\":\"circle\"},\"mode\":\"markers\",\"name\":\"meghalaya\",\"orientation\":\"v\",\"showlegend\":true,\"x\":[884220.0,884220.0],\"xaxis\":\"x\",\"y\":[73.78,81.37],\"yaxis\":\"y\",\"type\":\"scatter\"},{\"hovertemplate\":\"State=mizoram\\u003cbr\\u003eTotal ad spent=%{x}\\u003cbr\\u003eVoter turnout=%{y}\\u003cextra\\u003e\\u003c\\u002fextra\\u003e\",\"legendgroup\":\"mizoram\",\"marker\":{\"color\":\"#EF553B\",\"symbol\":\"circle\"},\"mode\":\"markers\",\"name\":\"mizoram\",\"orientation\":\"v\",\"showlegend\":true,\"x\":[481052.0],\"xaxis\":\"x\",\"y\":[56.87],\"yaxis\":\"y\",\"type\":\"scatter\"},{\"hovertemplate\":\"State=nagaland\\u003cbr\\u003eTotal ad spent=%{x}\\u003cbr\\u003eVoter turnout=%{y}\\u003cextra\\u003e\\u003c\\u002fextra\\u003e\",\"legendgroup\":\"nagaland\",\"marker\":{\"color\":\"#00cc96\",\"symbol\":\"circle\"},\"mode\":\"markers\",\"name\":\"nagaland\",\"orientation\":\"v\",\"showlegend\":true,\"x\":[599170.0],\"xaxis\":\"x\",\"y\":[57.72],\"yaxis\":\"y\",\"type\":\"scatter\"},{\"hovertemplate\":\"State=puducherry\\u003cbr\\u003eTotal ad spent=%{x}\\u003cbr\\u003eVoter turnout=%{y}\\u003cextra\\u003e\\u003c\\u002fextra\\u003e\",\"legendgroup\":\"puducherry\",\"marker\":{\"color\":\"#ab63fa\",\"symbol\":\"circle\"},\"mode\":\"markers\",\"name\":\"puducherry\",\"orientation\":\"v\",\"showlegend\":true,\"x\":[1535672.0],\"xaxis\":\"x\",\"y\":[78.9],\"yaxis\":\"y\",\"type\":\"scatter\"},{\"hovertemplate\":\"State=rajasthan\\u003cbr\\u003eTotal ad spent=%{x}\\u003cbr\\u003eVoter turnout=%{y}\\u003cextra\\u003e\\u003c\\u002fextra\\u003e\",\"legendgroup\":\"rajasthan\",\"marker\":{\"color\":\"#FFA15A\",\"symbol\":\"circle\"},\"mode\":\"markers\",\"name\":\"rajasthan\",\"orientation\":\"v\",\"showlegend\":true,\"x\":[41268323.0,41268323.0,41268323.0,41268323.0,41268323.0,41268323.0,41268323.0,41268323.0,41268323.0,41268323.0,41268323.0,41268323.0,41268323.0,41268323.0,41268323.0,41268323.0,41268323.0,41268323.0,41268323.0,41268323.0,41268323.0,41268323.0,41268323.0,41268323.0,41268323.0],\"xaxis\":\"x\",\"y\":[60.07,52.8,54.11,63.61,55.72,66.59,63.38,56.7,52.93,49.59,57.23,57.53,59.66,73.88,75.93,60.37,68.61,62.89,69.71,64.27,71.26,57.19,58.39,56.58,66.66],\"yaxis\":\"y\",\"type\":\"scatter\"},{\"hovertemplate\":\"State=sikkim\\u003cbr\\u003eTotal ad spent=%{x}\\u003cbr\\u003eVoter turnout=%{y}\\u003cextra\\u003e\\u003c\\u002fextra\\u003e\",\"legendgroup\":\"sikkim\",\"marker\":{\"color\":\"#19d3f3\",\"symbol\":\"circle\"},\"mode\":\"markers\",\"name\":\"sikkim\",\"orientation\":\"v\",\"showlegend\":true,\"x\":[4379297.0],\"xaxis\":\"x\",\"y\":[79.88],\"yaxis\":\"y\",\"type\":\"scatter\"},{\"hovertemplate\":\"State=tamil nadu\\u003cbr\\u003eTotal ad spent=%{x}\\u003cbr\\u003eVoter turnout=%{y}\\u003cextra\\u003e\\u003c\\u002fextra\\u003e\",\"legendgroup\":\"tamil nadu\",\"marker\":{\"color\":\"#FF6692\",\"symbol\":\"circle\"},\"mode\":\"markers\",\"name\":\"tamil nadu\",\"orientation\":\"v\",\"showlegend\":true,\"x\":[76622608.0,76622608.0,76622608.0,76622608.0,76622608.0,76622608.0,76622608.0,76622608.0,76622608.0,76622608.0,76622608.0,76622608.0,76622608.0,76622608.0,76622608.0,76622608.0,76622608.0,76622608.0,76622608.0,76622608.0,76622608.0,76622608.0,76622608.0,76622608.0,76622608.0,76622608.0,76622608.0,76622608.0,76622608.0,76622608.0,76622608.0,76622608.0,76622608.0,76622608.0,76622608.0,76622608.0,76622608.0,76622608.0,76622608.0],\"xaxis\":\"x\",\"y\":[74.19,75.76,53.96,60.11,54.17,76.37,64.89,72.57,81.2,71.14,70.59,79.21,71.68,65.44,78.7,71.5,62.04,70.09,71.94,78.21,70.95,77.43,70.41,68.19,78.16,64.26,60.25,67.65,68.27,69.84,66.88,67.51,64.1,70.62,68.59,74.24,73.53,76.52,70.22],\"yaxis\":\"y\",\"type\":\"scatter\"},{\"hovertemplate\":\"State=tripura\\u003cbr\\u003eTotal ad spent=%{x}\\u003cbr\\u003eVoter turnout=%{y}\\u003cextra\\u003e\\u003c\\u002fextra\\u003e\",\"legendgroup\":\"tripura\",\"marker\":{\"color\":\"#B6E880\",\"symbol\":\"circle\"},\"mode\":\"markers\",\"name\":\"tripura\",\"orientation\":\"v\",\"showlegend\":true,\"x\":[1857459.0,1857459.0],\"xaxis\":\"x\",\"y\":[81.48,80.36],\"yaxis\":\"y\",\"type\":\"scatter\"},{\"hovertemplate\":\"State=uttar pradesh\\u003cbr\\u003eTotal ad spent=%{x}\\u003cbr\\u003eVoter turnout=%{y}\\u003cextra\\u003e\\u003c\\u002fextra\\u003e\",\"legendgroup\":\"uttar pradesh\",\"marker\":{\"color\":\"#FF97FF\",\"symbol\":\"circle\"},\"mode\":\"markers\",\"name\":\"uttar pradesh\",\"orientation\":\"v\",\"showlegend\":true,\"x\":[89668131.0,89668131.0,89668131.0,89668131.0,89668131.0,89668131.0,89668131.0,89668131.0,89668131.0,89668131.0,89668131.0,89668131.0,89668131.0,89668131.0,89668131.0,89668131.0,89668131.0,89668131.0,89668131.0,89668131.0,89668131.0,89668131.0,89668131.0,89668131.0,89668131.0,89668131.0,89668131.0,89668131.0,89668131.0,89668131.0,89668131.0,89668131.0,89668131.0,89668131.0,89668131.0,89668131.0,89668131.0,89668131.0,89668131.0,89668131.0,89668131.0,89668131.0,89668131.0,89668131.0,89668131.0,89668131.0,89668131.0,89668131.0,89668131.0,89668131.0,89668131.0,89668131.0,89668131.0,89668131.0,89668131.0,89668131.0,89668131.0,89668131.0,89668131.0,89668131.0,89668131.0,89668131.0,89668131.0,89668131.0,89668131.0,89668131.0,89668131.0,89668131.0,89668131.0,89668131.0,89668131.0,89668131.0,89668131.0,89668131.0,89668131.0,89668131.0,89668131.0,89668131.0,89668131.0,89668131.0],\"xaxis\":\"x\",\"y\":[58.73,62.46,62.18,59.13,60.75,63.11,55.85,66.14,56.93,64.58,56.16,56.42,53.63,49.88,49.41,58.94,54.08,57.44,54.35,58.03,59.31,57.19,58.53,55.71,58.73,62.91,57.78,57.42,64.54,56.36,59.08,57.52,61.08,53.05,64.68,55.89,53.36,62.54,55.46,54.34,59.7,67.2,59.14,57.09,51.62,60.6,56.18,63.86,55.68,52.8,52.28,62.88,58.12,51.82,61.58,56.16,56.67,53.07,51.97,55.59,54.38,54.49,48.91,51.45,52.57,52.83,55.63,52.05,51.79,60.58,55.51,55.45,55.05,54.93,57.57,60.31,57.92,56.78,51.38,56.49],\"yaxis\":\"y\",\"type\":\"scatter\"},{\"hovertemplate\":\"State=uttarakhand\\u003cbr\\u003eTotal ad spent=%{x}\\u003cbr\\u003eVoter turnout=%{y}\\u003cextra\\u003e\\u003c\\u002fextra\\u003e\",\"legendgroup\":\"uttarakhand\",\"marker\":{\"color\":\"#FECB52\",\"symbol\":\"circle\"},\"mode\":\"markers\",\"name\":\"uttarakhand\",\"orientation\":\"v\",\"showlegend\":true,\"x\":[7140897.0,7140897.0,7140897.0,7140897.0,7140897.0],\"xaxis\":\"x\",\"y\":[48.74,52.42,63.53,62.47,53.76],\"yaxis\":\"y\",\"type\":\"scatter\"},{\"hovertemplate\":\"State=west bengal\\u003cbr\\u003eTotal ad spent=%{x}\\u003cbr\\u003eVoter turnout=%{y}\\u003cextra\\u003e\\u003c\\u002fextra\\u003e\",\"legendgroup\":\"west bengal\",\"marker\":{\"color\":\"#636efa\",\"symbol\":\"circle\"},\"mode\":\"markers\",\"name\":\"west bengal\",\"orientation\":\"v\",\"showlegend\":true,\"x\":[77244996.0,77244996.0,77244996.0,77244996.0,77244996.0,77244996.0,77244996.0,77244996.0,77244996.0,77244996.0,77244996.0,77244996.0,77244996.0,77244996.0,77244996.0,77244996.0,77244996.0,77244996.0,77244996.0,77244996.0,77244996.0,77244996.0,77244996.0,77244996.0,77244996.0,77244996.0,77244996.0,77244996.0,77244996.0,77244996.0,77244996.0,77244996.0,77244996.0,77244996.0,77244996.0,77244996.0,77244996.0,77244996.0,77244996.0,77244996.0,77244996.0,77244996.0],\"xaxis\":\"x\",\"y\":[79.76,82.16,83.66,79.09,74.76,76.18,75.72,76.69,76.03,81.52,73.27,77.54,82.85,80.72,81.91,82.66,80.65,81.87,82.62,81.04,75.41,81.38,71.73,76.44,79.78,80.75,85.91,82.17,83.47,84.77,81.56,78.39,84.79,80.17,84.31,81.04,73.81,76.68,80.08,66.95,63.59,82.02],\"yaxis\":\"y\",\"type\":\"scatter\"},{\"hovertemplate\":\"State=karnataka\\u003cbr\\u003eTotal ad spent=%{x}\\u003cbr\\u003eVoter turnout=%{y}\\u003cextra\\u003e\\u003c\\u002fextra\\u003e\",\"legendgroup\":\"karnataka\",\"marker\":{\"color\":\"#00cc96\",\"symbol\":\"circle\"},\"mode\":\"markers\",\"name\":\"karnataka\",\"orientation\":\"v\",\"showlegend\":true,\"x\":[41659397.0,41659397.0,41659397.0,41659397.0,41659397.0,41659397.0,41659397.0,41659397.0,41659397.0,41659397.0,41659397.0,41659397.0,41659397.0,41659397.0,41659397.0,41659397.0,41659397.0,41659397.0,41659397.0,41659397.0,41659397.0,41659397.0,41659397.0,41659397.0,41659397.0,41659397.0,41659397.0,41659397.0],\"xaxis\":\"x\",\"y\":[54.06,54.45,68.3,53.17,76.82,77.0,73.3,77.56,77.68,78.27,81.67,70.62,78.05,77.15,72.66,71.49,73.59,65.47,66.32,78.66,76.99,74.37,62.25,77.6,70.99,64.66,78.33,76.53],\"yaxis\":\"y\",\"type\":\"scatter\"},{\"hovertemplate\":\"State=kerala\\u003cbr\\u003eTotal ad spent=%{x}\\u003cbr\\u003eVoter turnout=%{y}\\u003cextra\\u003e\\u003c\\u002fextra\\u003e\",\"legendgroup\":\"kerala\",\"marker\":{\"color\":\"#ab63fa\",\"symbol\":\"circle\"},\"mode\":\"markers\",\"name\":\"kerala\",\"orientation\":\"v\",\"showlegend\":true,\"x\":[22681201.0,22681201.0,22681201.0,22681201.0,22681201.0,22681201.0,22681201.0,22681201.0,22681201.0,22681201.0,22681201.0,22681201.0,22681201.0,22681201.0,22681201.0,22681201.0,22681201.0,22681201.0,22681201.0,22681201.0],\"xaxis\":\"x\",\"y\":[75.05,73.42,69.48,71.94,68.29,66.55,77.21,76.04,68.15,65.61,75.52,72.95,65.95,73.57,63.37,69.34,66.47,72.9,78.41,73.57],\"yaxis\":\"y\",\"type\":\"scatter\"},{\"hovertemplate\":\"State=dadra & nagar haveli and\\ndaman & diu\\u003cbr\\u003eTotal ad spent=%{x}\\u003cbr\\u003eVoter turnout=%{y}\\u003cextra\\u003e\\u003c\\u002fextra\\u003e\",\"legendgroup\":\"dadra & nagar haveli and\\ndaman & diu\",\"marker\":{\"color\":\"#FFA15A\",\"symbol\":\"circle\"},\"mode\":\"markers\",\"name\":\"dadra & nagar haveli and\\ndaman & diu\",\"orientation\":\"v\",\"showlegend\":true,\"x\":[null,null],\"xaxis\":\"x\",\"y\":[72.52,68.77],\"yaxis\":\"y\",\"type\":\"scatter\"},{\"hovertemplate\":\"State=goa\\u003cbr\\u003eTotal ad spent=%{x}\\u003cbr\\u003eVoter turnout=%{y}\\u003cextra\\u003e\\u003c\\u002fextra\\u003e\",\"legendgroup\":\"goa\",\"marker\":{\"color\":\"#19d3f3\",\"symbol\":\"circle\"},\"mode\":\"markers\",\"name\":\"goa\",\"orientation\":\"v\",\"showlegend\":true,\"x\":[2164209.0,2164209.0],\"xaxis\":\"x\",\"y\":[77.69,74.47],\"yaxis\":\"y\",\"type\":\"scatter\"},{\"hovertemplate\":\"State=gujarat\\u003cbr\\u003eTotal ad spent=%{x}\\u003cbr\\u003eVoter turnout=%{y}\\u003cextra\\u003e\\u003c\\u002fextra\\u003e\",\"legendgroup\":\"gujarat\",\"marker\":{\"color\":\"#FF6692\",\"symbol\":\"circle\"},\"mode\":\"markers\",\"name\":\"gujarat\",\"orientation\":\"v\",\"showlegend\":true,\"x\":[40425399.0,40425399.0,40425399.0,40425399.0,40425399.0,40425399.0,40425399.0,40425399.0,40425399.0,40425399.0,40425399.0,40425399.0,40425399.0,40425399.0,40425399.0,40425399.0,40425399.0,40425399.0,40425399.0,40425399.0,40425399.0,40425399.0,40425399.0,40425399.0,40425399.0],\"xaxis\":\"x\",\"y\":[54.72,55.45,50.29,65.04,69.62,64.81,69.16,53.92,69.15,59.31,59.8,57.67,58.91,56.14,58.12,59.86,59.66,58.85,58.56,51.83,59.69,63.56,55.09,61.59,72.71],\"yaxis\":\"y\",\"type\":\"scatter\"},{\"hovertemplate\":\"State=andhra pradesh\\u003cbr\\u003eTotal ad spent=%{x}\\u003cbr\\u003eVoter turnout=%{y}\\u003cextra\\u003e\\u003c\\u002fextra\\u003e\",\"legendgroup\":\"andhra pradesh\",\"marker\":{\"color\":\"#B6E880\",\"symbol\":\"circle\"},\"mode\":\"markers\",\"name\":\"andhra pradesh\",\"orientation\":\"v\",\"showlegend\":true,\"x\":[100819732.0,100819732.0,100819732.0,100819732.0,100819732.0,100819732.0,100819732.0,100819732.0,100819732.0,100819732.0,100819732.0,100819732.0,100819732.0,100819732.0,100819732.0,100819732.0,100819732.0,100819732.0,100819732.0,100819732.0,100819732.0,100819732.0,100819732.0,100819732.0,100819732.0],\"xaxis\":\"x\",\"y\":[83.85,82.03,80.51,73.68,85.48,85.77,83.68,78.81,84.7,79.57,80.3,76.8,84.05,80.61,82.59,85.65,79.05,87.06,80.93,79.09,74.43,79.1,79.37,71.11,81.05],\"yaxis\":\"y\",\"type\":\"scatter\"},{\"hovertemplate\":\"State=jharkhand\\u003cbr\\u003eTotal ad spent=%{x}\\u003cbr\\u003eVoter turnout=%{y}\\u003cextra\\u003e\\u003c\\u002fextra\\u003e\",\"legendgroup\":\"jharkhand\",\"marker\":{\"color\":\"#FF97FF\",\"symbol\":\"circle\"},\"mode\":\"markers\",\"name\":\"jharkhand\",\"orientation\":\"v\",\"showlegend\":true,\"x\":[16380139.0,16380139.0,16380139.0,16380139.0,16380139.0,16380139.0,16380139.0,16380139.0,16380139.0,16380139.0,16380139.0,16380139.0,16380139.0,16380139.0],\"xaxis\":\"x\",\"y\":[69.93,66.45,61.27,69.32,63.69,64.39,61.81,62.06,67.23,67.68,65.36,73.87,68.63,70.78],\"yaxis\":\"y\",\"type\":\"scatter\"},{\"hovertemplate\":\"State=odisha\\u003cbr\\u003eTotal ad spent=%{x}\\u003cbr\\u003eVoter turnout=%{y}\\u003cextra\\u003e\\u003c\\u002fextra\\u003e\",\"legendgroup\":\"odisha\",\"marker\":{\"color\":\"#FECB52\",\"symbol\":\"circle\"},\"mode\":\"markers\",\"name\":\"odisha\",\"orientation\":\"v\",\"showlegend\":true,\"x\":[180252277.0,180252277.0,180252277.0,180252277.0,180252277.0,180252277.0,180252277.0,180252277.0,180252277.0,180252277.0,180252277.0,180252277.0,180252277.0,180252277.0,180252277.0,180252277.0,180252277.0,180252277.0,180252277.0,180252277.0,180252277.0],\"xaxis\":\"x\",\"y\":[65.41,77.9,77.53,82.16,62.67,79.78,77.52,74.16,73.02,64.49,71.2,78.01,78.97,75.43,79.5,76.77,73.23,75.48,74.47,71.22,75.79],\"yaxis\":\"y\",\"type\":\"scatter\"},{\"hovertemplate\":\"State=telangana\\u003cbr\\u003eTotal ad spent=%{x}\\u003cbr\\u003eVoter turnout=%{y}\\u003cextra\\u003e\\u003c\\u002fextra\\u003e\",\"legendgroup\":\"telangana\",\"marker\":{\"color\":\"#636efa\",\"symbol\":\"circle\"},\"mode\":\"markers\",\"name\":\"telangana\",\"orientation\":\"v\",\"showlegend\":true,\"x\":[54496166.0,54496166.0,54496166.0,54496166.0,54496166.0,54496166.0,54496166.0,54496166.0,54496166.0,54496166.0,54496166.0,54496166.0,54496166.0,54496166.0,54496166.0,54496166.0,54496166.0],\"xaxis\":\"x\",\"y\":[74.03,76.78,56.4,48.48,72.54,76.09,71.85,72.43,50.78,75.09,69.46,74.02,71.92,67.87,49.04,68.86,74.63],\"yaxis\":\"y\",\"type\":\"scatter\"},{\"hovertemplate\":\"State=ladakh\\u003cbr\\u003eTotal ad spent=%{x}\\u003cbr\\u003eVoter turnout=%{y}\\u003cextra\\u003e\\u003c\\u002fextra\\u003e\",\"legendgroup\":\"ladakh\",\"marker\":{\"color\":\"#EF553B\",\"symbol\":\"circle\"},\"mode\":\"markers\",\"name\":\"ladakh\",\"orientation\":\"v\",\"showlegend\":true,\"x\":[null],\"xaxis\":\"x\",\"y\":[71.82],\"yaxis\":\"y\",\"type\":\"scatter\"},{\"hovertemplate\":\"State=haryana\\u003cbr\\u003eTotal ad spent=%{x}\\u003cbr\\u003eVoter turnout=%{y}\\u003cextra\\u003e\\u003c\\u002fextra\\u003e\",\"legendgroup\":\"haryana\",\"marker\":{\"color\":\"#00cc96\",\"symbol\":\"circle\"},\"mode\":\"markers\",\"name\":\"haryana\",\"orientation\":\"v\",\"showlegend\":true,\"x\":[41683411.0,41683411.0,41683411.0,41683411.0,41683411.0,41683411.0,41683411.0,41683411.0,41683411.0,41683411.0],\"xaxis\":\"x\",\"y\":[67.34,65.39,60.52,62.03,65.27,63.74,67.01,65.68,69.77,63.44],\"yaxis\":\"y\",\"type\":\"scatter\"},{\"hovertemplate\":\"State=nct of delhi\\u003cbr\\u003eTotal ad spent=%{x}\\u003cbr\\u003eVoter turnout=%{y}\\u003cextra\\u003e\\u003c\\u002fextra\\u003e\",\"legendgroup\":\"nct of delhi\",\"marker\":{\"color\":\"#ab63fa\",\"symbol\":\"circle\"},\"mode\":\"markers\",\"name\":\"nct of delhi\",\"orientation\":\"v\",\"showlegend\":true,\"x\":[null,null,null,null,null,null,null],\"xaxis\":\"x\",\"y\":[58.6,59.51,55.43,62.89,57.85,56.45,58.79],\"yaxis\":\"y\",\"type\":\"scatter\"},{\"hovertemplate\":\"State=chandigarh\\u003cbr\\u003eTotal ad spent=%{x}\\u003cbr\\u003eVoter turnout=%{y}\\u003cextra\\u003e\\u003c\\u002fextra\\u003e\",\"legendgroup\":\"chandigarh\",\"marker\":{\"color\":\"#FFA15A\",\"symbol\":\"circle\"},\"mode\":\"markers\",\"name\":\"chandigarh\",\"orientation\":\"v\",\"showlegend\":true,\"x\":[6507258.0],\"xaxis\":\"x\",\"y\":[67.98],\"yaxis\":\"y\",\"type\":\"scatter\"},{\"hovertemplate\":\"State=himachal pradesh\\u003cbr\\u003eTotal ad spent=%{x}\\u003cbr\\u003eVoter turnout=%{y}\\u003cextra\\u003e\\u003c\\u002fextra\\u003e\",\"legendgroup\":\"himachal pradesh\",\"marker\":{\"color\":\"#19d3f3\",\"symbol\":\"circle\"},\"mode\":\"markers\",\"name\":\"himachal pradesh\",\"orientation\":\"v\",\"showlegend\":true,\"x\":[12011616.0,12011616.0,12011616.0,12011616.0],\"xaxis\":\"x\",\"y\":[71.56,67.89,73.15,71.26],\"yaxis\":\"y\",\"type\":\"scatter\"},{\"hovertemplate\":\"State=punjab\\u003cbr\\u003eTotal ad spent=%{x}\\u003cbr\\u003eVoter turnout=%{y}\\u003cextra\\u003e\\u003c\\u002fextra\\u003e\",\"legendgroup\":\"punjab\",\"marker\":{\"color\":\"#FF6692\",\"symbol\":\"circle\"},\"mode\":\"markers\",\"name\":\"punjab\",\"orientation\":\"v\",\"showlegend\":true,\"x\":[null,null,null,null,null,null,null,null,null,null,null,null,null],\"xaxis\":\"x\",\"y\":[56.06,61.98,69.36,63.34,62.53,67.02,66.67,58.86,59.7,62.55,60.12,63.63,64.63],\"yaxis\":\"y\",\"type\":\"scatter\"}],                        {\"template\":{\"data\":{\"histogram2dcontour\":[{\"type\":\"histogram2dcontour\",\"colorbar\":{\"outlinewidth\":0,\"ticks\":\"\"},\"colorscale\":[[0.0,\"#0d0887\"],[0.1111111111111111,\"#46039f\"],[0.2222222222222222,\"#7201a8\"],[0.3333333333333333,\"#9c179e\"],[0.4444444444444444,\"#bd3786\"],[0.5555555555555556,\"#d8576b\"],[0.6666666666666666,\"#ed7953\"],[0.7777777777777778,\"#fb9f3a\"],[0.8888888888888888,\"#fdca26\"],[1.0,\"#f0f921\"]]}],\"choropleth\":[{\"type\":\"choropleth\",\"colorbar\":{\"outlinewidth\":0,\"ticks\":\"\"}}],\"histogram2d\":[{\"type\":\"histogram2d\",\"colorbar\":{\"outlinewidth\":0,\"ticks\":\"\"},\"colorscale\":[[0.0,\"#0d0887\"],[0.1111111111111111,\"#46039f\"],[0.2222222222222222,\"#7201a8\"],[0.3333333333333333,\"#9c179e\"],[0.4444444444444444,\"#bd3786\"],[0.5555555555555556,\"#d8576b\"],[0.6666666666666666,\"#ed7953\"],[0.7777777777777778,\"#fb9f3a\"],[0.8888888888888888,\"#fdca26\"],[1.0,\"#f0f921\"]]}],\"heatmap\":[{\"type\":\"heatmap\",\"colorbar\":{\"outlinewidth\":0,\"ticks\":\"\"},\"colorscale\":[[0.0,\"#0d0887\"],[0.1111111111111111,\"#46039f\"],[0.2222222222222222,\"#7201a8\"],[0.3333333333333333,\"#9c179e\"],[0.4444444444444444,\"#bd3786\"],[0.5555555555555556,\"#d8576b\"],[0.6666666666666666,\"#ed7953\"],[0.7777777777777778,\"#fb9f3a\"],[0.8888888888888888,\"#fdca26\"],[1.0,\"#f0f921\"]]}],\"heatmapgl\":[{\"type\":\"heatmapgl\",\"colorbar\":{\"outlinewidth\":0,\"ticks\":\"\"},\"colorscale\":[[0.0,\"#0d0887\"],[0.1111111111111111,\"#46039f\"],[0.2222222222222222,\"#7201a8\"],[0.3333333333333333,\"#9c179e\"],[0.4444444444444444,\"#bd3786\"],[0.5555555555555556,\"#d8576b\"],[0.6666666666666666,\"#ed7953\"],[0.7777777777777778,\"#fb9f3a\"],[0.8888888888888888,\"#fdca26\"],[1.0,\"#f0f921\"]]}],\"contourcarpet\":[{\"type\":\"contourcarpet\",\"colorbar\":{\"outlinewidth\":0,\"ticks\":\"\"}}],\"contour\":[{\"type\":\"contour\",\"colorbar\":{\"outlinewidth\":0,\"ticks\":\"\"},\"colorscale\":[[0.0,\"#0d0887\"],[0.1111111111111111,\"#46039f\"],[0.2222222222222222,\"#7201a8\"],[0.3333333333333333,\"#9c179e\"],[0.4444444444444444,\"#bd3786\"],[0.5555555555555556,\"#d8576b\"],[0.6666666666666666,\"#ed7953\"],[0.7777777777777778,\"#fb9f3a\"],[0.8888888888888888,\"#fdca26\"],[1.0,\"#f0f921\"]]}],\"surface\":[{\"type\":\"surface\",\"colorbar\":{\"outlinewidth\":0,\"ticks\":\"\"},\"colorscale\":[[0.0,\"#0d0887\"],[0.1111111111111111,\"#46039f\"],[0.2222222222222222,\"#7201a8\"],[0.3333333333333333,\"#9c179e\"],[0.4444444444444444,\"#bd3786\"],[0.5555555555555556,\"#d8576b\"],[0.6666666666666666,\"#ed7953\"],[0.7777777777777778,\"#fb9f3a\"],[0.8888888888888888,\"#fdca26\"],[1.0,\"#f0f921\"]]}],\"mesh3d\":[{\"type\":\"mesh3d\",\"colorbar\":{\"outlinewidth\":0,\"ticks\":\"\"}}],\"scatter\":[{\"fillpattern\":{\"fillmode\":\"overlay\",\"size\":10,\"solidity\":0.2},\"type\":\"scatter\"}],\"parcoords\":[{\"type\":\"parcoords\",\"line\":{\"colorbar\":{\"outlinewidth\":0,\"ticks\":\"\"}}}],\"scatterpolargl\":[{\"type\":\"scatterpolargl\",\"marker\":{\"colorbar\":{\"outlinewidth\":0,\"ticks\":\"\"}}}],\"bar\":[{\"error_x\":{\"color\":\"#2a3f5f\"},\"error_y\":{\"color\":\"#2a3f5f\"},\"marker\":{\"line\":{\"color\":\"white\",\"width\":0.5},\"pattern\":{\"fillmode\":\"overlay\",\"size\":10,\"solidity\":0.2}},\"type\":\"bar\"}],\"scattergeo\":[{\"type\":\"scattergeo\",\"marker\":{\"colorbar\":{\"outlinewidth\":0,\"ticks\":\"\"}}}],\"scatterpolar\":[{\"type\":\"scatterpolar\",\"marker\":{\"colorbar\":{\"outlinewidth\":0,\"ticks\":\"\"}}}],\"histogram\":[{\"marker\":{\"pattern\":{\"fillmode\":\"overlay\",\"size\":10,\"solidity\":0.2}},\"type\":\"histogram\"}],\"scattergl\":[{\"type\":\"scattergl\",\"marker\":{\"colorbar\":{\"outlinewidth\":0,\"ticks\":\"\"}}}],\"scatter3d\":[{\"type\":\"scatter3d\",\"line\":{\"colorbar\":{\"outlinewidth\":0,\"ticks\":\"\"}},\"marker\":{\"colorbar\":{\"outlinewidth\":0,\"ticks\":\"\"}}}],\"scattermapbox\":[{\"type\":\"scattermapbox\",\"marker\":{\"colorbar\":{\"outlinewidth\":0,\"ticks\":\"\"}}}],\"scatterternary\":[{\"type\":\"scatterternary\",\"marker\":{\"colorbar\":{\"outlinewidth\":0,\"ticks\":\"\"}}}],\"scattercarpet\":[{\"type\":\"scattercarpet\",\"marker\":{\"colorbar\":{\"outlinewidth\":0,\"ticks\":\"\"}}}],\"carpet\":[{\"aaxis\":{\"endlinecolor\":\"#2a3f5f\",\"gridcolor\":\"#C8D4E3\",\"linecolor\":\"#C8D4E3\",\"minorgridcolor\":\"#C8D4E3\",\"startlinecolor\":\"#2a3f5f\"},\"baxis\":{\"endlinecolor\":\"#2a3f5f\",\"gridcolor\":\"#C8D4E3\",\"linecolor\":\"#C8D4E3\",\"minorgridcolor\":\"#C8D4E3\",\"startlinecolor\":\"#2a3f5f\"},\"type\":\"carpet\"}],\"table\":[{\"cells\":{\"fill\":{\"color\":\"#EBF0F8\"},\"line\":{\"color\":\"white\"}},\"header\":{\"fill\":{\"color\":\"#C8D4E3\"},\"line\":{\"color\":\"white\"}},\"type\":\"table\"}],\"barpolar\":[{\"marker\":{\"line\":{\"color\":\"white\",\"width\":0.5},\"pattern\":{\"fillmode\":\"overlay\",\"size\":10,\"solidity\":0.2}},\"type\":\"barpolar\"}],\"pie\":[{\"automargin\":true,\"type\":\"pie\"}]},\"layout\":{\"autotypenumbers\":\"strict\",\"colorway\":[\"#636efa\",\"#EF553B\",\"#00cc96\",\"#ab63fa\",\"#FFA15A\",\"#19d3f3\",\"#FF6692\",\"#B6E880\",\"#FF97FF\",\"#FECB52\"],\"font\":{\"color\":\"#2a3f5f\"},\"hovermode\":\"closest\",\"hoverlabel\":{\"align\":\"left\"},\"paper_bgcolor\":\"white\",\"plot_bgcolor\":\"white\",\"polar\":{\"bgcolor\":\"white\",\"angularaxis\":{\"gridcolor\":\"#EBF0F8\",\"linecolor\":\"#EBF0F8\",\"ticks\":\"\"},\"radialaxis\":{\"gridcolor\":\"#EBF0F8\",\"linecolor\":\"#EBF0F8\",\"ticks\":\"\"}},\"ternary\":{\"bgcolor\":\"white\",\"aaxis\":{\"gridcolor\":\"#DFE8F3\",\"linecolor\":\"#A2B1C6\",\"ticks\":\"\"},\"baxis\":{\"gridcolor\":\"#DFE8F3\",\"linecolor\":\"#A2B1C6\",\"ticks\":\"\"},\"caxis\":{\"gridcolor\":\"#DFE8F3\",\"linecolor\":\"#A2B1C6\",\"ticks\":\"\"}},\"coloraxis\":{\"colorbar\":{\"outlinewidth\":0,\"ticks\":\"\"}},\"colorscale\":{\"sequential\":[[0.0,\"#0d0887\"],[0.1111111111111111,\"#46039f\"],[0.2222222222222222,\"#7201a8\"],[0.3333333333333333,\"#9c179e\"],[0.4444444444444444,\"#bd3786\"],[0.5555555555555556,\"#d8576b\"],[0.6666666666666666,\"#ed7953\"],[0.7777777777777778,\"#fb9f3a\"],[0.8888888888888888,\"#fdca26\"],[1.0,\"#f0f921\"]],\"sequentialminus\":[[0.0,\"#0d0887\"],[0.1111111111111111,\"#46039f\"],[0.2222222222222222,\"#7201a8\"],[0.3333333333333333,\"#9c179e\"],[0.4444444444444444,\"#bd3786\"],[0.5555555555555556,\"#d8576b\"],[0.6666666666666666,\"#ed7953\"],[0.7777777777777778,\"#fb9f3a\"],[0.8888888888888888,\"#fdca26\"],[1.0,\"#f0f921\"]],\"diverging\":[[0,\"#8e0152\"],[0.1,\"#c51b7d\"],[0.2,\"#de77ae\"],[0.3,\"#f1b6da\"],[0.4,\"#fde0ef\"],[0.5,\"#f7f7f7\"],[0.6,\"#e6f5d0\"],[0.7,\"#b8e186\"],[0.8,\"#7fbc41\"],[0.9,\"#4d9221\"],[1,\"#276419\"]]},\"xaxis\":{\"gridcolor\":\"#EBF0F8\",\"linecolor\":\"#EBF0F8\",\"ticks\":\"\",\"title\":{\"standoff\":15},\"zerolinecolor\":\"#EBF0F8\",\"automargin\":true,\"zerolinewidth\":2},\"yaxis\":{\"gridcolor\":\"#EBF0F8\",\"linecolor\":\"#EBF0F8\",\"ticks\":\"\",\"title\":{\"standoff\":15},\"zerolinecolor\":\"#EBF0F8\",\"automargin\":true,\"zerolinewidth\":2},\"scene\":{\"xaxis\":{\"backgroundcolor\":\"white\",\"gridcolor\":\"#DFE8F3\",\"linecolor\":\"#EBF0F8\",\"showbackground\":true,\"ticks\":\"\",\"zerolinecolor\":\"#EBF0F8\",\"gridwidth\":2},\"yaxis\":{\"backgroundcolor\":\"white\",\"gridcolor\":\"#DFE8F3\",\"linecolor\":\"#EBF0F8\",\"showbackground\":true,\"ticks\":\"\",\"zerolinecolor\":\"#EBF0F8\",\"gridwidth\":2},\"zaxis\":{\"backgroundcolor\":\"white\",\"gridcolor\":\"#DFE8F3\",\"linecolor\":\"#EBF0F8\",\"showbackground\":true,\"ticks\":\"\",\"zerolinecolor\":\"#EBF0F8\",\"gridwidth\":2}},\"shapedefaults\":{\"line\":{\"color\":\"#2a3f5f\"}},\"annotationdefaults\":{\"arrowcolor\":\"#2a3f5f\",\"arrowhead\":0,\"arrowwidth\":1},\"geo\":{\"bgcolor\":\"white\",\"landcolor\":\"white\",\"subunitcolor\":\"#C8D4E3\",\"showland\":true,\"showlakes\":true,\"lakecolor\":\"white\"},\"title\":{\"x\":0.05},\"mapbox\":{\"style\":\"light\"}}},\"xaxis\":{\"anchor\":\"y\",\"domain\":[0.0,1.0],\"title\":{\"text\":\"Total ad spent\"}},\"yaxis\":{\"anchor\":\"x\",\"domain\":[0.0,1.0],\"title\":{\"text\":\"Voter turnout\"}},\"legend\":{\"title\":{\"text\":\"State\"},\"tracegroupgap\":0},\"title\":{\"text\":\"Ad Spend and Voter Turnout by Parliamentary Constituency\"},\"height\":600,\"width\":800},                        {\"responsive\": true}                    ).then(function(){\n",
       "                            \n",
       "var gd = document.getElementById('968814d8-134c-4220-abd7-862a1204473b');\n",
       "var x = new MutationObserver(function (mutations, observer) {{\n",
       "        var display = window.getComputedStyle(gd).display;\n",
       "        if (!display || display === 'none') {{\n",
       "            console.log([gd, 'removed!']);\n",
       "            Plotly.purge(gd);\n",
       "            observer.disconnect();\n",
       "        }}\n",
       "}});\n",
       "\n",
       "// Listen for the removal of the full notebook cells\n",
       "var notebookContainer = gd.closest('#notebook-container');\n",
       "if (notebookContainer) {{\n",
       "    x.observe(notebookContainer, {childList: true});\n",
       "}}\n",
       "\n",
       "// Listen for the clearing of the current output cell\n",
       "var outputEl = gd.closest('.output');\n",
       "if (outputEl) {{\n",
       "    x.observe(outputEl, {childList: true});\n",
       "}}\n",
       "\n",
       "                        })                };                });            </script>        </div>"
      ]
     },
     "metadata": {},
     "output_type": "display_data"
    }
   ],
   "source": [
    "merged_constituency_data = results.merge(locations, left_on = 'State', right_on = 'Location name', how = 'left')\n",
    "#merged_constituency_data.head()\n",
    "fig = px.scatter(merged_constituency_data, x = 'Amount spent (INR)', y = 'Polled (%)' , color  = 'State',\n",
    "                labels= {'Amount spent (INR)': 'Total ad spent','Polled (%)' : 'Voter turnout'},\n",
    "                title = 'Ad Spend and Voter Turnout by Parliamentary Constituency')\n",
    "fig.update_layout(height = 600, width = 800)\n",
    "\n",
    "fig.show()"
   ]
  },
  {
   "cell_type": "code",
   "execution_count": null,
   "id": "0014448a-c73c-44fd-b50f-ef95f1c8fbfc",
   "metadata": {},
   "outputs": [],
   "source": []
  }
 ],
 "metadata": {
  "kernelspec": {
   "display_name": "Python 3 (ipykernel)",
   "language": "python",
   "name": "python3"
  },
  "language_info": {
   "codemirror_mode": {
    "name": "ipython",
    "version": 3
   },
   "file_extension": ".py",
   "mimetype": "text/x-python",
   "name": "python",
   "nbconvert_exporter": "python",
   "pygments_lexer": "ipython3",
   "version": "3.12.4"
  }
 },
 "nbformat": 4,
 "nbformat_minor": 5
}
